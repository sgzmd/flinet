{
 "cells": [
  {
   "cell_type": "markdown",
   "metadata": {},
   "source": [
    "Importing the stuff we need"
   ]
  },
  {
   "cell_type": "code",
   "execution_count": 1,
   "metadata": {},
   "outputs": [
    {
     "name": "stderr",
     "output_type": "stream",
     "text": [
      "2023-11-27 18:43:39.482517: E tensorflow/compiler/xla/stream_executor/cuda/cuda_dnn.cc:9342] Unable to register cuDNN factory: Attempting to register factory for plugin cuDNN when one has already been registered\n",
      "2023-11-27 18:43:39.482569: E tensorflow/compiler/xla/stream_executor/cuda/cuda_fft.cc:609] Unable to register cuFFT factory: Attempting to register factory for plugin cuFFT when one has already been registered\n",
      "2023-11-27 18:43:39.482582: E tensorflow/compiler/xla/stream_executor/cuda/cuda_blas.cc:1518] Unable to register cuBLAS factory: Attempting to register factory for plugin cuBLAS when one has already been registered\n",
      "2023-11-27 18:43:39.494958: I tensorflow/core/platform/cpu_feature_guard.cc:182] This TensorFlow binary is optimized to use available CPU instructions in performance-critical operations.\n",
      "To enable the following instructions: AVX2 FMA, in other operations, rebuild TensorFlow with the appropriate compiler flags.\n"
     ]
    }
   ],
   "source": [
    "import pandas as pd\n",
    "import numpy as np\n",
    "import tensorflow as tf\n",
    "from transformers import AutoTokenizer, TFAutoModel\n",
    "from tensorflow.keras.layers import Input, Dense, GlobalMaxPool1D\n",
    "from tensorflow.keras.models import Model\n",
    "from tensorflow.keras.optimizers import Adam\n",
    "from sklearn.model_selection import train_test_split\n",
    "import nltk"
   ]
  },
  {
   "cell_type": "code",
   "execution_count": 2,
   "metadata": {},
   "outputs": [
    {
     "name": "stderr",
     "output_type": "stream",
     "text": [
      "[nltk_data] Downloading package punkt to /home/sgzmd/nltk_data...\n",
      "[nltk_data]   Package punkt is already up-to-date!\n"
     ]
    }
   ],
   "source": [
    "nltk.download('punkt')\n",
    "from nltk.tokenize import sent_tokenize"
   ]
  },
  {
   "cell_type": "markdown",
   "metadata": {},
   "source": [
    "Defining some constants"
   ]
  },
  {
   "cell_type": "code",
   "execution_count": 3,
   "metadata": {},
   "outputs": [],
   "source": [
    "# Constants\n",
    "MODEL_NAME = 'DeepPavlov/rubert-base-cased'\n",
    "MAX_TOKENS = 128"
   ]
  },
  {
   "cell_type": "markdown",
   "metadata": {},
   "source": [
    "Let's read and pre-process the data"
   ]
  },
  {
   "cell_type": "code",
   "execution_count": 4,
   "metadata": {},
   "outputs": [
    {
     "data": {
      "text/html": [
       "<div>\n",
       "<style scoped>\n",
       "    .dataframe tbody tr th:only-of-type {\n",
       "        vertical-align: middle;\n",
       "    }\n",
       "\n",
       "    .dataframe tbody tr th {\n",
       "        vertical-align: top;\n",
       "    }\n",
       "\n",
       "    .dataframe thead th {\n",
       "        text-align: right;\n",
       "    }\n",
       "</style>\n",
       "<table border=\"1\" class=\"dataframe\">\n",
       "  <thead>\n",
       "    <tr style=\"text-align: right;\">\n",
       "      <th></th>\n",
       "      <th>body</th>\n",
       "      <th>genre</th>\n",
       "      <th>selected</th>\n",
       "      <th>file_name</th>\n",
       "      <th>is_sf</th>\n",
       "    </tr>\n",
       "  </thead>\n",
       "  <tbody>\n",
       "    <tr>\n",
       "      <th>0</th>\n",
       "      <td>была неизбежно наступить ночь – черная, безна...</td>\n",
       "      <td>sf</td>\n",
       "      <td>0</td>\n",
       "      <td>110526.fb2</td>\n",
       "      <td>True</td>\n",
       "    </tr>\n",
       "    <tr>\n",
       "      <th>1</th>\n",
       "      <td>На полу валялись скорченные окурки папирос, в...</td>\n",
       "      <td>sf_fantasy</td>\n",
       "      <td>0</td>\n",
       "      <td>110525.fb2</td>\n",
       "      <td>True</td>\n",
       "    </tr>\n",
       "    <tr>\n",
       "      <th>2</th>\n",
       "      <td>орда подростков, от грохота дребезжали стекла...</td>\n",
       "      <td>sf</td>\n",
       "      <td>0</td>\n",
       "      <td>110519.fb2</td>\n",
       "      <td>True</td>\n",
       "    </tr>\n",
       "    <tr>\n",
       "      <th>3</th>\n",
       "      <td>небесной в четвертый день творения. Под звезд...</td>\n",
       "      <td>sf</td>\n",
       "      <td>0</td>\n",
       "      <td>110536.fb2</td>\n",
       "      <td>True</td>\n",
       "    </tr>\n",
       "    <tr>\n",
       "      <th>4</th>\n",
       "      <td>беседой Штирлица и Мюллера и на мой вопрос ко...</td>\n",
       "      <td>sf</td>\n",
       "      <td>0</td>\n",
       "      <td>110523.fb2</td>\n",
       "      <td>True</td>\n",
       "    </tr>\n",
       "  </tbody>\n",
       "</table>\n",
       "</div>"
      ],
      "text/plain": [
       "                                                body       genre  selected  \\\n",
       "0   была неизбежно наступить ночь – черная, безна...          sf         0   \n",
       "1   На полу валялись скорченные окурки папирос, в...  sf_fantasy         0   \n",
       "2   орда подростков, от грохота дребезжали стекла...          sf         0   \n",
       "3   небесной в четвертый день творения. Под звезд...          sf         0   \n",
       "4   беседой Штирлица и Мюллера и на мой вопрос ко...          sf         0   \n",
       "\n",
       "    file_name  is_sf  \n",
       "0  110526.fb2   True  \n",
       "1  110525.fb2   True  \n",
       "2  110519.fb2   True  \n",
       "3  110536.fb2   True  \n",
       "4  110523.fb2   True  "
      ]
     },
     "execution_count": 4,
     "metadata": {},
     "output_type": "execute_result"
    }
   ],
   "source": [
    "df = pd.read_csv(\"../full-flibusta-filenames-small-matched.csv\")  # Load the CSV file into a pandas DataFrame\n",
    "\n",
    "# drop all non-string records, unclear where they are coming from\n",
    "df = df[df.apply(lambda row: isinstance(row['body'], str) and isinstance(row['genre'], str), axis=1)]\n",
    "\n",
    "def is_sf_genre(genre: str) -> bool:\n",
    "    return genre.startswith('sf') or genre == 'popadanec' or genre == 'litrpg'\n",
    "\n",
    "# define is_sf label\n",
    "df['is_sf'] = df['genre'].apply(lambda genres: any(is_sf_genre(genre) for genre in genres.split(',')))\n",
    "df.head()"
   ]
  },
  {
   "cell_type": "code",
   "execution_count": 5,
   "metadata": {},
   "outputs": [
    {
     "data": {
      "text/html": [
       "<div>\n",
       "<style scoped>\n",
       "    .dataframe tbody tr th:only-of-type {\n",
       "        vertical-align: middle;\n",
       "    }\n",
       "\n",
       "    .dataframe tbody tr th {\n",
       "        vertical-align: top;\n",
       "    }\n",
       "\n",
       "    .dataframe thead th {\n",
       "        text-align: right;\n",
       "    }\n",
       "</style>\n",
       "<table border=\"1\" class=\"dataframe\">\n",
       "  <thead>\n",
       "    <tr style=\"text-align: right;\">\n",
       "      <th></th>\n",
       "      <th>body</th>\n",
       "      <th>genre</th>\n",
       "      <th>selected</th>\n",
       "      <th>file_name</th>\n",
       "      <th>is_sf</th>\n",
       "    </tr>\n",
       "  </thead>\n",
       "  <tbody>\n",
       "    <tr>\n",
       "      <th>297</th>\n",
       "      <td>\\n    Перед вами — новая, уже десятая по счету...</td>\n",
       "      <td>home_health</td>\n",
       "      <td>0</td>\n",
       "      <td>413458.fb2</td>\n",
       "      <td>False</td>\n",
       "    </tr>\n",
       "    <tr>\n",
       "      <th>517</th>\n",
       "      <td>\\n    …Мир Большого Киева. Совершенно невероят...</td>\n",
       "      <td>sf_fantasy</td>\n",
       "      <td>0</td>\n",
       "      <td>132993.fb2</td>\n",
       "      <td>True</td>\n",
       "    </tr>\n",
       "    <tr>\n",
       "      <th>121</th>\n",
       "      <td>Вернуться из школы и обнаружить свой дом в огн...</td>\n",
       "      <td>popadanec,fantasy_fight</td>\n",
       "      <td>1</td>\n",
       "      <td>674302.fb2</td>\n",
       "      <td>True</td>\n",
       "    </tr>\n",
       "    <tr>\n",
       "      <th>481</th>\n",
       "      <td>\\n    …Мир Большого Киева.\\n    Совершенно нев...</td>\n",
       "      <td>sf_fantasy</td>\n",
       "      <td>0</td>\n",
       "      <td>427345.fb2</td>\n",
       "      <td>True</td>\n",
       "    </tr>\n",
       "    <tr>\n",
       "      <th>482</th>\n",
       "      <td>Привычный мир рушится. На фоне падения мировой...</td>\n",
       "      <td>city_fantasy,sf_heroic,foreign_fantasy</td>\n",
       "      <td>0</td>\n",
       "      <td>465491.fb2</td>\n",
       "      <td>True</td>\n",
       "    </tr>\n",
       "    <tr>\n",
       "      <th>190</th>\n",
       "      <td>Японская школьница Хикэри Накамото не думала ч...</td>\n",
       "      <td>sf_detective,love_sf,sf_action</td>\n",
       "      <td>1</td>\n",
       "      <td>730010.fb2</td>\n",
       "      <td>True</td>\n",
       "    </tr>\n",
       "    <tr>\n",
       "      <th>347</th>\n",
       "      <td>\"Информация о моей смерти несколько преувеличе...</td>\n",
       "      <td>child_tale,russian_contemporary</td>\n",
       "      <td>0</td>\n",
       "      <td>628105.fb2</td>\n",
       "      <td>False</td>\n",
       "    </tr>\n",
       "    <tr>\n",
       "      <th>99</th>\n",
       "      <td>\\n        Вместе с заветным титулом я приобрел...</td>\n",
       "      <td>novel,popadantsy,fantasy-action,sf-history</td>\n",
       "      <td>1</td>\n",
       "      <td>645318.fb2</td>\n",
       "      <td>True</td>\n",
       "    </tr>\n",
       "    <tr>\n",
       "      <th>14</th>\n",
       "      <td>\\n    Обновлено 29.04.17 Конфедерацией одержан...</td>\n",
       "      <td>sf_action,sf_history</td>\n",
       "      <td>1</td>\n",
       "      <td>519631.fb2</td>\n",
       "      <td>True</td>\n",
       "    </tr>\n",
       "    <tr>\n",
       "      <th>391</th>\n",
       "      <td>Литературный дебют немецкого журналиста Тимура...</td>\n",
       "      <td>foreign_contemporary</td>\n",
       "      <td>0</td>\n",
       "      <td>369942.fb2</td>\n",
       "      <td>False</td>\n",
       "    </tr>\n",
       "  </tbody>\n",
       "</table>\n",
       "</div>"
      ],
      "text/plain": [
       "                                                  body  \\\n",
       "297  \\n    Перед вами — новая, уже десятая по счету...   \n",
       "517  \\n    …Мир Большого Киева. Совершенно невероят...   \n",
       "121  Вернуться из школы и обнаружить свой дом в огн...   \n",
       "481  \\n    …Мир Большого Киева.\\n    Совершенно нев...   \n",
       "482  Привычный мир рушится. На фоне падения мировой...   \n",
       "190  Японская школьница Хикэри Накамото не думала ч...   \n",
       "347  \"Информация о моей смерти несколько преувеличе...   \n",
       "99   \\n        Вместе с заветным титулом я приобрел...   \n",
       "14   \\n    Обновлено 29.04.17 Конфедерацией одержан...   \n",
       "391  Литературный дебют немецкого журналиста Тимура...   \n",
       "\n",
       "                                          genre  selected   file_name  is_sf  \n",
       "297                                 home_health         0  413458.fb2  False  \n",
       "517                                  sf_fantasy         0  132993.fb2   True  \n",
       "121                     popadanec,fantasy_fight         1  674302.fb2   True  \n",
       "481                                  sf_fantasy         0  427345.fb2   True  \n",
       "482      city_fantasy,sf_heroic,foreign_fantasy         0  465491.fb2   True  \n",
       "190              sf_detective,love_sf,sf_action         1  730010.fb2   True  \n",
       "347             child_tale,russian_contemporary         0  628105.fb2  False  \n",
       "99   novel,popadantsy,fantasy-action,sf-history         1  645318.fb2   True  \n",
       "14                         sf_action,sf_history         1  519631.fb2   True  \n",
       "391                        foreign_contemporary         0  369942.fb2  False  "
      ]
     },
     "execution_count": 5,
     "metadata": {},
     "output_type": "execute_result"
    }
   ],
   "source": [
    "# Filter the dataframe based on the conditions\n",
    "df_selected_1 = df[(df['selected'] == 1)]\n",
    "df_selected_0 = df[(df['selected'] == 0) & (~df['is_sf'])]\n",
    "\n",
    "# -1 are manually selected negative samples\n",
    "df_selected_neg = df[(df['selected'] == -1)]\n",
    "\n",
    "# Sample the same number of records where selected = 0\n",
    "df_selected_0_sampled = df_selected_0.sample(n=len(df_selected_1), random_state=42)\n",
    "\n",
    "negative_samples = pd.concat([df_selected_0_sampled, df_selected_neg])\n",
    "\n",
    "# Set 'selected' to 0 for all negative_samples\n",
    "negative_samples['selected'] = 0\n",
    "\n",
    "# Concatenate the two dataframes\n",
    "new_df = pd.concat([df_selected_1, negative_samples])\n",
    "\n",
    "# Reset the index of the new dataframe\n",
    "new_df.reset_index(drop=True, inplace=True)\n",
    "\n",
    "# Print the new dataframe\n",
    "new_df.sample(10)\n"
   ]
  },
  {
   "cell_type": "markdown",
   "metadata": {},
   "source": [
    "Defining tokenizer and some helper methods"
   ]
  },
  {
   "cell_type": "code",
   "execution_count": 6,
   "metadata": {},
   "outputs": [],
   "source": [
    "# Tokenizer\n",
    "tokenizer = AutoTokenizer.from_pretrained(MODEL_NAME)\n",
    "\n",
    "# Function to segment and tokenize text\n",
    "def segment_and_tokenize(text):\n",
    "    # Split text into sentences\n",
    "    sentences = sent_tokenize(text, language='russian')\n",
    "    tokenized_output = []\n",
    "    attention_mask_output = []\n",
    "\n",
    "    for sentence in sentences:\n",
    "        # Tokenize each sentence\n",
    "        tokens = tokenizer.encode_plus(sentence, add_special_tokens=True, max_length=MAX_TOKENS, \n",
    "                                       truncation=True, padding='max_length', return_tensors='tf')\n",
    "        tokenized_output.append(tokens['input_ids'])\n",
    "        attention_mask_output.append(tokens['attention_mask'])\n",
    "\n",
    "        # Check if we've reached the maximum number of tokens\n",
    "        if sum([len(t[0]) for t in tokenized_output]) >= MAX_TOKENS:\n",
    "            break\n",
    "\n",
    "    # Combine tokenized sentences up to the maximum length\n",
    "    input_ids = tf.concat(tokenized_output, axis=1)[0,:MAX_TOKENS]\n",
    "    attention_mask = tf.concat(attention_mask_output, axis=1)[0,:MAX_TOKENS]\n",
    "\n",
    "    return input_ids, attention_mask"
   ]
  },
  {
   "cell_type": "markdown",
   "metadata": {},
   "source": [
    "Let's run the tokenization and segmentation of the data"
   ]
  },
  {
   "cell_type": "code",
   "execution_count": 7,
   "metadata": {},
   "outputs": [
    {
     "name": "stderr",
     "output_type": "stream",
     "text": [
      "2023-11-27 18:45:22.535606: I tensorflow/compiler/xla/stream_executor/cuda/cuda_gpu_executor.cc:880] could not open file to read NUMA node: /sys/bus/pci/devices/0000:26:00.0/numa_node\n",
      "Your kernel may have been built without NUMA support.\n",
      "2023-11-27 18:45:22.541693: I tensorflow/compiler/xla/stream_executor/cuda/cuda_gpu_executor.cc:880] could not open file to read NUMA node: /sys/bus/pci/devices/0000:26:00.0/numa_node\n",
      "Your kernel may have been built without NUMA support.\n",
      "2023-11-27 18:45:22.541727: I tensorflow/compiler/xla/stream_executor/cuda/cuda_gpu_executor.cc:880] could not open file to read NUMA node: /sys/bus/pci/devices/0000:26:00.0/numa_node\n",
      "Your kernel may have been built without NUMA support.\n",
      "2023-11-27 18:45:22.542886: I tensorflow/compiler/xla/stream_executor/cuda/cuda_gpu_executor.cc:880] could not open file to read NUMA node: /sys/bus/pci/devices/0000:26:00.0/numa_node\n",
      "Your kernel may have been built without NUMA support.\n",
      "2023-11-27 18:45:22.542915: I tensorflow/compiler/xla/stream_executor/cuda/cuda_gpu_executor.cc:880] could not open file to read NUMA node: /sys/bus/pci/devices/0000:26:00.0/numa_node\n",
      "Your kernel may have been built without NUMA support.\n",
      "2023-11-27 18:45:22.542931: I tensorflow/compiler/xla/stream_executor/cuda/cuda_gpu_executor.cc:880] could not open file to read NUMA node: /sys/bus/pci/devices/0000:26:00.0/numa_node\n",
      "Your kernel may have been built without NUMA support.\n",
      "2023-11-27 18:45:23.244341: I tensorflow/compiler/xla/stream_executor/cuda/cuda_gpu_executor.cc:880] could not open file to read NUMA node: /sys/bus/pci/devices/0000:26:00.0/numa_node\n",
      "Your kernel may have been built without NUMA support.\n",
      "2023-11-27 18:45:23.244383: I tensorflow/compiler/xla/stream_executor/cuda/cuda_gpu_executor.cc:880] could not open file to read NUMA node: /sys/bus/pci/devices/0000:26:00.0/numa_node\n",
      "Your kernel may have been built without NUMA support.\n",
      "2023-11-27 18:45:23.244389: I tensorflow/core/common_runtime/gpu/gpu_device.cc:1977] Could not identify NUMA node of platform GPU id 0, defaulting to 0.  Your kernel may not have been built with NUMA support.\n",
      "2023-11-27 18:45:23.244416: I tensorflow/compiler/xla/stream_executor/cuda/cuda_gpu_executor.cc:880] could not open file to read NUMA node: /sys/bus/pci/devices/0000:26:00.0/numa_node\n",
      "Your kernel may have been built without NUMA support.\n",
      "2023-11-27 18:45:23.244478: I tensorflow/core/common_runtime/gpu/gpu_device.cc:1886] Created device /job:localhost/replica:0/task:0/device:GPU:0 with 5925 MB memory:  -> device: 0, name: NVIDIA GeForce RTX 2070, pci bus id: 0000:26:00.0, compute capability: 7.5\n"
     ]
    }
   ],
   "source": [
    "# Apply the function to the dataset\n",
    "new_df['segmented_data'] = new_df['body'].apply(segment_and_tokenize)\n",
    "new_df[['tokens', 'attention_mask']] = pd.DataFrame(new_df['segmented_data'].tolist(), index=new_df.index)"
   ]
  },
  {
   "cell_type": "markdown",
   "metadata": {},
   "source": [
    "Now let's prepare and split the dataset"
   ]
  },
  {
   "cell_type": "code",
   "execution_count": 8,
   "metadata": {},
   "outputs": [],
   "source": [
    "# Prepare dataset\n",
    "X_ids = np.array(new_df['tokens'].tolist())\n",
    "X_mask = np.array(new_df['attention_mask'].tolist())\n",
    "\n",
    "y = new_df['is_sf'].values\n",
    "X_train_ids, X_test_ids, X_train_mask, X_test_mask, y_train, y_test = train_test_split(X_ids, X_mask, y, test_size=0.2)\n"
   ]
  },
  {
   "cell_type": "markdown",
   "metadata": {},
   "source": [
    "Let's load the model now and define how we are fine-tuning it"
   ]
  },
  {
   "cell_type": "code",
   "execution_count": 9,
   "metadata": {},
   "outputs": [
    {
     "name": "stderr",
     "output_type": "stream",
     "text": [
      "2023-11-27 18:45:27.010504: I tensorflow/tsl/platform/default/subprocess.cc:304] Start cannot spawn child process: No such file or directory\n",
      "Some weights of the PyTorch model were not used when initializing the TF 2.0 model TFBertModel: ['cls.predictions.decoder.bias', 'cls.predictions.bias', 'cls.predictions.transform.LayerNorm.bias', 'cls.seq_relationship.bias', 'cls.predictions.transform.dense.weight', 'cls.predictions.decoder.weight', 'cls.predictions.transform.dense.bias', 'bert.embeddings.position_ids', 'cls.seq_relationship.weight', 'cls.predictions.transform.LayerNorm.weight']\n",
      "- This IS expected if you are initializing TFBertModel from a PyTorch model trained on another task or with another architecture (e.g. initializing a TFBertForSequenceClassification model from a BertForPreTraining model).\n",
      "- This IS NOT expected if you are initializing TFBertModel from a PyTorch model that you expect to be exactly identical (e.g. initializing a TFBertForSequenceClassification model from a BertForSequenceClassification model).\n",
      "All the weights of TFBertModel were initialized from the PyTorch model.\n",
      "If your task is similar to the task the model of the checkpoint was trained on, you can already use TFBertModel for predictions without further training.\n"
     ]
    }
   ],
   "source": [
    "bert = TFAutoModel.from_pretrained(MODEL_NAME, from_pt=True)\n",
    "input_ids = Input(shape=(MAX_TOKENS,), dtype=tf.int32, name='input_ids')\n",
    "input_mask = Input(shape=(MAX_TOKENS,), dtype=tf.int32, name='attention_mask')\n",
    "\n",
    "embeddings = bert(input_ids, attention_mask=input_mask)[0]\n",
    "pooled = GlobalMaxPool1D()(embeddings)\n",
    "output = Dense(1, activation='sigmoid')(pooled)\n",
    "\n",
    "model = Model(inputs=[input_ids, input_mask], outputs=output)"
   ]
  },
  {
   "cell_type": "code",
   "execution_count": 10,
   "metadata": {},
   "outputs": [],
   "source": [
    "model.compile(optimizer=Adam(learning_rate=5e-5), loss='binary_crossentropy', metrics=['accuracy'])"
   ]
  },
  {
   "cell_type": "code",
   "execution_count": 11,
   "metadata": {},
   "outputs": [
    {
     "name": "stdout",
     "output_type": "stream",
     "text": [
      "Epoch 1/8\n",
      "WARNING:tensorflow:Gradients do not exist for variables ['tf_bert_model/bert/pooler/dense/kernel:0', 'tf_bert_model/bert/pooler/dense/bias:0'] when minimizing the loss. If you're using `model.compile()`, did you forget to provide a `loss` argument?\n",
      "WARNING:tensorflow:Gradients do not exist for variables ['tf_bert_model/bert/pooler/dense/kernel:0', 'tf_bert_model/bert/pooler/dense/bias:0'] when minimizing the loss. If you're using `model.compile()`, did you forget to provide a `loss` argument?\n",
      "WARNING:tensorflow:Gradients do not exist for variables ['tf_bert_model/bert/pooler/dense/kernel:0', 'tf_bert_model/bert/pooler/dense/bias:0'] when minimizing the loss. If you're using `model.compile()`, did you forget to provide a `loss` argument?\n",
      "WARNING:tensorflow:Gradients do not exist for variables ['tf_bert_model/bert/pooler/dense/kernel:0', 'tf_bert_model/bert/pooler/dense/bias:0'] when minimizing the loss. If you're using `model.compile()`, did you forget to provide a `loss` argument?\n"
     ]
    },
    {
     "name": "stderr",
     "output_type": "stream",
     "text": [
      "2023-11-27 18:45:44.954161: I tensorflow/compiler/xla/service/service.cc:168] XLA service 0x7f9290162620 initialized for platform CUDA (this does not guarantee that XLA will be used). Devices:\n",
      "2023-11-27 18:45:44.954187: I tensorflow/compiler/xla/service/service.cc:176]   StreamExecutor device (0): NVIDIA GeForce RTX 2070, Compute Capability 7.5\n",
      "2023-11-27 18:45:44.957788: I tensorflow/compiler/mlir/tensorflow/utils/dump_mlir_util.cc:269] disabling MLIR crash reproducer, set env var `MLIR_CRASH_REPRODUCER_DIRECTORY` to enable.\n",
      "2023-11-27 18:45:45.058915: I tensorflow/compiler/xla/stream_executor/cuda/cuda_dnn.cc:442] Loaded cuDNN version 8700\n",
      "2023-11-27 18:45:45.097658: I ./tensorflow/compiler/jit/device_compiler.h:186] Compiled cluster using XLA!  This line is logged at most once for the lifetime of the process.\n"
     ]
    },
    {
     "name": "stdout",
     "output_type": "stream",
     "text": [
      "21/21 [==============================] - 32s 570ms/step - loss: 0.6141 - accuracy: 0.7018 - val_loss: 0.3368 - val_accuracy: 0.8571\n",
      "Epoch 2/8\n",
      "21/21 [==============================] - 12s 591ms/step - loss: 0.1571 - accuracy: 0.9458 - val_loss: 0.3640 - val_accuracy: 0.8095\n",
      "Epoch 3/8\n",
      "21/21 [==============================] - 14s 689ms/step - loss: 0.0491 - accuracy: 0.9849 - val_loss: 0.4006 - val_accuracy: 0.8452\n",
      "Epoch 4/8\n",
      "21/21 [==============================] - 12s 584ms/step - loss: 0.0156 - accuracy: 0.9970 - val_loss: 0.4461 - val_accuracy: 0.8452\n",
      "Epoch 5/8\n",
      "21/21 [==============================] - 12s 574ms/step - loss: 0.0029 - accuracy: 1.0000 - val_loss: 0.4997 - val_accuracy: 0.8333\n",
      "Epoch 6/8\n",
      "21/21 [==============================] - 12s 562ms/step - loss: 0.0016 - accuracy: 1.0000 - val_loss: 0.5580 - val_accuracy: 0.8333\n",
      "Epoch 7/8\n",
      "21/21 [==============================] - 12s 555ms/step - loss: 6.1511e-04 - accuracy: 1.0000 - val_loss: 0.5343 - val_accuracy: 0.8214\n",
      "Epoch 8/8\n",
      "21/21 [==============================] - 15s 719ms/step - loss: 4.7716e-04 - accuracy: 1.0000 - val_loss: 0.5493 - val_accuracy: 0.8214\n"
     ]
    }
   ],
   "source": [
    "\n",
    "history = model.fit([X_train_ids, X_train_mask], y_train, batch_size=16, epochs=8, validation_split=0.2)"
   ]
  },
  {
   "cell_type": "code",
   "execution_count": 12,
   "metadata": {},
   "outputs": [
    {
     "data": {
      "image/png": "[encoded data removed]",
      "text/plain": [
       "<Figure size 640x480 with 1 Axes>"
      ]
     },
     "metadata": {},
     "output_type": "display_data"
    },
    {
     "data": {
      "image/png": "[encoded data removed]",
      "text/plain": [
       "<Figure size 640x480 with 1 Axes>"
      ]
     },
     "metadata": {},
     "output_type": "display_data"
    }
   ],
   "source": [
    "import matplotlib.pyplot as plt\n",
    "\n",
    "# 'history' is the object returned by the model.fit() method in TensorFlow\n",
    "\n",
    "# Summarize history for accuracy\n",
    "plt.plot(history.history['accuracy'])\n",
    "plt.plot(history.history['val_accuracy'])\n",
    "plt.title('Model Accuracy')\n",
    "plt.ylabel('Accuracy')\n",
    "plt.xlabel('Epoch')\n",
    "plt.legend(['Train', 'Validation'], loc='upper left')\n",
    "plt.show()\n",
    "\n",
    "# Summarize history for loss\n",
    "plt.plot(history.history['loss'])\n",
    "plt.plot(history.history['val_loss'])\n",
    "plt.title('Model Loss')\n",
    "plt.ylabel('Loss')\n",
    "plt.xlabel('Epoch')\n",
    "plt.legend(['Train', 'Validation'], loc='upper left')\n",
    "plt.show()"
   ]
  },
  {
   "cell_type": "code",
   "execution_count": 13,
   "metadata": {},
   "outputs": [
    {
     "name": "stdout",
     "output_type": "stream",
     "text": [
      "4/4 [==============================] - 1s 153ms/step - loss: 0.8835 - accuracy: 0.8095\n"
     ]
    },
    {
     "data": {
      "text/plain": [
       "[0.8835418820381165, 0.8095238208770752]"
      ]
     },
     "execution_count": 13,
     "metadata": {},
     "output_type": "execute_result"
    }
   ],
   "source": [
    "model.evaluate([X_test_ids, X_test_mask], y_test)"
   ]
  },
  {
   "cell_type": "code",
   "execution_count": 14,
   "metadata": {},
   "outputs": [
    {
     "name": "stderr",
     "output_type": "stream",
     "text": [
      "/home/sgzmd/code/FliNet/toy/venv/lib/python3.10/site-packages/transformers/generation/tf_utils.py:465: UserWarning: `seed_generator` is deprecated and will be removed in a future version.\n",
      "  warnings.warn(\"`seed_generator` is deprecated and will be removed in a future version.\", UserWarning)\n"
     ]
    }
   ],
   "source": [
    "model.save('segmented_model_selected.keras')"
   ]
  },
  {
   "cell_type": "code",
   "execution_count": 15,
   "metadata": {},
   "outputs": [
    {
     "name": "stderr",
     "output_type": "stream",
     "text": [
      "/tmp/ipykernel_678466/2249171146.py:3: SettingWithCopyWarning: \n",
      "A value is trying to be set on a copy of a slice from a DataFrame.\n",
      "Try using .loc[row_indexer,col_indexer] = value instead\n",
      "\n",
      "See the caveats in the documentation: https://pandas.pydata.org/pandas-docs/stable/user_guide/indexing.html#returning-a-view-versus-a-copy\n",
      "  df_sf['segmented_data'] = df_sf['body'].apply(segment_and_tokenize)\n",
      "/tmp/ipykernel_678466/2249171146.py:4: SettingWithCopyWarning: \n",
      "A value is trying to be set on a copy of a slice from a DataFrame.\n",
      "Try using .loc[row_indexer,col_indexer] = value instead\n",
      "\n",
      "See the caveats in the documentation: https://pandas.pydata.org/pandas-docs/stable/user_guide/indexing.html#returning-a-view-versus-a-copy\n",
      "  df_sf[['tokens', 'attention_mask']] = pd.DataFrame(df_sf['segmented_data'].tolist(), index=df_sf.index)\n",
      "/tmp/ipykernel_678466/2249171146.py:4: SettingWithCopyWarning: \n",
      "A value is trying to be set on a copy of a slice from a DataFrame.\n",
      "Try using .loc[row_indexer,col_indexer] = value instead\n",
      "\n",
      "See the caveats in the documentation: https://pandas.pydata.org/pandas-docs/stable/user_guide/indexing.html#returning-a-view-versus-a-copy\n",
      "  df_sf[['tokens', 'attention_mask']] = pd.DataFrame(df_sf['segmented_data'].tolist(), index=df_sf.index)\n"
     ]
    },
    {
     "name": "stdout",
     "output_type": "stream",
     "text": [
      "4602/4602 [==============================] - 1127s 244ms/step\n"
     ]
    }
   ],
   "source": [
    "df_sf = df[(df['selected'] == 0) & df['is_sf']]\n",
    "\n",
    "df_sf['segmented_data'] = df_sf['body'].apply(segment_and_tokenize)\n",
    "df_sf[['tokens', 'attention_mask']] = pd.DataFrame(df_sf['segmented_data'].tolist(), index=df_sf.index)\n",
    "\n",
    "inference_X_ids = np.array(df_sf['tokens'].tolist())\n",
    "inference_X_mask = np.array(df_sf['attention_mask'].tolist())\n",
    "\n",
    "\n",
    "# Make predictions\n",
    "predictions = model.predict([inference_X_ids, inference_X_mask])\n",
    "\n",
    "# Get the top 100 results\n",
    "top_1000_results = df_sf.iloc[predictions.argsort(axis=0)[-1000:].flatten()]\n"
   ]
  },
  {
   "cell_type": "code",
   "execution_count": 16,
   "metadata": {},
   "outputs": [],
   "source": [
    "# top_1000_results.to_csv('top_100_results.csv', index=False)"
   ]
  },
  {
   "cell_type": "code",
   "execution_count": 17,
   "metadata": {},
   "outputs": [],
   "source": [
    "top_1000_results['file_name'].to_csv('top_1000_small_matched.txt', index=False, header=False)\n"
   ]
  },
  {
   "cell_type": "code",
   "execution_count": 18,
   "metadata": {},
   "outputs": [
    {
     "name": "stdout",
     "output_type": "stream",
     "text": [
      "(638847), (623139), (640387), (708330), (362577), (221173), (751805), (117266), (356383), (744273), (277097), (511269), (279348), (575928), (747461), (114535), (748119), (587623), (741395), (284999), (578805), (532141), (598449), (731437), (285628), (731437), (685052), (711457), (711443), (183544), (361949), (508959), (728817), (499204), (461250), (686391), (94554), (496505), (742434), (699714), (495804), (674481), (620654), (95120), (582295), (173931), (594610), (553646), (732985), (428387), (679533), (750679), (732985), (81525), (525167), (463939), (80767), (523314), (575635), (615717), (697366), (561593), (606586), (740292), (525539), (620295), (585740), (263880), (356292), (114618), (463887), (388417), (503212), (644932), (585983), (503173), (722341), (623561), (523493), (540676), (461878), (415205), (579138), (313974), (551030), (596851), (392834), (748605), (653389), (549257), (549254), (504462), (549256), (644750), (687068), (661455), (527732), (716549), (657783), (637240), (710026), (750726), (237486), (422494), (743826), (749870), (100430), (683908), (611318), (658885), (228305), (388355), (500960), (638756), (512056), (645440), (507354), (506116), (684858), (582221), (737774), (499795), (659682), (344992), (642026), (89677), (674868), (413297), (604558), (183991), (285913), (325014), (443366), (650560), (744443), (751122), (723704), (443337), (443338), (652512), (253532), (700317), (326044), (588666), (325007), (724535), (594735), (443840), (645187), (225895), (604565), (419937), (427594), (645071), (415759), (597271), (565073), (564882), (593809), (525937), (749597), (336805), (449473), (327597), (644410), (707544), (690310), (654233), (714416), (749665), (747458), (645527), (739489), (515805), (680234), (532766), (461801), (368213), (657213), (751550), (446044), (450663), (731654), (747546), (220576), (393737), (671840), (731654), (570906), (391478), (332030), (466651), (228665), (504135), (425465), (236669), (457119), (561686), (178247), (599482), (742603), (71391), (234899), (175983), (134201), (173254), (425967), (302338), (144497), (125475), (593145), (435613), (675915), (677689), (622565), (142044), (590394), (608392), (739380), (712861), (614652), (369606), (442665), (94707), (535828), (686763), (692730), (712087), (630769), (568385), (577594), (553268), (486685), (100423), (104342), (636480), (113565), (203715), (599205), (609762), (641902), (452366), (685940), (511933), (377763), (612283), (248395), (729241), (603731), (617522), (490650), (594314), (728933), (739267), (721831), (679912), (145279), (34175), (170609), (494763), (592070), (195068), (598777), (685214), (589301), (702851), (620017), (497873), (672132), (567946), (447953), (604801), (465669), (650465), (645120), (581857), (524663), (713578), (645618), (350779), (543238), (580131), (323406), (331384), (509308), (436002), (680590), (132623), (721504), (612721), (253372), (511529), (453392), (265002), (643238), (498565), (562005), (396578), (622876), (362810), (67681), (67680), (753990), (154884), (77991), (295522), (753134), (307279), (354640), (392869), (679989), (400700), (68892), (340090), (450746), (594727), (699701), (673091), (652865), (699700), (699697), (687010), (699698), (699702), (699696), (699699), (699695), (680776), (591228), (680442), (306054), (320358), (699693), (317828), (699694), (603333), (641993), (699692), (692041), (593745), (567551), (654927), (547721), (285464), (650513), (287451), (534559), (540630), (366042), (396962), (398303), (359064), (324359), (730007), (730007), (586486), (583986), (651702), (349018), (93771), (330725), (375193), (645915), (634236), (565515), (727474), (726693), (89625), (632164), (565516), (157559), (522857), (365251), (734674), (79651), (738629), (746968), (390973), (723747), (734674), (77990), (746967), (746966), (746964), (746963), (735478), (354299), (721868), (350610), (544217), (506306), (736027), (642857), (414994), (563451), (643581), (598866), (663879), (741464), (359617), (747278), (530626), (540896), (292578), (743094), (574414), (621525), (494206), (434108), (462731), (744156), (554577), (583016), (219530), (110282), (634650), (448160), (640999), (515477), (455934), (712098), (683483), (685780), (667755), (355571), (724601), (664618), (642781), (743655), (660146), (256465), (374574), (707959), (716488), (619895), (578778), (490986), (730152), (723722), (730152), (750875), (624426), (499186), (563502), (513628), (568340), (752122), (578944), (483329), (673437), (140866), (563501), (396867), (528971), (453624), (751334), (639313), (747203), (747174), (225125), (600108), (272399), (179044), (672235), (99485), (571037), (649079), (364031), (676566), (389250), (388887), (652794), (376273), (540255), (637269), (657565), (658999), (597110), (329408), (686162), (193930), (225229), (603055), (225687), (660174), (627114), (197003), (238409), (566761), (134232), (605166), (361459), (366636), (523801), (593397), (488599), (669119), (726586), (458762), (15214), (723880), (532342), (478173), (583312), (235349), (601651), (648157), (532362), (448557), (592414), (241637), (527158), (533600), (248122), (315905), (132175), (276675), (377601), (548485), (578487), (678105), (678312), (398789), (536201), (98979), (461565), (492588), (749742), (258007), (572884), (531639), (263066), (750145), (146422), (144331), (413412), (178825), (680645), (433093), (590410), (386320), (643043), (591425), (753422), (699295), (571603), (719625), (494016), (712090), (388461), (712449), (396237), (231171), (443040), (730020), (65803), (320967), (730020), (635760), (411015), (114903), (121001), (642727), (408322), (540556), (490697), (523996), (700774), (316422), (347479), (311769), (298291), (572342), (535239), (640998), (368244), (345888), (381371), (571838), (712290), (368091), (629294), (625456), (224925), (372915), (348807), (679712), (533185), (632740), (554655), (700621), (573471), (680058), (94882), (74485), (175697), (174047), (214313), (399188), (444916), (671584), (175990), (524124), (314481), (552454), (81110), (580519), (712337), (305942), (723234), (594803), (713348), (664779), (237475), (304043), (594475), (548652), (154892), (680408), (714300), (685972), (154846), (140167), (706953), (517300), (593042), (557358), (572746), (572774), (643833), (188383), (736345), (541304), (405684), (335852), (227987), (386062), (675906), (203743), (204748), (589245), (707336), (628581), (228560), (554009), (747530), (1347), (749808), (554010), (565310), (558837), (591545), (640139), (230135), (343839), (530778), (648193), (679311), (229807), (662175), (679329), (517755), (340577), (580223), (563927), (538252), (735868), (399406), (626805), (660066), (572205), (489823), (624424), (738334), (653269), (347973), (622235), (615607), (732753), (677058), (677057), (728862), (677059), (749677), (728863), (728864), (732753), (735166), (637124), (504143), (637373), (637315), (732550), (308008), (637370), (410950), (732550), (637132), (638498), (534682), (632255), (602560), (460839), (617565), (468282), (533428), (704035), (481655), (704036), (421768), (421452), (631568), (416070), (706251), (577152), (277178), (708483), (744746), (627381), (671180), (586891), (422791), (414993), (359619), (586893), (8470), (547962), (675211), (509076), (539163), (505288), (495931), (750678), (751545), (111353), (352465), (664055), (96587), (598707), (669815), (742349), (322504), (671467), (103540), (374584), (403838), (665799), (329394), (665798), (668032), (193825), (597920), (590603), (685021), (684367), (591677), (599572), (592573), (588277), (679261), (592565), (588775), (590020), (657713), (598977), (697940), (597437), (615251), (606990), (671983), (286137), (670903), (299344), (638605), (596768), (81429), (419369), (681610), (463927), (463942), (726594), (516101), (515572), (715067), (674036), (320862), (47968), (524115), (156748), (590698), (370069), (607882), (416340), (570436), (601341), (678645), (670639), (733024), (608743), (501563), (741211), (579096), (360676), (723826), (672088), (733024), (731146), (731146), (705512), (80250), (388059), (222596), (597985), (259808), (561565), (499801), (397485), (523159), (556831), (523157), (685561), (46038), (419578), (419846), (527734), (583935), (747181), (553851), (68787), (467790), (660788), (577168), (507739), (715559), (738651), (531923), (728557), (721522), (724245), (179922), (683909), (227082), (747817), (524298), (89731), (293573), (624144), (624013), (89739), (622073), (552890), (676093), (634456), (578502), (743815), (729532), (743822), (649905), (743820), (743816), (643736), (743814), (398355), (398339), (630539), (563834), (635066), (707324), (710651), (645538), (297296), (142995), (710538), (470854), (707849), (35264), (391127), (575930), (381373), (380854), (570630), (595228), (382691), (596221), (353910), (644364), (62188), (306576), (289101), (287646), (287919), (626571), (540950), (652234), (658567), (685048), (693548), (625047), (605772), (738796), (576363), (165519), (273073), (273121), (359761), (692454), (191895), (219242), (744709), (354150), (534546), (71574), (136938), (363355), (363400), (75824), (409899), (385552), (747626), (608121), (66345), (89290), (749351), (100591), (230068), (271772), (652946), (583441), (345279), (520109), (565635), (724512), (707021), (520128), (731526), (548788), (751051), (598077), (585836), (592782), (198894), (731526), (585171), (633006), (710117), (202865), (696950), (700168), (732263), (732263), (289407), (602119), (444280), (394753), (717798), (645541), (681287), (742351), (225672), (723715), (154685), (318142), (588518), (508417), (720943), (143937), (536714), (144008), (154686), (569841), (621876), (531386), (687607), (252914), (663061), (422448), (592375), (565792), (576891), (265459), (615261), (516399), (479112), (593057), (519167), (319091), (608742), (513166), (668888), (712186), (702240), (535306), (668556), (525321), (590684), (76644), (640799), (579709), (142066), (716419)\n"
     ]
    }
   ],
   "source": [
    "file_names = top_1000_results['file_name'].tolist()\n",
    "file_names = [file_name[:-4] for file_name in file_names]\n",
    "insert_values = ', '.join([\"(\" + fn + \")\" for fn in file_names])\n",
    "print(insert_values)"
   ]
  }
 ],
 "metadata": {
  "kernelspec": {
   "display_name": "Python 3 (ipykernel)",
   "language": "python",
   "name": "python3"
  },
  "language_info": {
   "codemirror_mode": {
    "name": "ipython",
    "version": 3
   },
   "file_extension": ".py",
   "mimetype": "text/x-python",
   "name": "python",
   "nbconvert_exporter": "python",
   "pygments_lexer": "ipython3",
   "version": "3.10.12"
  }
 },
 "nbformat": 4,
 "nbformat_minor": 4
}
