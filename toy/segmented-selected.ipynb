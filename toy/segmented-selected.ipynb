{
 "cells": [
  {
   "cell_type": "markdown",
   "metadata": {},
   "source": [
    "Importing the stuff we need"
   ]
  },
  {
   "cell_type": "code",
   "execution_count": 1,
   "metadata": {},
   "outputs": [
    {
     "name": "stderr",
     "output_type": "stream",
     "text": [
      "2023-11-27 11:32:31.962492: E tensorflow/compiler/xla/stream_executor/cuda/cuda_dnn.cc:9342] Unable to register cuDNN factory: Attempting to register factory for plugin cuDNN when one has already been registered\n",
      "2023-11-27 11:32:31.962531: E tensorflow/compiler/xla/stream_executor/cuda/cuda_fft.cc:609] Unable to register cuFFT factory: Attempting to register factory for plugin cuFFT when one has already been registered\n",
      "2023-11-27 11:32:31.962545: E tensorflow/compiler/xla/stream_executor/cuda/cuda_blas.cc:1518] Unable to register cuBLAS factory: Attempting to register factory for plugin cuBLAS when one has already been registered\n",
      "2023-11-27 11:32:31.966855: I tensorflow/core/platform/cpu_feature_guard.cc:182] This TensorFlow binary is optimized to use available CPU instructions in performance-critical operations.\n",
      "To enable the following instructions: AVX2 FMA, in other operations, rebuild TensorFlow with the appropriate compiler flags.\n"
     ]
    }
   ],
   "source": [
    "import pandas as pd\n",
    "import numpy as np\n",
    "import tensorflow as tf\n",
    "from transformers import AutoTokenizer, TFAutoModel\n",
    "from tensorflow.keras.layers import Input, Dense, GlobalMaxPool1D\n",
    "from tensorflow.keras.models import Model\n",
    "from tensorflow.keras.optimizers import Adam\n",
    "from sklearn.model_selection import train_test_split\n",
    "import nltk"
   ]
  },
  {
   "cell_type": "code",
   "execution_count": 2,
   "metadata": {},
   "outputs": [
    {
     "name": "stderr",
     "output_type": "stream",
     "text": [
      "[nltk_data] Downloading package punkt to /home/sgzmd/nltk_data...\n",
      "[nltk_data]   Package punkt is already up-to-date!\n"
     ]
    }
   ],
   "source": [
    "nltk.download('punkt')\n",
    "from nltk.tokenize import sent_tokenize"
   ]
  },
  {
   "cell_type": "markdown",
   "metadata": {},
   "source": [
    "Defining some constants"
   ]
  },
  {
   "cell_type": "code",
   "execution_count": 3,
   "metadata": {},
   "outputs": [],
   "source": [
    "# Constants\n",
    "MODEL_NAME = 'DeepPavlov/rubert-base-cased'\n",
    "MAX_TOKENS = 128"
   ]
  },
  {
   "cell_type": "markdown",
   "metadata": {},
   "source": [
    "Let's read and pre-process the data"
   ]
  },
  {
   "cell_type": "code",
   "execution_count": 4,
   "metadata": {},
   "outputs": [
    {
     "data": {
      "text/html": [
       "<div>\n",
       "<style scoped>\n",
       "    .dataframe tbody tr th:only-of-type {\n",
       "        vertical-align: middle;\n",
       "    }\n",
       "\n",
       "    .dataframe tbody tr th {\n",
       "        vertical-align: top;\n",
       "    }\n",
       "\n",
       "    .dataframe thead th {\n",
       "        text-align: right;\n",
       "    }\n",
       "</style>\n",
       "<table border=\"1\" class=\"dataframe\">\n",
       "  <thead>\n",
       "    <tr style=\"text-align: right;\">\n",
       "      <th></th>\n",
       "      <th>body</th>\n",
       "      <th>genre</th>\n",
       "      <th>selected</th>\n",
       "      <th>file_name</th>\n",
       "      <th>is_sf</th>\n",
       "    </tr>\n",
       "  </thead>\n",
       "  <tbody>\n",
       "    <tr>\n",
       "      <th>0</th>\n",
       "      <td>орда подростков, от грохота дребезжали стекла...</td>\n",
       "      <td>sf</td>\n",
       "      <td>0</td>\n",
       "      <td>110519.fb2</td>\n",
       "      <td>True</td>\n",
       "    </tr>\n",
       "    <tr>\n",
       "      <th>1</th>\n",
       "      <td>беседой Штирлица и Мюллера и на мой вопрос ко...</td>\n",
       "      <td>sf</td>\n",
       "      <td>0</td>\n",
       "      <td>110523.fb2</td>\n",
       "      <td>True</td>\n",
       "    </tr>\n",
       "    <tr>\n",
       "      <th>2</th>\n",
       "      <td>повалившийся на песок, мгновенно вскочил, при...</td>\n",
       "      <td>sf</td>\n",
       "      <td>0</td>\n",
       "      <td>110524.fb2</td>\n",
       "      <td>True</td>\n",
       "    </tr>\n",
       "    <tr>\n",
       "      <th>3</th>\n",
       "      <td>была неизбежно наступить ночь – черная, безна...</td>\n",
       "      <td>sf</td>\n",
       "      <td>0</td>\n",
       "      <td>110526.fb2</td>\n",
       "      <td>True</td>\n",
       "    </tr>\n",
       "    <tr>\n",
       "      <th>4</th>\n",
       "      <td>На полу валялись скорченные окурки папирос, в...</td>\n",
       "      <td>sf_fantasy</td>\n",
       "      <td>0</td>\n",
       "      <td>110525.fb2</td>\n",
       "      <td>True</td>\n",
       "    </tr>\n",
       "  </tbody>\n",
       "</table>\n",
       "</div>"
      ],
      "text/plain": [
       "                                                body       genre  selected  \\\n",
       "0   орда подростков, от грохота дребезжали стекла...          sf         0   \n",
       "1   беседой Штирлица и Мюллера и на мой вопрос ко...          sf         0   \n",
       "2   повалившийся на песок, мгновенно вскочил, при...          sf         0   \n",
       "3   была неизбежно наступить ночь – черная, безна...          sf         0   \n",
       "4   На полу валялись скорченные окурки папирос, в...  sf_fantasy         0   \n",
       "\n",
       "    file_name  is_sf  \n",
       "0  110519.fb2   True  \n",
       "1  110523.fb2   True  \n",
       "2  110524.fb2   True  \n",
       "3  110526.fb2   True  \n",
       "4  110525.fb2   True  "
      ]
     },
     "execution_count": 4,
     "metadata": {},
     "output_type": "execute_result"
    }
   ],
   "source": [
    "df = pd.read_csv(\"../full-flibusta-filenames.csv\")  # Load the CSV file into a pandas DataFrame\n",
    "\n",
    "# drop all non-string records, unclear where they are coming from\n",
    "df = df[df.apply(lambda row: isinstance(row['body'], str) and isinstance(row['genre'], str), axis=1)]\n",
    "\n",
    "def is_sf_genre(genre: str) -> bool:\n",
    "    return genre.startswith('sf') or genre == 'popadanec' or genre == 'litrpg'\n",
    "\n",
    "# define is_sf label\n",
    "df['is_sf'] = df['genre'].apply(lambda genres: any(is_sf_genre(genre) for genre in genres.split(',')))\n",
    "df.head()"
   ]
  },
  {
   "cell_type": "code",
   "execution_count": 6,
   "metadata": {},
   "outputs": [
    {
     "data": {
      "text/html": [
       "<div>\n",
       "<style scoped>\n",
       "    .dataframe tbody tr th:only-of-type {\n",
       "        vertical-align: middle;\n",
       "    }\n",
       "\n",
       "    .dataframe tbody tr th {\n",
       "        vertical-align: top;\n",
       "    }\n",
       "\n",
       "    .dataframe thead th {\n",
       "        text-align: right;\n",
       "    }\n",
       "</style>\n",
       "<table border=\"1\" class=\"dataframe\">\n",
       "  <thead>\n",
       "    <tr style=\"text-align: right;\">\n",
       "      <th></th>\n",
       "      <th>body</th>\n",
       "      <th>genre</th>\n",
       "      <th>selected</th>\n",
       "      <th>file_name</th>\n",
       "      <th>is_sf</th>\n",
       "    </tr>\n",
       "  </thead>\n",
       "  <tbody>\n",
       "    <tr>\n",
       "      <th>150</th>\n",
       "      <td>Сознание офицера спецназа с позывным «Ермак», ...</td>\n",
       "      <td>sf_history,popadanec,sf_action</td>\n",
       "      <td>1</td>\n",
       "      <td>556768.fb2</td>\n",
       "      <td>True</td>\n",
       "    </tr>\n",
       "    <tr>\n",
       "      <th>665</th>\n",
       "      <td>за товаром, но тот прибежал назад, бледный и ...</td>\n",
       "      <td>prose_contemporary</td>\n",
       "      <td>0</td>\n",
       "      <td>76297.fb2</td>\n",
       "      <td>False</td>\n",
       "    </tr>\n",
       "    <tr>\n",
       "      <th>709</th>\n",
       "      <td>Любовь случается. Любовь бывает. Она не спраши...</td>\n",
       "      <td>prose_classic,russian_contemporary</td>\n",
       "      <td>0</td>\n",
       "      <td>689511.fb2</td>\n",
       "      <td>False</td>\n",
       "    </tr>\n",
       "    <tr>\n",
       "      <th>755</th>\n",
       "      <td>\\n    Я морально истощена. Я теряюсь в догадка...</td>\n",
       "      <td>love_erotica,love_contemporary</td>\n",
       "      <td>0</td>\n",
       "      <td>461360.fb2</td>\n",
       "      <td>False</td>\n",
       "    </tr>\n",
       "    <tr>\n",
       "      <th>532</th>\n",
       "      <td>\\n    В 1930–1932 годах Н. Н. Урванцев руковод...</td>\n",
       "      <td>adv_geo</td>\n",
       "      <td>0</td>\n",
       "      <td>297834.fb2</td>\n",
       "      <td>False</td>\n",
       "    </tr>\n",
       "    <tr>\n",
       "      <th>92</th>\n",
       "      <td>\\n        \\n          Вторая книга цикла!\\n   ...</td>\n",
       "      <td>,sf_action</td>\n",
       "      <td>1</td>\n",
       "      <td>500364.fb2</td>\n",
       "      <td>True</td>\n",
       "    </tr>\n",
       "    <tr>\n",
       "      <th>816</th>\n",
       "      <td>\\n    Наше государство на севере простирается ...</td>\n",
       "      <td>science</td>\n",
       "      <td>0</td>\n",
       "      <td>322874.fb2</td>\n",
       "      <td>False</td>\n",
       "    </tr>\n",
       "    <tr>\n",
       "      <th>840</th>\n",
       "      <td>\\n        \\n\\t\\n\\t\\t   15 мая 1975 года пятнад...</td>\n",
       "      <td>love_detective</td>\n",
       "      <td>0</td>\n",
       "      <td>469916.fb2</td>\n",
       "      <td>False</td>\n",
       "    </tr>\n",
       "    <tr>\n",
       "      <th>627</th>\n",
       "      <td>Этим же самолетом улетал в Баку на гастроли б...</td>\n",
       "      <td>prose_contemporary</td>\n",
       "      <td>0</td>\n",
       "      <td>109076.fb2</td>\n",
       "      <td>False</td>\n",
       "    </tr>\n",
       "    <tr>\n",
       "      <th>600</th>\n",
       "      <td>\\n“Прежде всего я считаю нужным сказать, что я...</td>\n",
       "      <td>nonf_biography,religion</td>\n",
       "      <td>0</td>\n",
       "      <td>217287.fb2</td>\n",
       "      <td>False</td>\n",
       "    </tr>\n",
       "  </tbody>\n",
       "</table>\n",
       "</div>"
      ],
      "text/plain": [
       "                                                  body  \\\n",
       "150  Сознание офицера спецназа с позывным «Ермак», ...   \n",
       "665   за товаром, но тот прибежал назад, бледный и ...   \n",
       "709  Любовь случается. Любовь бывает. Она не спраши...   \n",
       "755  \\n    Я морально истощена. Я теряюсь в догадка...   \n",
       "532  \\n    В 1930–1932 годах Н. Н. Урванцев руковод...   \n",
       "92   \\n        \\n          Вторая книга цикла!\\n   ...   \n",
       "816  \\n    Наше государство на севере простирается ...   \n",
       "840  \\n        \\n\\t\\n\\t\\t   15 мая 1975 года пятнад...   \n",
       "627   Этим же самолетом улетал в Баку на гастроли б...   \n",
       "600  \\n“Прежде всего я считаю нужным сказать, что я...   \n",
       "\n",
       "                                  genre  selected   file_name  is_sf  \n",
       "150      sf_history,popadanec,sf_action         1  556768.fb2   True  \n",
       "665                  prose_contemporary         0   76297.fb2  False  \n",
       "709  prose_classic,russian_contemporary         0  689511.fb2  False  \n",
       "755      love_erotica,love_contemporary         0  461360.fb2  False  \n",
       "532                             adv_geo         0  297834.fb2  False  \n",
       "92                           ,sf_action         1  500364.fb2   True  \n",
       "816                             science         0  322874.fb2  False  \n",
       "840                      love_detective         0  469916.fb2  False  \n",
       "627                  prose_contemporary         0  109076.fb2  False  \n",
       "600             nonf_biography,religion         0  217287.fb2  False  "
      ]
     },
     "execution_count": 6,
     "metadata": {},
     "output_type": "execute_result"
    }
   ],
   "source": [
    "# Filter the dataframe based on the conditions\n",
    "df_selected_1 = df[(df['selected'] == 1)]\n",
    "df_selected_0 = df[(df['selected'] == 0) & (~df['is_sf'])]\n",
    "\n",
    "# -1 are manually selected negative samples\n",
    "df_selected_neg = df[(df['selected'] == -1)]\n",
    "\n",
    "# Sample the same number of records where selected = 0\n",
    "df_selected_0_sampled = df_selected_0.sample(n=len(df_selected_1), random_state=42)\n",
    "\n",
    "negative_samples = pd.concat([df_selected_0_sampled, df_selected_neg])\n",
    "\n",
    "# Set 'selected' to 0 for all negative_samples\n",
    "negative_samples['selected'] = 0\n",
    "\n",
    "# Concatenate the two dataframes\n",
    "new_df = pd.concat([df_selected_1, negative_samples])\n",
    "\n",
    "# Reset the index of the new dataframe\n",
    "new_df.reset_index(drop=True, inplace=True)\n",
    "\n",
    "# Print the new dataframe\n",
    "new_df.sample(10)\n"
   ]
  },
  {
   "cell_type": "markdown",
   "metadata": {},
   "source": [
    "Defining tokenizer and some helper methods"
   ]
  },
  {
   "cell_type": "code",
   "execution_count": 8,
   "metadata": {},
   "outputs": [],
   "source": [
    "# Tokenizer\n",
    "tokenizer = AutoTokenizer.from_pretrained(MODEL_NAME)\n",
    "\n",
    "# Function to segment and tokenize text\n",
    "def segment_and_tokenize(text):\n",
    "    # Split text into sentences\n",
    "    sentences = sent_tokenize(text, language='russian')\n",
    "    tokenized_output = []\n",
    "    attention_mask_output = []\n",
    "\n",
    "    for sentence in sentences:\n",
    "        # Tokenize each sentence\n",
    "        tokens = tokenizer.encode_plus(sentence, add_special_tokens=True, max_length=MAX_TOKENS, \n",
    "                                       truncation=True, padding='max_length', return_tensors='tf')\n",
    "        tokenized_output.append(tokens['input_ids'])\n",
    "        attention_mask_output.append(tokens['attention_mask'])\n",
    "\n",
    "        # Check if we've reached the maximum number of tokens\n",
    "        if sum([len(t[0]) for t in tokenized_output]) >= MAX_TOKENS:\n",
    "            break\n",
    "\n",
    "    # Combine tokenized sentences up to the maximum length\n",
    "    input_ids = tf.concat(tokenized_output, axis=1)[0,:MAX_TOKENS]\n",
    "    attention_mask = tf.concat(attention_mask_output, axis=1)[0,:MAX_TOKENS]\n",
    "\n",
    "    return input_ids, attention_mask"
   ]
  },
  {
   "cell_type": "markdown",
   "metadata": {},
   "source": [
    "Let's run the tokenization and segmentation of the data"
   ]
  },
  {
   "cell_type": "code",
   "execution_count": 9,
   "metadata": {},
   "outputs": [
    {
     "name": "stderr",
     "output_type": "stream",
     "text": [
      "2023-11-27 11:34:30.753786: I tensorflow/compiler/xla/stream_executor/cuda/cuda_gpu_executor.cc:880] could not open file to read NUMA node: /sys/bus/pci/devices/0000:26:00.0/numa_node\n",
      "Your kernel may have been built without NUMA support.\n",
      "2023-11-27 11:34:30.761675: I tensorflow/compiler/xla/stream_executor/cuda/cuda_gpu_executor.cc:880] could not open file to read NUMA node: /sys/bus/pci/devices/0000:26:00.0/numa_node\n",
      "Your kernel may have been built without NUMA support.\n",
      "2023-11-27 11:34:30.761712: I tensorflow/compiler/xla/stream_executor/cuda/cuda_gpu_executor.cc:880] could not open file to read NUMA node: /sys/bus/pci/devices/0000:26:00.0/numa_node\n",
      "Your kernel may have been built without NUMA support.\n",
      "2023-11-27 11:34:30.762775: I tensorflow/compiler/xla/stream_executor/cuda/cuda_gpu_executor.cc:880] could not open file to read NUMA node: /sys/bus/pci/devices/0000:26:00.0/numa_node\n",
      "Your kernel may have been built without NUMA support.\n",
      "2023-11-27 11:34:30.762801: I tensorflow/compiler/xla/stream_executor/cuda/cuda_gpu_executor.cc:880] could not open file to read NUMA node: /sys/bus/pci/devices/0000:26:00.0/numa_node\n",
      "Your kernel may have been built without NUMA support.\n",
      "2023-11-27 11:34:30.762816: I tensorflow/compiler/xla/stream_executor/cuda/cuda_gpu_executor.cc:880] could not open file to read NUMA node: /sys/bus/pci/devices/0000:26:00.0/numa_node\n",
      "Your kernel may have been built without NUMA support.\n",
      "2023-11-27 11:34:31.336724: I tensorflow/compiler/xla/stream_executor/cuda/cuda_gpu_executor.cc:880] could not open file to read NUMA node: /sys/bus/pci/devices/0000:26:00.0/numa_node\n",
      "Your kernel may have been built without NUMA support.\n",
      "2023-11-27 11:34:31.336768: I tensorflow/compiler/xla/stream_executor/cuda/cuda_gpu_executor.cc:880] could not open file to read NUMA node: /sys/bus/pci/devices/0000:26:00.0/numa_node\n",
      "Your kernel may have been built without NUMA support.\n",
      "2023-11-27 11:34:31.336775: I tensorflow/core/common_runtime/gpu/gpu_device.cc:1977] Could not identify NUMA node of platform GPU id 0, defaulting to 0.  Your kernel may not have been built with NUMA support.\n",
      "2023-11-27 11:34:31.336802: I tensorflow/compiler/xla/stream_executor/cuda/cuda_gpu_executor.cc:880] could not open file to read NUMA node: /sys/bus/pci/devices/0000:26:00.0/numa_node\n",
      "Your kernel may have been built without NUMA support.\n",
      "2023-11-27 11:34:31.336819: I tensorflow/core/common_runtime/gpu/gpu_device.cc:1886] Created device /job:localhost/replica:0/task:0/device:GPU:0 with 5925 MB memory:  -> device: 0, name: NVIDIA GeForce RTX 2070, pci bus id: 0000:26:00.0, compute capability: 7.5\n"
     ]
    }
   ],
   "source": [
    "# Apply the function to the dataset\n",
    "new_df['segmented_data'] = new_df['body'].apply(segment_and_tokenize)\n",
    "new_df[['tokens', 'attention_mask']] = pd.DataFrame(new_df['segmented_data'].tolist(), index=new_df.index)"
   ]
  },
  {
   "cell_type": "markdown",
   "metadata": {},
   "source": [
    "Now let's prepare and split the dataset"
   ]
  },
  {
   "cell_type": "code",
   "execution_count": 10,
   "metadata": {},
   "outputs": [],
   "source": [
    "# Prepare dataset\n",
    "X_ids = np.array(new_df['tokens'].tolist())\n",
    "X_mask = np.array(new_df['attention_mask'].tolist())\n",
    "\n",
    "y = new_df['is_sf'].values\n",
    "X_train_ids, X_test_ids, X_train_mask, X_test_mask, y_train, y_test = train_test_split(X_ids, X_mask, y, test_size=0.2)\n"
   ]
  },
  {
   "cell_type": "markdown",
   "metadata": {},
   "source": [
    "Let's load the model now and define how we are fine-tuning it"
   ]
  },
  {
   "cell_type": "code",
   "execution_count": 11,
   "metadata": {},
   "outputs": [
    {
     "name": "stderr",
     "output_type": "stream",
     "text": [
      "2023-11-27 11:34:37.168361: I tensorflow/tsl/platform/default/subprocess.cc:304] Start cannot spawn child process: No such file or directory\n",
      "Some weights of the PyTorch model were not used when initializing the TF 2.0 model TFBertModel: ['bert.embeddings.position_ids', 'cls.predictions.decoder.weight', 'cls.predictions.transform.LayerNorm.weight', 'cls.predictions.decoder.bias', 'cls.seq_relationship.bias', 'cls.predictions.bias', 'cls.seq_relationship.weight', 'cls.predictions.transform.LayerNorm.bias', 'cls.predictions.transform.dense.bias', 'cls.predictions.transform.dense.weight']\n",
      "- This IS expected if you are initializing TFBertModel from a PyTorch model trained on another task or with another architecture (e.g. initializing a TFBertForSequenceClassification model from a BertForPreTraining model).\n",
      "- This IS NOT expected if you are initializing TFBertModel from a PyTorch model that you expect to be exactly identical (e.g. initializing a TFBertForSequenceClassification model from a BertForSequenceClassification model).\n",
      "All the weights of TFBertModel were initialized from the PyTorch model.\n",
      "If your task is similar to the task the model of the checkpoint was trained on, you can already use TFBertModel for predictions without further training.\n"
     ]
    }
   ],
   "source": [
    "bert = TFAutoModel.from_pretrained(MODEL_NAME, from_pt=True)\n",
    "input_ids = Input(shape=(MAX_TOKENS,), dtype=tf.int32, name='input_ids')\n",
    "input_mask = Input(shape=(MAX_TOKENS,), dtype=tf.int32, name='attention_mask')\n",
    "\n",
    "embeddings = bert(input_ids, attention_mask=input_mask)[0]\n",
    "pooled = GlobalMaxPool1D()(embeddings)\n",
    "output = Dense(1, activation='sigmoid')(pooled)\n",
    "\n",
    "model = Model(inputs=[input_ids, input_mask], outputs=output)"
   ]
  },
  {
   "cell_type": "code",
   "execution_count": 12,
   "metadata": {},
   "outputs": [],
   "source": [
    "model.compile(optimizer=Adam(learning_rate=5e-5), loss='binary_crossentropy', metrics=['accuracy'])"
   ]
  },
  {
   "cell_type": "code",
   "execution_count": 13,
   "metadata": {},
   "outputs": [
    {
     "name": "stdout",
     "output_type": "stream",
     "text": [
      "Epoch 1/5\n"
     ]
    },
    {
     "name": "stdout",
     "output_type": "stream",
     "text": [
      "WARNING:tensorflow:Gradients do not exist for variables ['tf_bert_model/bert/pooler/dense/kernel:0', 'tf_bert_model/bert/pooler/dense/bias:0'] when minimizing the loss. If you're using `model.compile()`, did you forget to provide a `loss` argument?\n",
      "WARNING:tensorflow:Gradients do not exist for variables ['tf_bert_model/bert/pooler/dense/kernel:0', 'tf_bert_model/bert/pooler/dense/bias:0'] when minimizing the loss. If you're using `model.compile()`, did you forget to provide a `loss` argument?\n",
      "WARNING:tensorflow:Gradients do not exist for variables ['tf_bert_model/bert/pooler/dense/kernel:0', 'tf_bert_model/bert/pooler/dense/bias:0'] when minimizing the loss. If you're using `model.compile()`, did you forget to provide a `loss` argument?\n",
      "WARNING:tensorflow:Gradients do not exist for variables ['tf_bert_model/bert/pooler/dense/kernel:0', 'tf_bert_model/bert/pooler/dense/bias:0'] when minimizing the loss. If you're using `model.compile()`, did you forget to provide a `loss` argument?\n"
     ]
    },
    {
     "name": "stderr",
     "output_type": "stream",
     "text": [
      "2023-11-27 11:34:54.861934: I tensorflow/compiler/xla/service/service.cc:168] XLA service 0x7f44e8192000 initialized for platform CUDA (this does not guarantee that XLA will be used). Devices:\n",
      "2023-11-27 11:34:54.861962: I tensorflow/compiler/xla/service/service.cc:176]   StreamExecutor device (0): NVIDIA GeForce RTX 2070, Compute Capability 7.5\n",
      "2023-11-27 11:34:54.865412: I tensorflow/compiler/mlir/tensorflow/utils/dump_mlir_util.cc:269] disabling MLIR crash reproducer, set env var `MLIR_CRASH_REPRODUCER_DIRECTORY` to enable.\n",
      "2023-11-27 11:34:54.976797: I tensorflow/compiler/xla/stream_executor/cuda/cuda_dnn.cc:442] Loaded cuDNN version 8700\n",
      "2023-11-27 11:34:55.016256: I ./tensorflow/compiler/jit/device_compiler.h:186] Compiled cluster using XLA!  This line is logged at most once for the lifetime of the process.\n"
     ]
    },
    {
     "name": "stdout",
     "output_type": "stream",
     "text": [
      "36/36 [==============================] - ETA: 0s - loss: 0.5626 - accuracy: 0.7078"
     ]
    }
   ],
   "source": [
    "\n",
    "history = model.fit([X_train_ids, X_train_mask], y_train, batch_size=16, epochs=5, validation_split=0.2)"
   ]
  },
  {
   "cell_type": "code",
   "execution_count": null,
   "metadata": {},
   "outputs": [
    {
     "data": {
      "image/png": "[encoded data removed]",
      "text/plain": [
       "<Figure size 640x480 with 1 Axes>"
      ]
     },
     "metadata": {},
     "output_type": "display_data"
    },
    {
     "data": {
      "image/png": "[encoded data removed]",
      "text/plain": [
       "<Figure size 640x480 with 1 Axes>"
      ]
     },
     "metadata": {},
     "output_type": "display_data"
    }
   ],
   "source": [
    "import matplotlib.pyplot as plt\n",
    "\n",
    "# 'history' is the object returned by the model.fit() method in TensorFlow\n",
    "\n",
    "# Summarize history for accuracy\n",
    "plt.plot(history.history['accuracy'])\n",
    "plt.plot(history.history['val_accuracy'])\n",
    "plt.title('Model Accuracy')\n",
    "plt.ylabel('Accuracy')\n",
    "plt.xlabel('Epoch')\n",
    "plt.legend(['Train', 'Validation'], loc='upper left')\n",
    "plt.show()\n",
    "\n",
    "# Summarize history for loss\n",
    "plt.plot(history.history['loss'])\n",
    "plt.plot(history.history['val_loss'])\n",
    "plt.title('Model Loss')\n",
    "plt.ylabel('Loss')\n",
    "plt.xlabel('Epoch')\n",
    "plt.legend(['Train', 'Validation'], loc='upper left')\n",
    "plt.show()"
   ]
  },
  {
   "cell_type": "code",
   "execution_count": null,
   "metadata": {},
   "outputs": [
    {
     "name": "stdout",
     "output_type": "stream",
     "text": [
      "4/4 [==============================] - 1s 200ms/step - loss: 0.5840 - accuracy: 0.8115\n"
     ]
    },
    {
     "data": {
      "text/plain": [
       "[0.5840109586715698, 0.811475396156311]"
      ]
     },
     "execution_count": 13,
     "metadata": {},
     "output_type": "execute_result"
    }
   ],
   "source": [
    "model.evaluate([X_test_ids, X_test_mask], y_test)"
   ]
  },
  {
   "cell_type": "code",
   "execution_count": null,
   "metadata": {},
   "outputs": [
    {
     "name": "stderr",
     "output_type": "stream",
     "text": [
      "/home/sgzmd/code/FliNet/toy/venv/lib/python3.10/site-packages/transformers/generation/tf_utils.py:465: UserWarning: `seed_generator` is deprecated and will be removed in a future version.\n",
      "  warnings.warn(\"`seed_generator` is deprecated and will be removed in a future version.\", UserWarning)\n"
     ]
    }
   ],
   "source": [
    "model.save('segmented_model_selected.keras')"
   ]
  },
  {
   "cell_type": "code",
   "execution_count": null,
   "metadata": {},
   "outputs": [
    {
     "name": "stderr",
     "output_type": "stream",
     "text": [
      "/tmp/ipykernel_401456/2850528996.py:3: SettingWithCopyWarning: \n",
      "A value is trying to be set on a copy of a slice from a DataFrame.\n",
      "Try using .loc[row_indexer,col_indexer] = value instead\n",
      "\n",
      "See the caveats in the documentation: https://pandas.pydata.org/pandas-docs/stable/user_guide/indexing.html#returning-a-view-versus-a-copy\n",
      "  df_sf['segmented_data'] = df_sf['body'].apply(segment_and_tokenize)\n",
      "/tmp/ipykernel_401456/2850528996.py:4: SettingWithCopyWarning: \n",
      "A value is trying to be set on a copy of a slice from a DataFrame.\n",
      "Try using .loc[row_indexer,col_indexer] = value instead\n",
      "\n",
      "See the caveats in the documentation: https://pandas.pydata.org/pandas-docs/stable/user_guide/indexing.html#returning-a-view-versus-a-copy\n",
      "  df_sf[['tokens', 'attention_mask']] = pd.DataFrame(df_sf['segmented_data'].tolist(), index=df_sf.index)\n",
      "/tmp/ipykernel_401456/2850528996.py:4: SettingWithCopyWarning: \n",
      "A value is trying to be set on a copy of a slice from a DataFrame.\n",
      "Try using .loc[row_indexer,col_indexer] = value instead\n",
      "\n",
      "See the caveats in the documentation: https://pandas.pydata.org/pandas-docs/stable/user_guide/indexing.html#returning-a-view-versus-a-copy\n",
      "  df_sf[['tokens', 'attention_mask']] = pd.DataFrame(df_sf['segmented_data'].tolist(), index=df_sf.index)\n"
     ]
    },
    {
     "name": "stdout",
     "output_type": "stream",
     "text": [
      "4411/4411 [==============================] - 1012s 229ms/step\n",
      "                                                     body  \\\n",
      "98480   \\n    Другой мир, другой язык, другая культура...   \n",
      "54834   \\n    Попасть в другой мир… Неизвестность, опа...   \n",
      "200991  \\n        Черная цитадель. Черный город, окруж...   \n",
      "198712  Король умер! Да здравствует король! Однако юны...   \n",
      "1765    \\nАнонс\\nБоги могут все. Они творят и разрушаю...   \n",
      "...                                                   ...   \n",
      "220691  …Мир Большого Киева. Совершенно невероятная см...   \n",
      "66707   \\n    …Мир Большого Киева.\\n    Совершенно нев...   \n",
      "218829  …Мир Большого Киева.\\nСовершенно невероятная с...   \n",
      "150687  \\n    Я баг… Системная ошибка мира «Нибелиум»,...   \n",
      "129190  \\n    Армия, гражданка, мирная жизнь… Всё оста...   \n",
      "\n",
      "                                                    genre  selected  \\\n",
      "98480            fanfiction,network_literature,sf_fantasy         0   \n",
      "54834                                          sf_fantasy         0   \n",
      "200991                                         sf_fantasy         0   \n",
      "198712                                         sf_fantasy         0   \n",
      "1765                                           sf_fantasy         0   \n",
      "...                                                   ...       ...   \n",
      "220691                                         sf_fantasy         0   \n",
      "66707                                          sf_fantasy         0   \n",
      "218829                                         sf_fantasy         0   \n",
      "150687  magician_book,popadanec,sf_realrpg,fantasy_fig...         0   \n",
      "129190                            sf_fantasy,love_erotica         0   \n",
      "\n",
      "         file_name  is_sf                                     segmented_data  \\\n",
      "98480   525536.fb2   True  ((tf.Tensor(101, shape=(), dtype=int32), tf.Te...   \n",
      "54834   386320.fb2   True  ((tf.Tensor(101, shape=(), dtype=int32), tf.Te...   \n",
      "200991   82387.fb2   True  ((tf.Tensor(101, shape=(), dtype=int32), tf.Te...   \n",
      "198712   75824.fb2   True  ((tf.Tensor(101, shape=(), dtype=int32), tf.Te...   \n",
      "1765    177824.fb2   True  ((tf.Tensor(101, shape=(), dtype=int32), tf.Te...   \n",
      "...            ...    ...                                                ...   \n",
      "220691  160944.fb2   True  ((tf.Tensor(101, shape=(), dtype=int32), tf.Te...   \n",
      "66707   427345.fb2   True  ((tf.Tensor(101, shape=(), dtype=int32), tf.Te...   \n",
      "218829  155493.fb2   True  ((tf.Tensor(101, shape=(), dtype=int32), tf.Te...   \n",
      "150687  676984.fb2   True  ((tf.Tensor(101, shape=(), dtype=int32), tf.Te...   \n",
      "129190  617586.fb2   True  ((tf.Tensor(101, shape=(), dtype=int32), tf.Te...   \n",
      "\n",
      "                                                   tokens  \\\n",
      "98480   (tf.Tensor(101, shape=(), dtype=int32), tf.Ten...   \n",
      "54834   (tf.Tensor(101, shape=(), dtype=int32), tf.Ten...   \n",
      "200991  (tf.Tensor(101, shape=(), dtype=int32), tf.Ten...   \n",
      "198712  (tf.Tensor(101, shape=(), dtype=int32), tf.Ten...   \n",
      "1765    (tf.Tensor(101, shape=(), dtype=int32), tf.Ten...   \n",
      "...                                                   ...   \n",
      "220691  (tf.Tensor(101, shape=(), dtype=int32), tf.Ten...   \n",
      "66707   (tf.Tensor(101, shape=(), dtype=int32), tf.Ten...   \n",
      "218829  (tf.Tensor(101, shape=(), dtype=int32), tf.Ten...   \n",
      "150687  (tf.Tensor(101, shape=(), dtype=int32), tf.Ten...   \n",
      "129190  (tf.Tensor(101, shape=(), dtype=int32), tf.Ten...   \n",
      "\n",
      "                                           attention_mask  \n",
      "98480   (tf.Tensor(1, shape=(), dtype=int32), tf.Tenso...  \n",
      "54834   (tf.Tensor(1, shape=(), dtype=int32), tf.Tenso...  \n",
      "200991  (tf.Tensor(1, shape=(), dtype=int32), tf.Tenso...  \n",
      "198712  (tf.Tensor(1, shape=(), dtype=int32), tf.Tenso...  \n",
      "1765    (tf.Tensor(1, shape=(), dtype=int32), tf.Tenso...  \n",
      "...                                                   ...  \n",
      "220691  (tf.Tensor(1, shape=(), dtype=int32), tf.Tenso...  \n",
      "66707   (tf.Tensor(1, shape=(), dtype=int32), tf.Tenso...  \n",
      "218829  (tf.Tensor(1, shape=(), dtype=int32), tf.Tenso...  \n",
      "150687  (tf.Tensor(1, shape=(), dtype=int32), tf.Tenso...  \n",
      "129190  (tf.Tensor(1, shape=(), dtype=int32), tf.Tenso...  \n",
      "\n",
      "[100 rows x 8 columns]\n"
     ]
    }
   ],
   "source": [
    "df_sf = df[(df['selected'] == 0) & df['is_sf']]\n",
    "\n",
    "df_sf['segmented_data'] = df_sf['body'].apply(segment_and_tokenize)\n",
    "df_sf[['tokens', 'attention_mask']] = pd.DataFrame(df_sf['segmented_data'].tolist(), index=df_sf.index)\n",
    "\n",
    "inference_X_ids = np.array(df_sf['tokens'].tolist())\n",
    "inference_X_mask = np.array(df_sf['attention_mask'].tolist())\n",
    "\n",
    "\n",
    "# Make predictions\n",
    "predictions = model.predict([inference_X_ids, inference_X_mask])\n",
    "\n",
    "# Get the top 100 results\n",
    "top_1000_results = df_sf.iloc[predictions.argsort(axis=0)[-1000:].flatten()]\n"
   ]
  },
  {
   "cell_type": "code",
   "execution_count": null,
   "metadata": {},
   "outputs": [],
   "source": [
    "# top_1000_results.to_csv('top_100_results.csv', index=False)"
   ]
  },
  {
   "cell_type": "code",
   "execution_count": null,
   "metadata": {},
   "outputs": [],
   "source": [
    "top_1000_results['file_name'].to_csv('top_100_filenames.txt', index=False, header=False)\n"
   ]
  }
 ],
 "metadata": {
  "kernelspec": {
   "display_name": "Python 3 (ipykernel)",
   "language": "python",
   "name": "python3"
  },
  "language_info": {
   "codemirror_mode": {
    "name": "ipython",
    "version": 3
   },
   "file_extension": ".py",
   "mimetype": "text/x-python",
   "name": "python",
   "nbconvert_exporter": "python",
   "pygments_lexer": "ipython3",
   "version": "3.10.12"
  }
 },
 "nbformat": 4,
 "nbformat_minor": 4
}
