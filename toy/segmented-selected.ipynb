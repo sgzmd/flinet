{
 "cells": [
  {
   "cell_type": "markdown",
   "metadata": {},
   "source": [
    "Importing the stuff we need"
   ]
  },
  {
   "cell_type": "code",
   "execution_count": 1,
   "metadata": {},
   "outputs": [
    {
     "name": "stderr",
     "output_type": "stream",
     "text": [
      "2023-11-28 11:18:31.365839: E tensorflow/compiler/xla/stream_executor/cuda/cuda_dnn.cc:9342] Unable to register cuDNN factory: Attempting to register factory for plugin cuDNN when one has already been registered\n",
      "2023-11-28 11:18:31.365877: E tensorflow/compiler/xla/stream_executor/cuda/cuda_fft.cc:609] Unable to register cuFFT factory: Attempting to register factory for plugin cuFFT when one has already been registered\n",
      "2023-11-28 11:18:31.365901: E tensorflow/compiler/xla/stream_executor/cuda/cuda_blas.cc:1518] Unable to register cuBLAS factory: Attempting to register factory for plugin cuBLAS when one has already been registered\n",
      "2023-11-28 11:18:31.374337: I tensorflow/core/platform/cpu_feature_guard.cc:182] This TensorFlow binary is optimized to use available CPU instructions in performance-critical operations.\n",
      "To enable the following instructions: AVX2 FMA, in other operations, rebuild TensorFlow with the appropriate compiler flags.\n"
     ]
    }
   ],
   "source": [
    "import pandas as pd\n",
    "import numpy as np\n",
    "import tensorflow as tf\n",
    "from transformers import AutoTokenizer, TFAutoModel\n",
    "from tensorflow.keras.layers import Input, Dense, GlobalMaxPool1D\n",
    "from tensorflow.keras.models import Model\n",
    "from tensorflow.keras.optimizers import Adam\n",
    "from sklearn.model_selection import train_test_split\n",
    "import nltk"
   ]
  },
  {
   "cell_type": "code",
   "execution_count": 2,
   "metadata": {},
   "outputs": [
    {
     "name": "stderr",
     "output_type": "stream",
     "text": [
      "[nltk_data] Downloading package punkt to /home/sgzmd/nltk_data...\n",
      "[nltk_data]   Package punkt is already up-to-date!\n"
     ]
    }
   ],
   "source": [
    "nltk.download('punkt')\n",
    "from nltk.tokenize import sent_tokenize"
   ]
  },
  {
   "cell_type": "markdown",
   "metadata": {},
   "source": [
    "Defining some constants"
   ]
  },
  {
   "cell_type": "code",
   "execution_count": 3,
   "metadata": {},
   "outputs": [],
   "source": [
    "# Constants\n",
    "MODEL_NAME = 'DeepPavlov/rubert-base-cased'\n",
    "MAX_TOKENS = 128"
   ]
  },
  {
   "cell_type": "markdown",
   "metadata": {},
   "source": [
    "Let's read and pre-process the data"
   ]
  },
  {
   "cell_type": "code",
   "execution_count": 5,
   "metadata": {},
   "outputs": [
    {
     "data": {
      "text/html": [
       "<div>\n",
       "<style scoped>\n",
       "    .dataframe tbody tr th:only-of-type {\n",
       "        vertical-align: middle;\n",
       "    }\n",
       "\n",
       "    .dataframe tbody tr th {\n",
       "        vertical-align: top;\n",
       "    }\n",
       "\n",
       "    .dataframe thead th {\n",
       "        text-align: right;\n",
       "    }\n",
       "</style>\n",
       "<table border=\"1\" class=\"dataframe\">\n",
       "  <thead>\n",
       "    <tr style=\"text-align: right;\">\n",
       "      <th></th>\n",
       "      <th>ID</th>\n",
       "      <th>Genres</th>\n",
       "      <th>Authors</th>\n",
       "      <th>BookTitle</th>\n",
       "      <th>Body</th>\n",
       "      <th>Annotation</th>\n",
       "      <th>FileName</th>\n",
       "      <th>IsSelected</th>\n",
       "      <th>is_sf</th>\n",
       "    </tr>\n",
       "  </thead>\n",
       "  <tbody>\n",
       "    <tr>\n",
       "      <th>0</th>\n",
       "      <td>/pool1/share/Downloads/Flibusta-Patch/f.fb2-72...</td>\n",
       "      <td>sf_fantasy_city;det_action;popadanec;magician_...</td>\n",
       "      <td>Извращенный отшельник;Илья Романов</td>\n",
       "      <td>Наемник «S» ранга</td>\n",
       "      <td>sf_fantasy_city\\n   det_action\\n   popadanec\\n...</td>\n",
       "      <td>\\n    Прожив пять веков в шкуре вампира, я оты...</td>\n",
       "      <td>729588.fb2</td>\n",
       "      <td>0</td>\n",
       "      <td>True</td>\n",
       "    </tr>\n",
       "    <tr>\n",
       "      <th>1</th>\n",
       "      <td>/pool1/share/Downloads/Flibusta-Patch/f.fb2-72...</td>\n",
       "      <td>fanfiction;magician_book;popadanec;network_lit...</td>\n",
       "      <td>Cyberdawn</td>\n",
       "      <td>Лишний свиток</td>\n",
       "      <td>fanfiction\\n   magician_book\\n   popadanec\\n  ...</td>\n",
       "      <td>\\n    Попаданец в черножопого, ехидного, своло...</td>\n",
       "      <td>729587.fb2</td>\n",
       "      <td>0</td>\n",
       "      <td>True</td>\n",
       "    </tr>\n",
       "    <tr>\n",
       "      <th>2</th>\n",
       "      <td>/pool1/share/Downloads/Flibusta-Patch/f.fb2-72...</td>\n",
       "      <td>religion_orthodoxy;religion_christianity;relig...</td>\n",
       "      <td>Коллектив авторов</td>\n",
       "      <td>Святитель Василий Великий</td>\n",
       "      <td>religion_orthodoxy\\n   religion_christianity\\n...</td>\n",
       "      <td>NaN</td>\n",
       "      <td>729595.fb2</td>\n",
       "      <td>0</td>\n",
       "      <td>False</td>\n",
       "    </tr>\n",
       "    <tr>\n",
       "      <th>3</th>\n",
       "      <td>/pool1/share/Downloads/Flibusta-Patch/f.fb2-72...</td>\n",
       "      <td>sf_heroic;sf_humor;sf_social</td>\n",
       "      <td>Андрей Немиров</td>\n",
       "      <td>Квестер</td>\n",
       "      <td>sf_heroic\\n   sf_humor\\n   sf_social\\n   \\n   ...</td>\n",
       "      <td>\\n    Доброго времени суток, читатель! По слов...</td>\n",
       "      <td>729601.fb2</td>\n",
       "      <td>0</td>\n",
       "      <td>True</td>\n",
       "    </tr>\n",
       "    <tr>\n",
       "      <th>4</th>\n",
       "      <td>/pool1/share/Downloads/Flibusta-Patch/f.fb2-72...</td>\n",
       "      <td>sf_horror;literature_19;literature_20;sf_horro...</td>\n",
       "      <td>Джеймс Брандер Мэтьюз;Артур Грей;Эдмунд Митчел...</td>\n",
       "      <td>Мистические истории. Фантом озера</td>\n",
       "      <td>sf_horrorliterature_19literature_20sf_horrorfo...</td>\n",
       "      <td>NaN</td>\n",
       "      <td>729599.fb2</td>\n",
       "      <td>0</td>\n",
       "      <td>True</td>\n",
       "    </tr>\n",
       "  </tbody>\n",
       "</table>\n",
       "</div>"
      ],
      "text/plain": [
       "                                                  ID  \\\n",
       "0  /pool1/share/Downloads/Flibusta-Patch/f.fb2-72...   \n",
       "1  /pool1/share/Downloads/Flibusta-Patch/f.fb2-72...   \n",
       "2  /pool1/share/Downloads/Flibusta-Patch/f.fb2-72...   \n",
       "3  /pool1/share/Downloads/Flibusta-Patch/f.fb2-72...   \n",
       "4  /pool1/share/Downloads/Flibusta-Patch/f.fb2-72...   \n",
       "\n",
       "                                              Genres  \\\n",
       "0  sf_fantasy_city;det_action;popadanec;magician_...   \n",
       "1  fanfiction;magician_book;popadanec;network_lit...   \n",
       "2  religion_orthodoxy;religion_christianity;relig...   \n",
       "3                       sf_heroic;sf_humor;sf_social   \n",
       "4  sf_horror;literature_19;literature_20;sf_horro...   \n",
       "\n",
       "                                             Authors  \\\n",
       "0                 Извращенный отшельник;Илья Романов   \n",
       "1                                          Cyberdawn   \n",
       "2                                  Коллектив авторов   \n",
       "3                                     Андрей Немиров   \n",
       "4  Джеймс Брандер Мэтьюз;Артур Грей;Эдмунд Митчел...   \n",
       "\n",
       "                           BookTitle  \\\n",
       "0                  Наемник «S» ранга   \n",
       "1                      Лишний свиток   \n",
       "2          Святитель Василий Великий   \n",
       "3                            Квестер   \n",
       "4  Мистические истории. Фантом озера   \n",
       "\n",
       "                                                Body  \\\n",
       "0  sf_fantasy_city\\n   det_action\\n   popadanec\\n...   \n",
       "1  fanfiction\\n   magician_book\\n   popadanec\\n  ...   \n",
       "2  religion_orthodoxy\\n   religion_christianity\\n...   \n",
       "3  sf_heroic\\n   sf_humor\\n   sf_social\\n   \\n   ...   \n",
       "4  sf_horrorliterature_19literature_20sf_horrorfo...   \n",
       "\n",
       "                                          Annotation    FileName  IsSelected  \\\n",
       "0  \\n    Прожив пять веков в шкуре вампира, я оты...  729588.fb2           0   \n",
       "1  \\n    Попаданец в черножопого, ехидного, своло...  729587.fb2           0   \n",
       "2                                                NaN  729595.fb2           0   \n",
       "3  \\n    Доброго времени суток, читатель! По слов...  729601.fb2           0   \n",
       "4                                                NaN  729599.fb2           0   \n",
       "\n",
       "   is_sf  \n",
       "0   True  \n",
       "1   True  \n",
       "2  False  \n",
       "3   True  \n",
       "4   True  "
      ]
     },
     "execution_count": 5,
     "metadata": {},
     "output_type": "execute_result"
    }
   ],
   "source": [
    "df = pd.read_csv(\"../full.csv\")  # Load the CSV file into a pandas DataFrame\n",
    "\n",
    "# drop all non-string records, unclear where they are coming from\n",
    "df = df[df.apply(lambda row: isinstance(row['Body'], str) and isinstance(row['Genres'], str), axis=1)]\n",
    "\n",
    "def is_sf_genre(genre: str) -> bool:\n",
    "    return genre.startswith('sf') or genre == 'popadanec' or genre == 'litrpg'\n",
    "\n",
    "# define is_sf label\n",
    "df['is_sf'] = df['Genres'].apply(lambda genres: any(is_sf_genre(genre) for genre in genres.split(';')))\n",
    "df.head()"
   ]
  },
  {
   "cell_type": "markdown",
   "metadata": {},
   "source": [
    "Let's define synthetic column that we'll be doing the actual classification on"
   ]
  },
  {
   "cell_type": "code",
   "execution_count": 8,
   "metadata": {},
   "outputs": [
    {
     "data": {
      "text/html": [
       "<div>\n",
       "<style scoped>\n",
       "    .dataframe tbody tr th:only-of-type {\n",
       "        vertical-align: middle;\n",
       "    }\n",
       "\n",
       "    .dataframe tbody tr th {\n",
       "        vertical-align: top;\n",
       "    }\n",
       "\n",
       "    .dataframe thead th {\n",
       "        text-align: right;\n",
       "    }\n",
       "</style>\n",
       "<table border=\"1\" class=\"dataframe\">\n",
       "  <thead>\n",
       "    <tr style=\"text-align: right;\">\n",
       "      <th></th>\n",
       "      <th>ID</th>\n",
       "      <th>Genres</th>\n",
       "      <th>Authors</th>\n",
       "      <th>BookTitle</th>\n",
       "      <th>Body</th>\n",
       "      <th>Annotation</th>\n",
       "      <th>FileName</th>\n",
       "      <th>IsSelected</th>\n",
       "      <th>is_sf</th>\n",
       "      <th>body</th>\n",
       "    </tr>\n",
       "  </thead>\n",
       "  <tbody>\n",
       "    <tr>\n",
       "      <th>22775</th>\n",
       "      <td>/pool1/share/Flibusta/fb2.Flibusta.Net/archive...</td>\n",
       "      <td>sf_fantasy</td>\n",
       "      <td>Александр Золотько</td>\n",
       "      <td>Слепцы</td>\n",
       "      <td>sf_fantasy АлександрЗолотько215eac1c-2a81-102a...</td>\n",
       "      <td>Мир устроен просто: есть Ватага и есть все ост...</td>\n",
       "      <td>225125.fb2</td>\n",
       "      <td>0</td>\n",
       "      <td>True</td>\n",
       "      <td>Мир устроен просто: есть Ватага и есть все ост...</td>\n",
       "    </tr>\n",
       "    <tr>\n",
       "      <th>130847</th>\n",
       "      <td>/pool1/share/Flibusta/fb2.Flibusta.Net/archive...</td>\n",
       "      <td>sf_fantasy</td>\n",
       "      <td>Кристофер Банч</td>\n",
       "      <td>Крылья урагана</td>\n",
       "      <td>sf_fantasy\\n      \\n        Кристофер\\n       ...</td>\n",
       "      <td>\\n        У Хэла Кэйлиса, родившегося и выросш...</td>\n",
       "      <td>580914.fb2</td>\n",
       "      <td>0</td>\n",
       "      <td>True</td>\n",
       "      <td>\\n        У Хэла Кэйлиса, родившегося и выросш...</td>\n",
       "    </tr>\n",
       "    <tr>\n",
       "      <th>80513</th>\n",
       "      <td>/pool1/share/Flibusta/fb2.Flibusta.Net/archive...</td>\n",
       "      <td>litrpg;sf_fantasy</td>\n",
       "      <td>Алексей Свадковский</td>\n",
       "      <td>Игра Хаоса</td>\n",
       "      <td>litrpg\\n   sf_fantasy\\n   \\n    Алексей\\n    Р...</td>\n",
       "      <td>\\n    \\n    По воле Смеющегося господина, одно...</td>\n",
       "      <td>438593.fb2</td>\n",
       "      <td>0</td>\n",
       "      <td>True</td>\n",
       "      <td>\\n    \\n    По воле Смеющегося господина, одно...</td>\n",
       "    </tr>\n",
       "    <tr>\n",
       "      <th>83097</th>\n",
       "      <td>/pool1/share/Flibusta/fb2.Flibusta.Net/archive...</td>\n",
       "      <td>child_tale;children</td>\n",
       "      <td>Евгений Федоров</td>\n",
       "      <td>Вшивая Горка</td>\n",
       "      <td>child_talechildren ЕвгенийСергеевичФедоровebf5...</td>\n",
       "      <td>В новой сказке Совёнок Знакомится с историей В...</td>\n",
       "      <td>447711.fb2</td>\n",
       "      <td>0</td>\n",
       "      <td>False</td>\n",
       "      <td>В новой сказке Совёнок Знакомится с историей В...</td>\n",
       "    </tr>\n",
       "    <tr>\n",
       "      <th>67518</th>\n",
       "      <td>/pool1/share/Flibusta/fb2.Flibusta.Net/archive...</td>\n",
       "      <td>prose_su_classics</td>\n",
       "      <td>Валерий Рогов</td>\n",
       "      <td>Нулевая долгота</td>\n",
       "      <td>prose_su_classics\\n   \\n    Валерий\\n    Степа...</td>\n",
       "      <td>\\n    Книга повестей Валерия Рогова отображает...</td>\n",
       "      <td>393859.fb2</td>\n",
       "      <td>0</td>\n",
       "      <td>False</td>\n",
       "      <td>\\n    Книга повестей Валерия Рогова отображает...</td>\n",
       "    </tr>\n",
       "    <tr>\n",
       "      <th>167667</th>\n",
       "      <td>/pool1/share/Flibusta/fb2.Flibusta.Net/archive...</td>\n",
       "      <td>love_sf</td>\n",
       "      <td>Валентина Никитина</td>\n",
       "      <td>Поймать судьбу за хвост</td>\n",
       "      <td>love_sfВалентинаПетровнаНикитинаde6bd94f-2114-...</td>\n",
       "      <td>Каждому интересно знать, какую судьбу уготовил...</td>\n",
       "      <td>673050.fb2</td>\n",
       "      <td>0</td>\n",
       "      <td>False</td>\n",
       "      <td>Каждому интересно знать, какую судьбу уготовил...</td>\n",
       "    </tr>\n",
       "    <tr>\n",
       "      <th>64465</th>\n",
       "      <td>/pool1/share/Flibusta/fb2.Flibusta.Net/archive...</td>\n",
       "      <td>sf_space</td>\n",
       "      <td>Renash</td>\n",
       "      <td>UZ-Worga</td>\n",
       "      <td>sf_space\\n   \\n    \\n    Renash\\n   \\n   UZ-Wo...</td>\n",
       "      <td>\\n    Текст с форума forum.eve-ru.com\\n</td>\n",
       "      <td>383525.fb2</td>\n",
       "      <td>0</td>\n",
       "      <td>True</td>\n",
       "      <td>\\n    Текст с форума forum.eve-ru.com\\n     Re...</td>\n",
       "    </tr>\n",
       "    <tr>\n",
       "      <th>150716</th>\n",
       "      <td>/pool1/share/Flibusta/fb2.Flibusta.Net/archive...</td>\n",
       "      <td>sf_cyberpunk</td>\n",
       "      <td>Ника  Крылатая</td>\n",
       "      <td>Его строптивое Солнце</td>\n",
       "      <td>sf_cyberpunk\\n   \\n    Ника \\n    Крылатая \\n ...</td>\n",
       "      <td>\\n    Можно ли спрятаться от чудовища в ночном...</td>\n",
       "      <td>631145.fb2</td>\n",
       "      <td>0</td>\n",
       "      <td>True</td>\n",
       "      <td>\\n    Можно ли спрятаться от чудовища в ночном...</td>\n",
       "    </tr>\n",
       "    <tr>\n",
       "      <th>242616</th>\n",
       "      <td>/pool1/share/Flibusta/fb2.Flibusta.Net/archive...</td>\n",
       "      <td>sf_horror</td>\n",
       "      <td>Игорь Лесев</td>\n",
       "      <td>23</td>\n",
       "      <td>sf_horror ИгорьВасильевичЛесев99ab0072-e38a-10...</td>\n",
       "      <td>Если вы хотите почитать настоящий русский ужас...</td>\n",
       "      <td>163867.fb2</td>\n",
       "      <td>0</td>\n",
       "      <td>True</td>\n",
       "      <td>Если вы хотите почитать настоящий русский ужас...</td>\n",
       "    </tr>\n",
       "    <tr>\n",
       "      <th>91735</th>\n",
       "      <td>/pool1/share/Flibusta/fb2.Flibusta.Net/archive...</td>\n",
       "      <td>sf_action</td>\n",
       "      <td>Мария Круз;Андрей Круз</td>\n",
       "      <td>Ар-Деко</td>\n",
       "      <td>sf_action\\n      \\n        Мария\\n        Круз...</td>\n",
       "      <td>\\n        То, что мы задумали на этот раз, без...</td>\n",
       "      <td>471638.fb2</td>\n",
       "      <td>0</td>\n",
       "      <td>True</td>\n",
       "      <td>\\n        То, что мы задумали на этот раз, без...</td>\n",
       "    </tr>\n",
       "  </tbody>\n",
       "</table>\n",
       "</div>"
      ],
      "text/plain": [
       "                                                       ID  \\\n",
       "22775   /pool1/share/Flibusta/fb2.Flibusta.Net/archive...   \n",
       "130847  /pool1/share/Flibusta/fb2.Flibusta.Net/archive...   \n",
       "80513   /pool1/share/Flibusta/fb2.Flibusta.Net/archive...   \n",
       "83097   /pool1/share/Flibusta/fb2.Flibusta.Net/archive...   \n",
       "67518   /pool1/share/Flibusta/fb2.Flibusta.Net/archive...   \n",
       "167667  /pool1/share/Flibusta/fb2.Flibusta.Net/archive...   \n",
       "64465   /pool1/share/Flibusta/fb2.Flibusta.Net/archive...   \n",
       "150716  /pool1/share/Flibusta/fb2.Flibusta.Net/archive...   \n",
       "242616  /pool1/share/Flibusta/fb2.Flibusta.Net/archive...   \n",
       "91735   /pool1/share/Flibusta/fb2.Flibusta.Net/archive...   \n",
       "\n",
       "                     Genres                 Authors                BookTitle  \\\n",
       "22775            sf_fantasy      Александр Золотько                   Слепцы   \n",
       "130847           sf_fantasy          Кристофер Банч           Крылья урагана   \n",
       "80513     litrpg;sf_fantasy     Алексей Свадковский               Игра Хаоса   \n",
       "83097   child_tale;children         Евгений Федоров             Вшивая Горка   \n",
       "67518     prose_su_classics           Валерий Рогов          Нулевая долгота   \n",
       "167667              love_sf      Валентина Никитина  Поймать судьбу за хвост   \n",
       "64465              sf_space                  Renash                 UZ-Worga   \n",
       "150716         sf_cyberpunk         Ника  Крылатая     Его строптивое Солнце   \n",
       "242616            sf_horror             Игорь Лесев                       23   \n",
       "91735             sf_action  Мария Круз;Андрей Круз                  Ар-Деко   \n",
       "\n",
       "                                                     Body  \\\n",
       "22775   sf_fantasy АлександрЗолотько215eac1c-2a81-102a...   \n",
       "130847  sf_fantasy\\n      \\n        Кристофер\\n       ...   \n",
       "80513   litrpg\\n   sf_fantasy\\n   \\n    Алексей\\n    Р...   \n",
       "83097   child_talechildren ЕвгенийСергеевичФедоровebf5...   \n",
       "67518   prose_su_classics\\n   \\n    Валерий\\n    Степа...   \n",
       "167667  love_sfВалентинаПетровнаНикитинаde6bd94f-2114-...   \n",
       "64465   sf_space\\n   \\n    \\n    Renash\\n   \\n   UZ-Wo...   \n",
       "150716  sf_cyberpunk\\n   \\n    Ника \\n    Крылатая \\n ...   \n",
       "242616  sf_horror ИгорьВасильевичЛесев99ab0072-e38a-10...   \n",
       "91735   sf_action\\n      \\n        Мария\\n        Круз...   \n",
       "\n",
       "                                               Annotation    FileName  \\\n",
       "22775   Мир устроен просто: есть Ватага и есть все ост...  225125.fb2   \n",
       "130847  \\n        У Хэла Кэйлиса, родившегося и выросш...  580914.fb2   \n",
       "80513   \\n    \\n    По воле Смеющегося господина, одно...  438593.fb2   \n",
       "83097   В новой сказке Совёнок Знакомится с историей В...  447711.fb2   \n",
       "67518   \\n    Книга повестей Валерия Рогова отображает...  393859.fb2   \n",
       "167667  Каждому интересно знать, какую судьбу уготовил...  673050.fb2   \n",
       "64465          \\n    Текст с форума forum.eve-ru.com\\n     383525.fb2   \n",
       "150716  \\n    Можно ли спрятаться от чудовища в ночном...  631145.fb2   \n",
       "242616  Если вы хотите почитать настоящий русский ужас...  163867.fb2   \n",
       "91735   \\n        То, что мы задумали на этот раз, без...  471638.fb2   \n",
       "\n",
       "        IsSelected  is_sf                                               body  \n",
       "22775            0   True  Мир устроен просто: есть Ватага и есть все ост...  \n",
       "130847           0   True  \\n        У Хэла Кэйлиса, родившегося и выросш...  \n",
       "80513            0   True  \\n    \\n    По воле Смеющегося господина, одно...  \n",
       "83097            0  False  В новой сказке Совёнок Знакомится с историей В...  \n",
       "67518            0  False  \\n    Книга повестей Валерия Рогова отображает...  \n",
       "167667           0  False  Каждому интересно знать, какую судьбу уготовил...  \n",
       "64465            0   True  \\n    Текст с форума forum.eve-ru.com\\n     Re...  \n",
       "150716           0   True  \\n    Можно ли спрятаться от чудовища в ночном...  \n",
       "242616           0   True  Если вы хотите почитать настоящий русский ужас...  \n",
       "91735            0   True  \\n        То, что мы задумали на этот раз, без...  "
      ]
     },
     "execution_count": 8,
     "metadata": {},
     "output_type": "execute_result"
    }
   ],
   "source": [
    "# remove all rows which do not have annotation\n",
    "df = df[df['Annotation'].str.len() >= 20]\n",
    "\n",
    "# Create 'body' field by concatenating 'Annotation', 'Authors', 'Genres', and 'BookTitle'\n",
    "df['body'] = df['Annotation'] + ' ' + df['Authors'] + ' ' + df['Genres'] + ' ' + df['BookTitle']\n",
    "df.sample(10)"
   ]
  },
  {
   "cell_type": "code",
   "execution_count": 9,
   "metadata": {},
   "outputs": [
    {
     "data": {
      "text/html": [
       "<div>\n",
       "<style scoped>\n",
       "    .dataframe tbody tr th:only-of-type {\n",
       "        vertical-align: middle;\n",
       "    }\n",
       "\n",
       "    .dataframe tbody tr th {\n",
       "        vertical-align: top;\n",
       "    }\n",
       "\n",
       "    .dataframe thead th {\n",
       "        text-align: right;\n",
       "    }\n",
       "</style>\n",
       "<table border=\"1\" class=\"dataframe\">\n",
       "  <thead>\n",
       "    <tr style=\"text-align: right;\">\n",
       "      <th></th>\n",
       "      <th>ID</th>\n",
       "      <th>Genres</th>\n",
       "      <th>Authors</th>\n",
       "      <th>BookTitle</th>\n",
       "      <th>Body</th>\n",
       "      <th>Annotation</th>\n",
       "      <th>FileName</th>\n",
       "      <th>IsSelected</th>\n",
       "      <th>is_sf</th>\n",
       "      <th>body</th>\n",
       "    </tr>\n",
       "  </thead>\n",
       "  <tbody>\n",
       "    <tr>\n",
       "      <th>414</th>\n",
       "      <td>/pool1/share/Flibusta/fb2.Flibusta.Net/archive...</td>\n",
       "      <td>sf_action;sf_space;sf_cyberpunk</td>\n",
       "      <td>Михаил Атаманов</td>\n",
       "      <td>Искажающие Реальность-8</td>\n",
       "      <td>sf_action\\n   sf_space\\n   sf_cyberpunk\\n   \\n...</td>\n",
       "      <td>\\n    Вторжение агрессоров из другой галактики...</td>\n",
       "      <td>621229.fb2</td>\n",
       "      <td>1</td>\n",
       "      <td>True</td>\n",
       "      <td>\\n    Вторжение агрессоров из другой галактики...</td>\n",
       "    </tr>\n",
       "    <tr>\n",
       "      <th>771</th>\n",
       "      <td>/pool1/share/Flibusta/fb2.Flibusta.Net/archive...</td>\n",
       "      <td>adventure;love_fantasy;love_sf</td>\n",
       "      <td>Татьяна Гранд</td>\n",
       "      <td>Кто ты?</td>\n",
       "      <td>adventurelove_fantasylove_sfТатьянаГрандaaf7c4...</td>\n",
       "      <td>Алиса обыкновенная девушка, но как только она ...</td>\n",
       "      <td>686243.fb2</td>\n",
       "      <td>0</td>\n",
       "      <td>False</td>\n",
       "      <td>Алиса обыкновенная девушка, но как только она ...</td>\n",
       "    </tr>\n",
       "    <tr>\n",
       "      <th>43</th>\n",
       "      <td>/pool1/share/Downloads/Flibusta-Patch/f.fb2-74...</td>\n",
       "      <td>popadanec;sf_fantasy_city;network_literature</td>\n",
       "      <td>Василий Криптонов;Мила Бачурова</td>\n",
       "      <td>Тень врага</td>\n",
       "      <td>popadanec\\n   sf_fantasy_city\\n   network_lite...</td>\n",
       "      <td>\\n    Изначальная магия — слова, заставляющие ...</td>\n",
       "      <td>746409.fb2</td>\n",
       "      <td>1</td>\n",
       "      <td>True</td>\n",
       "      <td>\\n    Изначальная магия — слова, заставляющие ...</td>\n",
       "    </tr>\n",
       "    <tr>\n",
       "      <th>501</th>\n",
       "      <td>/pool1/share/Flibusta/fb2.Flibusta.Net/archive...</td>\n",
       "      <td>sf_fantasy</td>\n",
       "      <td>Андрей Рымин</td>\n",
       "      <td>Игрок</td>\n",
       "      <td>sf_fantasy\\n   \\n    Андрей\\n    Рымин\\n   \\n ...</td>\n",
       "      <td>\\n    История попаданца-Санька в мире гигантск...</td>\n",
       "      <td>654350.fb2</td>\n",
       "      <td>1</td>\n",
       "      <td>True</td>\n",
       "      <td>\\n    История попаданца-Санька в мире гигантск...</td>\n",
       "    </tr>\n",
       "    <tr>\n",
       "      <th>1419</th>\n",
       "      <td>/pool1/share/Flibusta/fb2.Flibusta.Net/archive...</td>\n",
       "      <td>love_sf;network_literature;sf_action;sf_social</td>\n",
       "      <td>Сергей Кусков</td>\n",
       "      <td>После навсегда (весь текст)</td>\n",
       "      <td>﻿\\n\\n  \\n    \\n      love_sf\\n      network_li...</td>\n",
       "      <td>\\n        \\n          Это не конец. Ред. от 02...</td>\n",
       "      <td>594894.fb2</td>\n",
       "      <td>0</td>\n",
       "      <td>True</td>\n",
       "      <td>\\n        \\n          Это не конец. Ред. от 02...</td>\n",
       "    </tr>\n",
       "    <tr>\n",
       "      <th>1006</th>\n",
       "      <td>/pool1/share/Flibusta/fb2.Flibusta.Net/archive...</td>\n",
       "      <td>ref_ref</td>\n",
       "      <td>Юрий Апальков</td>\n",
       "      <td>Боевые корабли японского флота 10.1918-8.1945 ...</td>\n",
       "      <td>ref_ref\\n   \\n    Юрий\\n    Валентинович\\n    ...</td>\n",
       "      <td>\\n    Предлагаемый вниманию читателей справочн...</td>\n",
       "      <td>416008.fb2</td>\n",
       "      <td>0</td>\n",
       "      <td>False</td>\n",
       "      <td>\\n    Предлагаемый вниманию читателей справочн...</td>\n",
       "    </tr>\n",
       "    <tr>\n",
       "      <th>23</th>\n",
       "      <td>/pool1/share/Downloads/Flibusta-Patch/f.fb2-72...</td>\n",
       "      <td>popadanec;sf_social;sf_history</td>\n",
       "      <td>Роман Злотников</td>\n",
       "      <td>Каждому по делам его</td>\n",
       "      <td>popadanecsf_socialsf_history РоманВалерьевичЗл...</td>\n",
       "      <td>«Всё, изложенное в этой книге – есть полная и ...</td>\n",
       "      <td>734195.fb2</td>\n",
       "      <td>1</td>\n",
       "      <td>True</td>\n",
       "      <td>«Всё, изложенное в этой книге – есть полная и ...</td>\n",
       "    </tr>\n",
       "    <tr>\n",
       "      <th>825</th>\n",
       "      <td>/pool1/share/Flibusta/fb2.Flibusta.Net/archive...</td>\n",
       "      <td>prose_su_classics</td>\n",
       "      <td>Анатолий Никульков</td>\n",
       "      <td>Трудное знакомство</td>\n",
       "      <td>prose_su_classics\\n   \\n    Анатолий\\n    Васи...</td>\n",
       "      <td>\\n    От составителя\\n    …Стремление представ...</td>\n",
       "      <td>269351.fb2</td>\n",
       "      <td>0</td>\n",
       "      <td>False</td>\n",
       "      <td>\\n    От составителя\\n    …Стремление представ...</td>\n",
       "    </tr>\n",
       "    <tr>\n",
       "      <th>928</th>\n",
       "      <td>/pool1/share/Flibusta/fb2.Flibusta.Net/archive...</td>\n",
       "      <td>love_sf;adventure;magician_book</td>\n",
       "      <td>Дмитрий Романов</td>\n",
       "      <td>Душа Леса</td>\n",
       "      <td>love_sfadventuremagician_bookДмитрийСергеевичР...</td>\n",
       "      <td>Обычная девочка, гуляя со своей подругой, нахо...</td>\n",
       "      <td>715350.fb2</td>\n",
       "      <td>0</td>\n",
       "      <td>False</td>\n",
       "      <td>Обычная девочка, гуляя со своей подругой, нахо...</td>\n",
       "    </tr>\n",
       "    <tr>\n",
       "      <th>416</th>\n",
       "      <td>/pool1/share/Flibusta/fb2.Flibusta.Net/archive...</td>\n",
       "      <td>sf_heroic;sf_history;sf_fantasy;network_litera...</td>\n",
       "      <td>Рост Толбери</td>\n",
       "      <td>Кальдур Живой Доспех</td>\n",
       "      <td>sf_heroic\\n   sf_history\\n   sf_fantasy\\n   ne...</td>\n",
       "      <td>\\n    Здесь нет тиктока, инсты и прочих атрибу...</td>\n",
       "      <td>621758.fb2</td>\n",
       "      <td>1</td>\n",
       "      <td>True</td>\n",
       "      <td>\\n    Здесь нет тиктока, инсты и прочих атрибу...</td>\n",
       "    </tr>\n",
       "  </tbody>\n",
       "</table>\n",
       "</div>"
      ],
      "text/plain": [
       "                                                     ID  \\\n",
       "414   /pool1/share/Flibusta/fb2.Flibusta.Net/archive...   \n",
       "771   /pool1/share/Flibusta/fb2.Flibusta.Net/archive...   \n",
       "43    /pool1/share/Downloads/Flibusta-Patch/f.fb2-74...   \n",
       "501   /pool1/share/Flibusta/fb2.Flibusta.Net/archive...   \n",
       "1419  /pool1/share/Flibusta/fb2.Flibusta.Net/archive...   \n",
       "1006  /pool1/share/Flibusta/fb2.Flibusta.Net/archive...   \n",
       "23    /pool1/share/Downloads/Flibusta-Patch/f.fb2-72...   \n",
       "825   /pool1/share/Flibusta/fb2.Flibusta.Net/archive...   \n",
       "928   /pool1/share/Flibusta/fb2.Flibusta.Net/archive...   \n",
       "416   /pool1/share/Flibusta/fb2.Flibusta.Net/archive...   \n",
       "\n",
       "                                                 Genres  \\\n",
       "414                     sf_action;sf_space;sf_cyberpunk   \n",
       "771                      adventure;love_fantasy;love_sf   \n",
       "43         popadanec;sf_fantasy_city;network_literature   \n",
       "501                                          sf_fantasy   \n",
       "1419     love_sf;network_literature;sf_action;sf_social   \n",
       "1006                                            ref_ref   \n",
       "23                       popadanec;sf_social;sf_history   \n",
       "825                                   prose_su_classics   \n",
       "928                     love_sf;adventure;magician_book   \n",
       "416   sf_heroic;sf_history;sf_fantasy;network_litera...   \n",
       "\n",
       "                              Authors  \\\n",
       "414                   Михаил Атаманов   \n",
       "771                     Татьяна Гранд   \n",
       "43    Василий Криптонов;Мила Бачурова   \n",
       "501                      Андрей Рымин   \n",
       "1419                    Сергей Кусков   \n",
       "1006                    Юрий Апальков   \n",
       "23                    Роман Злотников   \n",
       "825                Анатолий Никульков   \n",
       "928                   Дмитрий Романов   \n",
       "416                      Рост Толбери   \n",
       "\n",
       "                                              BookTitle  \\\n",
       "414                             Искажающие Реальность-8   \n",
       "771                                             Кто ты?   \n",
       "43                                           Тень врага   \n",
       "501                                               Игрок   \n",
       "1419                        После навсегда (весь текст)   \n",
       "1006  Боевые корабли японского флота 10.1918-8.1945 ...   \n",
       "23                                 Каждому по делам его   \n",
       "825                                  Трудное знакомство   \n",
       "928                                           Душа Леса   \n",
       "416                                Кальдур Живой Доспех   \n",
       "\n",
       "                                                   Body  \\\n",
       "414   sf_action\\n   sf_space\\n   sf_cyberpunk\\n   \\n...   \n",
       "771   adventurelove_fantasylove_sfТатьянаГрандaaf7c4...   \n",
       "43    popadanec\\n   sf_fantasy_city\\n   network_lite...   \n",
       "501   sf_fantasy\\n   \\n    Андрей\\n    Рымин\\n   \\n ...   \n",
       "1419  ﻿\\n\\n  \\n    \\n      love_sf\\n      network_li...   \n",
       "1006  ref_ref\\n   \\n    Юрий\\n    Валентинович\\n    ...   \n",
       "23    popadanecsf_socialsf_history РоманВалерьевичЗл...   \n",
       "825   prose_su_classics\\n   \\n    Анатолий\\n    Васи...   \n",
       "928   love_sfadventuremagician_bookДмитрийСергеевичР...   \n",
       "416   sf_heroic\\n   sf_history\\n   sf_fantasy\\n   ne...   \n",
       "\n",
       "                                             Annotation    FileName  \\\n",
       "414   \\n    Вторжение агрессоров из другой галактики...  621229.fb2   \n",
       "771   Алиса обыкновенная девушка, но как только она ...  686243.fb2   \n",
       "43    \\n    Изначальная магия — слова, заставляющие ...  746409.fb2   \n",
       "501   \\n    История попаданца-Санька в мире гигантск...  654350.fb2   \n",
       "1419  \\n        \\n          Это не конец. Ред. от 02...  594894.fb2   \n",
       "1006  \\n    Предлагаемый вниманию читателей справочн...  416008.fb2   \n",
       "23    «Всё, изложенное в этой книге – есть полная и ...  734195.fb2   \n",
       "825   \\n    От составителя\\n    …Стремление представ...  269351.fb2   \n",
       "928   Обычная девочка, гуляя со своей подругой, нахо...  715350.fb2   \n",
       "416   \\n    Здесь нет тиктока, инсты и прочих атрибу...  621758.fb2   \n",
       "\n",
       "      IsSelected  is_sf                                               body  \n",
       "414            1   True  \\n    Вторжение агрессоров из другой галактики...  \n",
       "771            0  False  Алиса обыкновенная девушка, но как только она ...  \n",
       "43             1   True  \\n    Изначальная магия — слова, заставляющие ...  \n",
       "501            1   True  \\n    История попаданца-Санька в мире гигантск...  \n",
       "1419           0   True  \\n        \\n          Это не конец. Ред. от 02...  \n",
       "1006           0  False  \\n    Предлагаемый вниманию читателей справочн...  \n",
       "23             1   True  «Всё, изложенное в этой книге – есть полная и ...  \n",
       "825            0  False  \\n    От составителя\\n    …Стремление представ...  \n",
       "928            0  False  Обычная девочка, гуляя со своей подругой, нахо...  \n",
       "416            1   True  \\n    Здесь нет тиктока, инсты и прочих атрибу...  "
      ]
     },
     "execution_count": 9,
     "metadata": {},
     "output_type": "execute_result"
    }
   ],
   "source": [
    "# Filter the dataframe based on the conditions\n",
    "df_selected_1 = df[(df['IsSelected'] == 1)]\n",
    "df_selected_0 = df[(df['IsSelected'] == 0) & (~df['is_sf'])]\n",
    "\n",
    "# -1 are manually selected negative samples\n",
    "df_selected_neg = df[(df['IsSelected'] == -1)]\n",
    "\n",
    "# Sample the same number of records where selected = 0\n",
    "df_selected_0_sampled = df_selected_0.sample(n=len(df_selected_1), random_state=42)\n",
    "\n",
    "negative_samples = pd.concat([df_selected_0_sampled, df_selected_neg])\n",
    "\n",
    "# Set 'selected' to 0 for all negative_samples\n",
    "negative_samples['IsSelected'] = 0\n",
    "\n",
    "# Concatenate the two dataframes\n",
    "new_df = pd.concat([df_selected_1, negative_samples])\n",
    "\n",
    "# Reset the index of the new dataframe\n",
    "new_df.reset_index(drop=True, inplace=True)\n",
    "\n",
    "# Print the new dataframe\n",
    "new_df.sample(10)\n"
   ]
  },
  {
   "cell_type": "markdown",
   "metadata": {},
   "source": [
    "Defining tokenizer and some helper methods"
   ]
  },
  {
   "cell_type": "code",
   "execution_count": 11,
   "metadata": {},
   "outputs": [],
   "source": [
    "# Tokenizer\n",
    "tokenizer = AutoTokenizer.from_pretrained(MODEL_NAME)\n",
    "\n",
    "# Function to segment and tokenize text\n",
    "def segment_and_tokenize(text):\n",
    "    # Split text into sentences\n",
    "    sentences = sent_tokenize(text, language='russian')\n",
    "    tokenized_output = []\n",
    "    attention_mask_output = []\n",
    "\n",
    "    for sentence in sentences:\n",
    "        # Tokenize each sentence\n",
    "        tokens = tokenizer.encode_plus(sentence, add_special_tokens=True, max_length=MAX_TOKENS, \n",
    "                                       truncation=True, padding='max_length', return_tensors='tf')\n",
    "        tokenized_output.append(tokens['input_ids'])\n",
    "        attention_mask_output.append(tokens['attention_mask'])\n",
    "\n",
    "        # Check if we've reached the maximum number of tokens\n",
    "        if sum([len(t[0]) for t in tokenized_output]) >= MAX_TOKENS:\n",
    "            break\n",
    "\n",
    "    # Combine tokenized sentences up to the maximum length\n",
    "    input_ids = tf.concat(tokenized_output, axis=1)[0,:MAX_TOKENS]\n",
    "    attention_mask = tf.concat(attention_mask_output, axis=1)[0,:MAX_TOKENS]\n",
    "\n",
    "    return input_ids, attention_mask"
   ]
  },
  {
   "cell_type": "markdown",
   "metadata": {},
   "source": [
    "Let's run the tokenization and segmentation of the data"
   ]
  },
  {
   "cell_type": "code",
   "execution_count": 12,
   "metadata": {},
   "outputs": [
    {
     "name": "stderr",
     "output_type": "stream",
     "text": [
      "2023-11-28 11:25:55.321580: I tensorflow/compiler/xla/stream_executor/cuda/cuda_gpu_executor.cc:880] could not open file to read NUMA node: /sys/bus/pci/devices/0000:26:00.0/numa_node\n",
      "Your kernel may have been built without NUMA support.\n",
      "2023-11-28 11:25:55.327734: I tensorflow/compiler/xla/stream_executor/cuda/cuda_gpu_executor.cc:880] could not open file to read NUMA node: /sys/bus/pci/devices/0000:26:00.0/numa_node\n",
      "Your kernel may have been built without NUMA support.\n",
      "2023-11-28 11:25:55.327767: I tensorflow/compiler/xla/stream_executor/cuda/cuda_gpu_executor.cc:880] could not open file to read NUMA node: /sys/bus/pci/devices/0000:26:00.0/numa_node\n",
      "Your kernel may have been built without NUMA support.\n",
      "2023-11-28 11:25:55.329354: I tensorflow/compiler/xla/stream_executor/cuda/cuda_gpu_executor.cc:880] could not open file to read NUMA node: /sys/bus/pci/devices/0000:26:00.0/numa_node\n",
      "Your kernel may have been built without NUMA support.\n",
      "2023-11-28 11:25:55.329381: I tensorflow/compiler/xla/stream_executor/cuda/cuda_gpu_executor.cc:880] could not open file to read NUMA node: /sys/bus/pci/devices/0000:26:00.0/numa_node\n",
      "Your kernel may have been built without NUMA support.\n",
      "2023-11-28 11:25:55.329410: I tensorflow/compiler/xla/stream_executor/cuda/cuda_gpu_executor.cc:880] could not open file to read NUMA node: /sys/bus/pci/devices/0000:26:00.0/numa_node\n",
      "Your kernel may have been built without NUMA support.\n",
      "2023-11-28 11:25:55.854408: I tensorflow/compiler/xla/stream_executor/cuda/cuda_gpu_executor.cc:880] could not open file to read NUMA node: /sys/bus/pci/devices/0000:26:00.0/numa_node\n",
      "Your kernel may have been built without NUMA support.\n",
      "2023-11-28 11:25:55.854451: I tensorflow/compiler/xla/stream_executor/cuda/cuda_gpu_executor.cc:880] could not open file to read NUMA node: /sys/bus/pci/devices/0000:26:00.0/numa_node\n",
      "Your kernel may have been built without NUMA support.\n",
      "2023-11-28 11:25:55.854457: I tensorflow/core/common_runtime/gpu/gpu_device.cc:1977] Could not identify NUMA node of platform GPU id 0, defaulting to 0.  Your kernel may not have been built with NUMA support.\n",
      "2023-11-28 11:25:55.854484: I tensorflow/compiler/xla/stream_executor/cuda/cuda_gpu_executor.cc:880] could not open file to read NUMA node: /sys/bus/pci/devices/0000:26:00.0/numa_node\n",
      "Your kernel may have been built without NUMA support.\n",
      "2023-11-28 11:25:55.854536: I tensorflow/core/common_runtime/gpu/gpu_device.cc:1886] Created device /job:localhost/replica:0/task:0/device:GPU:0 with 5925 MB memory:  -> device: 0, name: NVIDIA GeForce RTX 2070, pci bus id: 0000:26:00.0, compute capability: 7.5\n"
     ]
    }
   ],
   "source": [
    "# Apply the function to the dataset\n",
    "new_df['segmented_data'] = new_df['body'].apply(segment_and_tokenize)\n",
    "new_df[['tokens', 'attention_mask']] = pd.DataFrame(new_df['segmented_data'].tolist(), index=new_df.index)"
   ]
  },
  {
   "cell_type": "markdown",
   "metadata": {},
   "source": [
    "Now let's prepare and split the dataset"
   ]
  },
  {
   "cell_type": "code",
   "execution_count": 13,
   "metadata": {},
   "outputs": [],
   "source": [
    "# Prepare dataset\n",
    "X_ids = np.array(new_df['tokens'].tolist())\n",
    "X_mask = np.array(new_df['attention_mask'].tolist())\n",
    "\n",
    "y = new_df['is_sf'].values\n",
    "X_train_ids, X_test_ids, X_train_mask, X_test_mask, y_train, y_test = train_test_split(X_ids, X_mask, y, test_size=0.2)\n"
   ]
  },
  {
   "cell_type": "markdown",
   "metadata": {},
   "source": [
    "Let's load the model now and define how we are fine-tuning it"
   ]
  },
  {
   "cell_type": "code",
   "execution_count": 14,
   "metadata": {},
   "outputs": [
    {
     "name": "stderr",
     "output_type": "stream",
     "text": [
      "2023-11-28 11:26:05.351920: I tensorflow/tsl/platform/default/subprocess.cc:304] Start cannot spawn child process: No such file or directory\n",
      "Some weights of the PyTorch model were not used when initializing the TF 2.0 model TFBertModel: ['cls.seq_relationship.weight', 'cls.predictions.transform.dense.bias', 'cls.predictions.decoder.weight', 'bert.embeddings.position_ids', 'cls.predictions.bias', 'cls.seq_relationship.bias', 'cls.predictions.transform.LayerNorm.weight', 'cls.predictions.transform.dense.weight', 'cls.predictions.transform.LayerNorm.bias', 'cls.predictions.decoder.bias']\n",
      "- This IS expected if you are initializing TFBertModel from a PyTorch model trained on another task or with another architecture (e.g. initializing a TFBertForSequenceClassification model from a BertForPreTraining model).\n",
      "- This IS NOT expected if you are initializing TFBertModel from a PyTorch model that you expect to be exactly identical (e.g. initializing a TFBertForSequenceClassification model from a BertForSequenceClassification model).\n",
      "All the weights of TFBertModel were initialized from the PyTorch model.\n",
      "If your task is similar to the task the model of the checkpoint was trained on, you can already use TFBertModel for predictions without further training.\n"
     ]
    }
   ],
   "source": [
    "bert = TFAutoModel.from_pretrained(MODEL_NAME, from_pt=True)\n",
    "input_ids = Input(shape=(MAX_TOKENS,), dtype=tf.int32, name='input_ids')\n",
    "input_mask = Input(shape=(MAX_TOKENS,), dtype=tf.int32, name='attention_mask')\n",
    "\n",
    "embeddings = bert(input_ids, attention_mask=input_mask)[0]\n",
    "pooled = GlobalMaxPool1D()(embeddings)\n",
    "output = Dense(1, activation='sigmoid')(pooled)\n",
    "\n",
    "model = Model(inputs=[input_ids, input_mask], outputs=output)"
   ]
  },
  {
   "cell_type": "code",
   "execution_count": 15,
   "metadata": {},
   "outputs": [],
   "source": [
    "model.compile(optimizer=Adam(learning_rate=5e-5), loss='binary_crossentropy', metrics=['accuracy'])"
   ]
  },
  {
   "cell_type": "code",
   "execution_count": 16,
   "metadata": {},
   "outputs": [
    {
     "name": "stdout",
     "output_type": "stream",
     "text": [
      "Epoch 1/8\n",
      "WARNING:tensorflow:Gradients do not exist for variables ['tf_bert_model/bert/pooler/dense/kernel:0', 'tf_bert_model/bert/pooler/dense/bias:0'] when minimizing the loss. If you're using `model.compile()`, did you forget to provide a `loss` argument?\n",
      "WARNING:tensorflow:Gradients do not exist for variables ['tf_bert_model/bert/pooler/dense/kernel:0', 'tf_bert_model/bert/pooler/dense/bias:0'] when minimizing the loss. If you're using `model.compile()`, did you forget to provide a `loss` argument?\n",
      "WARNING:tensorflow:Gradients do not exist for variables ['tf_bert_model/bert/pooler/dense/kernel:0', 'tf_bert_model/bert/pooler/dense/bias:0'] when minimizing the loss. If you're using `model.compile()`, did you forget to provide a `loss` argument?\n",
      "WARNING:tensorflow:Gradients do not exist for variables ['tf_bert_model/bert/pooler/dense/kernel:0', 'tf_bert_model/bert/pooler/dense/bias:0'] when minimizing the loss. If you're using `model.compile()`, did you forget to provide a `loss` argument?\n"
     ]
    },
    {
     "name": "stderr",
     "output_type": "stream",
     "text": [
      "2023-11-28 11:26:29.216678: I tensorflow/compiler/xla/service/service.cc:168] XLA service 0x7f323c245530 initialized for platform CUDA (this does not guarantee that XLA will be used). Devices:\n",
      "2023-11-28 11:26:29.216708: I tensorflow/compiler/xla/service/service.cc:176]   StreamExecutor device (0): NVIDIA GeForce RTX 2070, Compute Capability 7.5\n",
      "2023-11-28 11:26:29.221023: I tensorflow/compiler/mlir/tensorflow/utils/dump_mlir_util.cc:269] disabling MLIR crash reproducer, set env var `MLIR_CRASH_REPRODUCER_DIRECTORY` to enable.\n",
      "2023-11-28 11:26:29.327601: I tensorflow/compiler/xla/stream_executor/cuda/cuda_dnn.cc:442] Loaded cuDNN version 8700\n",
      "2023-11-28 11:26:29.366656: I ./tensorflow/compiler/jit/device_compiler.h:186] Compiled cluster using XLA!  This line is logged at most once for the lifetime of the process.\n"
     ]
    },
    {
     "name": "stdout",
     "output_type": "stream",
     "text": [
      "58/58 [==============================] - 90s 1s/step - loss: 0.4934 - accuracy: 0.7489 - val_loss: 0.3695 - val_accuracy: 0.8405\n",
      "Epoch 2/8\n",
      "58/58 [==============================] - 72s 1s/step - loss: 0.2323 - accuracy: 0.8929 - val_loss: 0.3274 - val_accuracy: 0.8664\n",
      "Epoch 3/8\n",
      "58/58 [==============================] - 99s 2s/step - loss: 0.0772 - accuracy: 0.9773 - val_loss: 0.4531 - val_accuracy: 0.8621\n",
      "Epoch 4/8\n",
      "58/58 [==============================] - 126s 2s/step - loss: 0.0559 - accuracy: 0.9838 - val_loss: 0.4000 - val_accuracy: 0.8750\n",
      "Epoch 5/8\n",
      "58/58 [==============================] - 120s 2s/step - loss: 0.0434 - accuracy: 0.9881 - val_loss: 0.4157 - val_accuracy: 0.8664\n",
      "Epoch 6/8\n",
      "58/58 [==============================] - 121s 2s/step - loss: 0.0180 - accuracy: 0.9935 - val_loss: 0.5577 - val_accuracy: 0.8664\n",
      "Epoch 7/8\n",
      "58/58 [==============================] - 87s 1s/step - loss: 0.0204 - accuracy: 0.9946 - val_loss: 0.5345 - val_accuracy: 0.8534\n",
      "Epoch 8/8\n",
      "58/58 [==============================] - 56s 965ms/step - loss: 0.0139 - accuracy: 0.9957 - val_loss: 0.5019 - val_accuracy: 0.8707\n"
     ]
    }
   ],
   "source": [
    "\n",
    "history = model.fit([X_train_ids, X_train_mask], y_train, batch_size=16, epochs=8, validation_split=0.2)"
   ]
  },
  {
   "cell_type": "code",
   "execution_count": 17,
   "metadata": {},
   "outputs": [
    {
     "data": {
      "image/png": "[encoded data removed]",
      "text/plain": [
       "<Figure size 640x480 with 1 Axes>"
      ]
     },
     "metadata": {},
     "output_type": "display_data"
    },
    {
     "data": {
      "image/png": "[encoded data removed]",
      "text/plain": [
       "<Figure size 640x480 with 1 Axes>"
      ]
     },
     "metadata": {},
     "output_type": "display_data"
    }
   ],
   "source": [
    "import matplotlib.pyplot as plt\n",
    "\n",
    "# 'history' is the object returned by the model.fit() method in TensorFlow\n",
    "\n",
    "# Summarize history for accuracy\n",
    "plt.plot(history.history['accuracy'])\n",
    "plt.plot(history.history['val_accuracy'])\n",
    "plt.title('Model Accuracy')\n",
    "plt.ylabel('Accuracy')\n",
    "plt.xlabel('Epoch')\n",
    "plt.legend(['Train', 'Validation'], loc='upper left')\n",
    "plt.show()\n",
    "\n",
    "# Summarize history for loss\n",
    "plt.plot(history.history['loss'])\n",
    "plt.plot(history.history['val_loss'])\n",
    "plt.title('Model Loss')\n",
    "plt.ylabel('Loss')\n",
    "plt.xlabel('Epoch')\n",
    "plt.legend(['Train', 'Validation'], loc='upper left')\n",
    "plt.show()"
   ]
  },
  {
   "cell_type": "code",
   "execution_count": 13,
   "metadata": {},
   "outputs": [
    {
     "name": "stdout",
     "output_type": "stream",
     "text": [
      "4/4 [==============================] - 1s 153ms/step - loss: 0.8835 - accuracy: 0.8095\n"
     ]
    },
    {
     "data": {
      "text/plain": [
       "[0.8835418820381165, 0.8095238208770752]"
      ]
     },
     "execution_count": 13,
     "metadata": {},
     "output_type": "execute_result"
    }
   ],
   "source": [
    "model.evaluate([X_test_ids, X_test_mask], y_test)"
   ]
  },
  {
   "cell_type": "code",
   "execution_count": 18,
   "metadata": {},
   "outputs": [
    {
     "name": "stderr",
     "output_type": "stream",
     "text": [
      "/home/sgzmd/code/FliNet/toy/venv/lib/python3.10/site-packages/transformers/generation/tf_utils.py:465: UserWarning: `seed_generator` is deprecated and will be removed in a future version.\n",
      "  warnings.warn(\"`seed_generator` is deprecated and will be removed in a future version.\", UserWarning)\n"
     ]
    }
   ],
   "source": [
    "model.save('mode-annotation-genre-author-title.keras')"
   ]
  },
  {
   "cell_type": "code",
   "execution_count": 20,
   "metadata": {},
   "outputs": [
    {
     "name": "stdout",
     "output_type": "stream",
     "text": [
      "3588/3588 [==============================] - 1768s 492ms/step\n"
     ]
    }
   ],
   "source": [
    "df_sf = df[(df['IsSelected'] == 0) & df['is_sf']]\n",
    "df_sf = df_sf.dropna(subset=['body'])\n",
    "\n",
    "df_sf['segmented_data'] = df_sf['body'].apply(segment_and_tokenize)\n",
    "df_sf[['tokens', 'attention_mask']] = pd.DataFrame(df_sf['segmented_data'].tolist(), index=df_sf.index)\n",
    "\n",
    "inference_X_ids = np.array(df_sf['tokens'].tolist())\n",
    "inference_X_mask = np.array(df_sf['attention_mask'].tolist())\n",
    "\n",
    "\n",
    "# Make predictions\n",
    "predictions = model.predict([inference_X_ids, inference_X_mask])\n",
    "\n",
    "# Get the top 100 results\n",
    "top_1000_results = df_sf.iloc[predictions.argsort(axis=0)[-1000:].flatten()]\n"
   ]
  },
  {
   "cell_type": "code",
   "execution_count": 16,
   "metadata": {},
   "outputs": [],
   "source": [
    "# top_1000_results.to_csv('top_100_results.csv', index=False)"
   ]
  },
  {
   "cell_type": "code",
   "execution_count": 33,
   "metadata": {},
   "outputs": [],
   "source": [
    "top_1000_results['FileName'].to_csv('top_1000_small_matched.txt', index=False, header=False)\n",
    "SQL = \"\"\"\n",
    "DROP TABLE IF EXISTS DetectedBooks;\n",
    "\n",
    "CREATE TABLE DetectedBooks (\n",
    "    FileName VARCHAR(255) NOT NULL,\n",
    "    Annotation VARCHAR(255) NOT NULL,\n",
    "    BookTitle VARCHAR(255) NOT NULL,\n",
    "    Authors VARCHAR(255) NOT NULL,\n",
    "    Genres VARCHAR(255) NOT NULL\n",
    ");\n",
    "\n",
    "INSERT INTO DetectedBooks (FileName, Annotation, BookTitle, Authors, Genres) VALUES\n",
    "\"\"\"\n",
    "\n",
    "for i, row in top_1000_results.iterrows():\n",
    "    SQL += f\"('{row['FileName']}', '{row['Annotation']}', '{row['BookTitle']}', '{row['Authors']}', '{row['Genres']}'),\\n\"\n",
    "\n",
    "SQL = SQL[:-2] + ';'\n"
   ]
  },
  {
   "cell_type": "code",
   "execution_count": 36,
   "metadata": {},
   "outputs": [
    {
     "data": {
      "application/vnd.jupyter.widget-view+json": {
       "model_id": "ad4ce647c16247769b93597614c3cd9e",
       "version_major": 2,
       "version_minor": 0
      },
      "text/plain": [
       "Text(value='', description='Host:', placeholder='Enter database host')"
      ]
     },
     "metadata": {},
     "output_type": "display_data"
    },
    {
     "data": {
      "application/vnd.jupyter.widget-view+json": {
       "model_id": "782375e7877842b0a0b7335b9a30da33",
       "version_major": 2,
       "version_minor": 0
      },
      "text/plain": [
       "IntText(value=0, description='Port:')"
      ]
     },
     "metadata": {},
     "output_type": "display_data"
    },
    {
     "data": {
      "application/vnd.jupyter.widget-view+json": {
       "model_id": "a1da176c15fa418aa79fca5745485ecb",
       "version_major": 2,
       "version_minor": 0
      },
      "text/plain": [
       "Text(value='', description='Username:', placeholder='Enter username')"
      ]
     },
     "metadata": {},
     "output_type": "display_data"
    },
    {
     "data": {
      "application/vnd.jupyter.widget-view+json": {
       "model_id": "20a5676be78047de89cbf7983d28f35d",
       "version_major": 2,
       "version_minor": 0
      },
      "text/plain": [
       "Password(description='Password:', placeholder='Enter password')"
      ]
     },
     "metadata": {},
     "output_type": "display_data"
    },
    {
     "data": {
      "application/vnd.jupyter.widget-view+json": {
       "model_id": "71663b6332474cf7874fe5a9b97d0d05",
       "version_major": 2,
       "version_minor": 0
      },
      "text/plain": [
       "Text(value='', description='Database:', placeholder='Enter database name')"
      ]
     },
     "metadata": {},
     "output_type": "display_data"
    }
   ],
   "source": [
    "import mysql.connector\n",
    "\n",
    "# Connect to MySQL\n",
    "cnx = mysql.connector.connect(\n",
    "  host=\"bi2\",\n",
    "  port=3336,\n",
    "  user=\"root\",\n",
    "  database=\"flibusta-analysis\",\n",
    "  password=\"toor\"\n",
    ")\n",
    "\n",
    "cnx.cmd_query(SQL);"
   ]
  },
  {
   "cell_type": "code",
   "execution_count": 24,
   "metadata": {},
   "outputs": [
    {
     "name": "stdout",
     "output_type": "stream",
     "text": [
      "(601049), (611107), (566881), (506405), (698525), (613382), (679800), (494539), (745695), (722428), (345228), (400933), (614103), (751550), (34035), (427919), (361221), (613816), (452496), (174342), (353911), (367403), (649050), (160918), (187372), (685323), (652860), (532821), (184237), (257492), (593495), (729900), (184238), (666925), (536372), (142806), (276836), (669372), (535796), (645235), (729900), (539073), (585294), (510343), (723149), (568697), (627072), (721644), (357560), (733572), (753370), (740301), (432155), (225982), (707021), (457746), (733120), (620821), (727997), (365883), (365885), (365884), (365886), (716834), (495932), (740609), (620711), (609966), (495921), (658843), (289960), (158017), (715915), (289277), (733120), (220586), (625359), (733572), (370258), (144244), (604741), (370259), (93681), (458005), (189709), (644747), (67643), (638847), (596755), (391040), (464787), (407804), (474569), (669878), (594025), (640387), (361294), (403533), (289249), (594830), (594806), (626571), (616772), (748476), (667563), (289246), (645121), (631627), (403534), (488066), (403535), (432154), (603046), (496520), (463610), (637512), (565073), (500611), (705459), (628029), (573860), (459681), (581787), (679726), (705446), (524998), (680989), (564882), (672543), (345497), (617519), (472277), (103235), (555192), (709867), (394214), (712094), (733836), (341522), (727514), (442964), (653389), (618777), (736445), (682045), (399406), (685129), (389667), (733836), (552808), (314582), (315243), (530778), (555022), (109722), (636080), (703727), (137170), (191853), (224435), (702469), (409649), (604664), (216289), (259735), (219181), (300193), (571853), (372176), (606318), (708703), (692809), (397006), (462132), (365470), (748634), (202844), (639176), (366786), (599625), (93236), (444280), (92891), (603508), (637563), (539160), (186242), (359064), (375193), (678553), (234616), (603318), (542140), (753417), (264474), (603309), (474557), (449429), (686780), (264482), (588301), (542355), (503010), (292861), (607185), (247868), (706172), (309098), (621463), (547741), (720640), (327364), (650362), (567050), (626713), (165350), (575929), (561266), (548359), (729414), (307565), (600084), (377638), (621004), (377804), (376898), (516561), (524969), (591425), (96847), (220391), (592801), (356704), (643400), (412394), (678304), (150216), (472787), (220132), (594191), (405428), (215940), (615713), (489057), (215883), (236355), (658999), (318699), (577880), (337580), (657565), (514692), (253027), (295652), (671757), (184903), (401922), (216886), (199475), (78167), (363907), (741994), (356025), (741993), (676888), (427582), (170186), (683840), (350258), (592941), (224362), (567580), (734374), (734374), (200267), (70528), (370032), (369951), (332179), (335608), (186541), (316656), (263211), (370544), (539189), (594419), (324221), (430621), (216925), (654462), (282451), (216888), (606001), (611102), (216887), (669836), (666492), (93573), (504786), (217374), (737774), (666066), (142127), (670792), (461878), (184239), (735969), (598390), (184242), (184243), (594954), (184241), (204090), (571603), (632017), (98571), (562354), (565208), (291378), (80577), (678250), (450975), (372019), (344992), (523493), (80578), (372010), (730216), (345199), (650465), (303350), (548159), (548762), (303358), (596977), (746195), (700850), (555489), (471872), (381147), (277178), (620629), (730216), (455287), (417750), (653365), (607622), (659989), (720967), (733248), (330687), (569882), (103682), (302923), (585584), (464806), (119829), (736041), (569881), (611185), (750671), (464636), (564510), (679853), (615707), (680396), (362577), (590874), (399396), (733248), (592991), (506388), (503630), (724743), (686438), (639090), (657341), (518056), (408119), (672300), (572042), (513628), (615409), (652953), (397338), (746025), (640350), (490986), (673091), (570630), (531639), (551369), (595228), (703230), (580223), (499186), (532142), (555630), (192344), (659968), (662135), (412920), (631156), (513166), (129997), (469484), (692828), (748475), (464807), (353910), (719896), (460055), (378030), (282042), (485062), (363953), (624975), (182774), (563597), (454791), (326389), (700060), (663190), (663640), (401372), (320073), (663891), (177627), (463597), (287145), (435606), (235807), (553569), (680557), (182640), (581029), (517438), (565707), (501952), (77831), (719252), (620099), (533921), (449693), (427778), (465886), (92309), (583727), (643944), (316505), (595295), (312876), (77649), (693415), (667190), (635988), (457147), (723043), (666991), (68281), (548697), (491409), (160318), (160328), (410697), (68280), (650150), (656258), (637596), (637610), (692038), (642830), (667601), (722323), (534311), (549317), (505436), (732006), (645439), (269433), (505350), (732261), (348073), (118102), (507264), (734697), (645441), (687589), (199307), (442052), (315507), (732006), (379387), (108643), (627760), (357388), (562442), (533559), (411323), (653322), (252866), (666181), (601688), (723778), (740291), (715888), (686995), (328105), (625086), (633286), (335542), (746930), (410940), (732261), (651978), (469467), (652250), (687089), (734697), (534576), (562352), (314360), (535230), (179330), (255184), (75891), (535235), (696490), (678792), (175989), (735622), (543872), (223684), (581323), (219168), (144433), (224018), (606990), (132415), (469578), (387127), (157612), (147753), (471478), (380623), (415306), (747221), (368244), (368091), (637410), (675606), (605253), (497421), (653115), (348807), (571838), (497251), (526301), (381371), (605769), (611713), (712290), (389374), (744493), (389212), (504467), (533185), (572342), (572946), (741074), (413399), (707195), (560335), (338852), (625047), (716419), (273121), (530705), (744709), (681071), (681016), (273073), (530294), (753837), (531863), (750375), (615533), (492638), (504823), (746308), (529819), (573133), (743308), (722670), (423034), (631464), (710885), (573470), (198670), (198685), (384182), (670238), (461224), (141004), (199110), (537545), (99407), (509994), (146422), (448177), (654715), (313367), (76255), (199441), (321265), (446414), (605772), (738482), (193186), (415569), (545554), (397264), (561839), (511527), (651762), (554077), (717324), (399543), (568416), (622815), (749990), (683706), (709926), (303677), (622620), (508417), (652255), (598884), (557202), (555178), (245439), (642681), (749742), (304866), (610889), (586791), (720235), (315620), (507178), (661203), (612425), (516233), (612423), (722524), (598062), (223965), (605656), (301894), (507535), (625929), (657208), (345122), (563501), (547962), (712098), (601985), (608154), (712037), (551088), (673326), (400367), (603333), (261807), (261803), (615466), (737163), (345699), (676956), (345572), (746681), (579360), (308007), (701099), (599428), (553646), (688255), (750653), (687607), (732985), (673327), (601974), (531386), (641902), (732985), (99445), (320856), (605303), (637242), (594737), (751136), (370231), (502424), (466648), (434149), (569771), (252087), (452671), (733361), (600208), (686661), (601438), (733361), (452373), (494875), (417111), (79836), (500624), (618248), (79837), (502092), (188107), (615350), (723569), (703533), (525439), (372898), (249283), (70143), (150588), (601220), (610415), (434178), (503132), (449569), (243126), (680687), (525515), (742603), (486922), (567986), (349030), (651971), (731964), (244390), (244389), (412870), (192556), (669351), (722389), (108451), (603696), (506528), (506514), (583826), (529631), (666873), (341796), (403110), (425985), (648308), (648860), (445006), (721639), (580308), (555507), (506517), (624798), (532466), (253939), (418609), (585389), (531982), (592056), (293361), (625112), (650149), (625969), (548138), (523157), (627783), (740326), (726361), (510035), (523159), (510030), (413703), (652818), (710616), (731964), (590251), (322255), (701438), (510033), (632545), (132289), (700788), (494431), (242776), (301003), (741135), (226127), (734380), (725796), (632162), (470210), (570108), (91081), (628036), (198894), (652096), (507185), (584088), (653898), (191327), (599882), (641033), (734380), (642108), (336305), (463942), (463927), (718117), (574055), (110386), (751645), (576848), (224396), (634058), (680590), (741286), (509883), (617378), (183475), (505064), (740836), (735879), (92251), (381964), (164651), (471475), (624526), (660984), (624661), (672366), (561873), (539381), (537421), (703402), (721436), (147876), (692147), (678709), (568237), (564845), (725477), (439661), (188367), (481399), (730799), (631873), (508000), (422271), (638629), (677979), (640397), (645128), (478706), (478616), (478466), (504468), (534200), (427525), (659575), (730799), (552146), (641002), (418008), (396453), (465271), (377243), (484089), (489787), (566829), (463500), (463499), (535183), (615695), (464539), (490614), (394635), (678708), (678710), (443725), (377248), (709616), (427576), (513165), (174323), (174324), (174325), (567566), (285900), (517316), (576134), (570890), (596789), (596787), (620628), (510558), (306717), (224693), (707241), (58152), (461852), (714589), (631231), (565793), (598450), (591713), (565475), (595353), (461714), (71357), (565525), (590185), (421308), (551962), (739782), (711326), (681323), (752113), (301520), (550530), (525182), (336805), (554792), (590681), (567852), (668556), (502260), (659699), (717546), (312193), (664055), (599630), (599647), (601558), (173200), (605899), (202865), (604752), (661646), (607184), (109841), (108018), (643645), (583579), (89739), (707420), (163690), (624144), (662270), (346139), (462379), (462381), (560174), (607189), (398690), (711276), (633309), (604995), (634061), (384070), (375169), (612632), (580114), (580116), (661645), (619565), (363101), (602356), (556155), (496046), (557072), (749931), (678968), (408823), (409172), (462380), (409092), (746045), (222846), (613170), (746418), (527624), (527638), (743309), (749203), (583429), (523325)\n"
     ]
    }
   ],
   "source": [
    "file_names = top_1000_results['FileName'].tolist()\n",
    "file_names = [file_name[:-4] for file_name in file_names]\n",
    "insert_values = ', '.join([\"(\" + fn + \")\" for fn in file_names])\n",
    "print(insert_values)"
   ]
  }
 ],
 "metadata": {
  "kernelspec": {
   "display_name": "Python 3 (ipykernel)",
   "language": "python",
   "name": "python3"
  },
  "language_info": {
   "codemirror_mode": {
    "name": "ipython",
    "version": 3
   },
   "file_extension": ".py",
   "mimetype": "text/x-python",
   "name": "python",
   "nbconvert_exporter": "python",
   "pygments_lexer": "ipython3",
   "version": "3.10.12"
  }
 },
 "nbformat": 4,
 "nbformat_minor": 4
}
