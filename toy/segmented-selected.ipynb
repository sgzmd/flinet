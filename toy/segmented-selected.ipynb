{
 "cells": [
  {
   "cell_type": "markdown",
   "metadata": {},
   "source": [
    "Importing the stuff we need"
   ]
  },
  {
   "cell_type": "code",
   "execution_count": 1,
   "metadata": {},
   "outputs": [],
   "source": [
    "import pandas as pd\n",
    "import numpy as np\n",
    "import tensorflow as tf\n",
    "from transformers import AutoTokenizer, TFAutoModel\n",
    "from tensorflow.keras.layers import Input, Dense, GlobalMaxPool1D\n",
    "from tensorflow.keras.models import Model\n",
    "from tensorflow.keras.optimizers import Adam\n",
    "from sklearn.model_selection import train_test_split\n",
    "import nltk"
   ]
  },
  {
   "cell_type": "code",
   "execution_count": 2,
   "metadata": {},
   "outputs": [],
   "source": [
    "EXPERIMENT_NAME = \"all-books-with-text\""
   ]
  },
  {
   "cell_type": "code",
   "execution_count": 3,
   "metadata": {},
   "outputs": [
    {
     "name": "stderr",
     "output_type": "stream",
     "text": [
      "[nltk_data] Downloading package punkt to /home/sgzmd/nltk_data...\n",
      "[nltk_data]   Package punkt is already up-to-date!\n"
     ]
    }
   ],
   "source": [
    "nltk.download('punkt')\n",
    "from nltk.tokenize import sent_tokenize"
   ]
  },
  {
   "cell_type": "markdown",
   "metadata": {},
   "source": [
    "Defining some constants"
   ]
  },
  {
   "cell_type": "code",
   "execution_count": 4,
   "metadata": {},
   "outputs": [],
   "source": [
    "# Constants\n",
    "MODEL_NAME = 'DeepPavlov/rubert-base-cased'\n",
    "MAX_TOKENS = 128"
   ]
  },
  {
   "cell_type": "markdown",
   "metadata": {},
   "source": [
    "Let's read and pre-process the data"
   ]
  },
  {
   "cell_type": "code",
   "execution_count": 5,
   "metadata": {},
   "outputs": [
    {
     "data": {
      "text/html": [
       "<div>\n",
       "<style scoped>\n",
       "    .dataframe tbody tr th:only-of-type {\n",
       "        vertical-align: middle;\n",
       "    }\n",
       "\n",
       "    .dataframe tbody tr th {\n",
       "        vertical-align: top;\n",
       "    }\n",
       "\n",
       "    .dataframe thead th {\n",
       "        text-align: right;\n",
       "    }\n",
       "</style>\n",
       "<table border=\"1\" class=\"dataframe\">\n",
       "  <thead>\n",
       "    <tr style=\"text-align: right;\">\n",
       "      <th></th>\n",
       "      <th>ID</th>\n",
       "      <th>Genres</th>\n",
       "      <th>Authors</th>\n",
       "      <th>BookTitle</th>\n",
       "      <th>Body</th>\n",
       "      <th>Annotation</th>\n",
       "      <th>FileName</th>\n",
       "      <th>IsSelected</th>\n",
       "      <th>is_sf</th>\n",
       "    </tr>\n",
       "  </thead>\n",
       "  <tbody>\n",
       "    <tr>\n",
       "      <th>0</th>\n",
       "      <td>/pool1/share/Downloads/Flibusta-Patch/f.fb2-72...</td>\n",
       "      <td>sf_fantasy_city;det_action;popadanec;magician_...</td>\n",
       "      <td>Извращенный отшельник;Илья Романов</td>\n",
       "      <td>Наемник «S» ранга</td>\n",
       "      <td>sf_fantasy_city\\n   det_action\\n   popadanec\\n...</td>\n",
       "      <td>\\n    Прожив пять веков в шкуре вампира, я оты...</td>\n",
       "      <td>729588.fb2</td>\n",
       "      <td>0</td>\n",
       "      <td>True</td>\n",
       "    </tr>\n",
       "    <tr>\n",
       "      <th>1</th>\n",
       "      <td>/pool1/share/Downloads/Flibusta-Patch/f.fb2-72...</td>\n",
       "      <td>fanfiction;magician_book;popadanec;network_lit...</td>\n",
       "      <td>Cyberdawn</td>\n",
       "      <td>Лишний свиток</td>\n",
       "      <td>fanfiction\\n   magician_book\\n   popadanec\\n  ...</td>\n",
       "      <td>\\n    Попаданец в черножопого, ехидного, своло...</td>\n",
       "      <td>729587.fb2</td>\n",
       "      <td>0</td>\n",
       "      <td>True</td>\n",
       "    </tr>\n",
       "    <tr>\n",
       "      <th>2</th>\n",
       "      <td>/pool1/share/Downloads/Flibusta-Patch/f.fb2-72...</td>\n",
       "      <td>religion_orthodoxy;religion_christianity;relig...</td>\n",
       "      <td>Коллектив авторов</td>\n",
       "      <td>Святитель Василий Великий</td>\n",
       "      <td>religion_orthodoxy\\n   religion_christianity\\n...</td>\n",
       "      <td>NaN</td>\n",
       "      <td>729595.fb2</td>\n",
       "      <td>0</td>\n",
       "      <td>False</td>\n",
       "    </tr>\n",
       "    <tr>\n",
       "      <th>3</th>\n",
       "      <td>/pool1/share/Downloads/Flibusta-Patch/f.fb2-72...</td>\n",
       "      <td>sf_heroic;sf_humor;sf_social</td>\n",
       "      <td>Андрей Немиров</td>\n",
       "      <td>Квестер</td>\n",
       "      <td>sf_heroic\\n   sf_humor\\n   sf_social\\n   \\n   ...</td>\n",
       "      <td>\\n    Доброго времени суток, читатель! По слов...</td>\n",
       "      <td>729601.fb2</td>\n",
       "      <td>0</td>\n",
       "      <td>True</td>\n",
       "    </tr>\n",
       "    <tr>\n",
       "      <th>4</th>\n",
       "      <td>/pool1/share/Downloads/Flibusta-Patch/f.fb2-72...</td>\n",
       "      <td>sf_horror;literature_19;literature_20;sf_horro...</td>\n",
       "      <td>Джеймс Брандер Мэтьюз;Артур Грей;Эдмунд Митчел...</td>\n",
       "      <td>Мистические истории. Фантом озера</td>\n",
       "      <td>sf_horrorliterature_19literature_20sf_horrorfo...</td>\n",
       "      <td>NaN</td>\n",
       "      <td>729599.fb2</td>\n",
       "      <td>0</td>\n",
       "      <td>True</td>\n",
       "    </tr>\n",
       "  </tbody>\n",
       "</table>\n",
       "</div>"
      ],
      "text/plain": [
       "                                                  ID  ...  is_sf\n",
       "0  /pool1/share/Downloads/Flibusta-Patch/f.fb2-72...  ...   True\n",
       "1  /pool1/share/Downloads/Flibusta-Patch/f.fb2-72...  ...   True\n",
       "2  /pool1/share/Downloads/Flibusta-Patch/f.fb2-72...  ...  False\n",
       "3  /pool1/share/Downloads/Flibusta-Patch/f.fb2-72...  ...   True\n",
       "4  /pool1/share/Downloads/Flibusta-Patch/f.fb2-72...  ...   True\n",
       "\n",
       "[5 rows x 9 columns]"
      ]
     },
     "execution_count": 5,
     "metadata": {},
     "output_type": "execute_result"
    }
   ],
   "source": [
    "df = pd.read_csv(\"../data/full-long-list.csv\")  # Load the CSV file into a pandas DataFrame\n",
    "\n",
    "# drop all non-string records, unclear where they are coming from\n",
    "df = df[df.apply(lambda row: isinstance(row['Body'], str) and isinstance(row['Genres'], str), axis=1)]\n",
    "\n",
    "def is_sf_genre(genre: str) -> bool:\n",
    "    return genre.startswith('sf') or genre == 'popadanec' or genre == 'litrpg'\n",
    "\n",
    "# define is_sf label\n",
    "df['is_sf'] = df['Genres'].apply(lambda genres: any(is_sf_genre(genre) for genre in genres.split(';')))\n",
    "df.head()"
   ]
  },
  {
   "cell_type": "markdown",
   "metadata": {},
   "source": [
    "Let's define synthetic column that we'll be doing the actual classification on"
   ]
  },
  {
   "cell_type": "code",
   "execution_count": 6,
   "metadata": {},
   "outputs": [
    {
     "data": {
      "text/html": [
       "<div>\n",
       "<style scoped>\n",
       "    .dataframe tbody tr th:only-of-type {\n",
       "        vertical-align: middle;\n",
       "    }\n",
       "\n",
       "    .dataframe tbody tr th {\n",
       "        vertical-align: top;\n",
       "    }\n",
       "\n",
       "    .dataframe thead th {\n",
       "        text-align: right;\n",
       "    }\n",
       "</style>\n",
       "<table border=\"1\" class=\"dataframe\">\n",
       "  <thead>\n",
       "    <tr style=\"text-align: right;\">\n",
       "      <th></th>\n",
       "      <th>ID</th>\n",
       "      <th>Genres</th>\n",
       "      <th>Authors</th>\n",
       "      <th>BookTitle</th>\n",
       "      <th>Body</th>\n",
       "      <th>Annotation</th>\n",
       "      <th>FileName</th>\n",
       "      <th>IsSelected</th>\n",
       "      <th>is_sf</th>\n",
       "      <th>body</th>\n",
       "    </tr>\n",
       "  </thead>\n",
       "  <tbody>\n",
       "    <tr>\n",
       "      <th>4097</th>\n",
       "      <td>/pool1/share/Downloads/Flibusta-Patch/f.fb2-73...</td>\n",
       "      <td>sf_action;sf_space;fanfiction;adventure;networ...</td>\n",
       "      <td>Сергей Эрленеков</td>\n",
       "      <td>Экспансия. Книга 2</td>\n",
       "      <td>sf_action\\n   sf_space\\n   fanfiction\\n   adve...</td>\n",
       "      <td>\\n    «…Герой стоял на палубе космического кор...</td>\n",
       "      <td>741011.fb2</td>\n",
       "      <td>0</td>\n",
       "      <td>True</td>\n",
       "      <td>\\n    «…Герой стоял на палубе космического кор...</td>\n",
       "    </tr>\n",
       "    <tr>\n",
       "      <th>112705</th>\n",
       "      <td>/pool1/share/Flibusta/fb2.Flibusta.Net/archive...</td>\n",
       "      <td>love_contemporary;antique_myths;russian_contem...</td>\n",
       "      <td>Брайанна Рид</td>\n",
       "      <td>Ветви Дуба. *Без шрамов от цензуры*</td>\n",
       "      <td>love_contemporaryantique_mythsrussian_contempo...</td>\n",
       "      <td>Как поступить интересной и образованной даме, ...</td>\n",
       "      <td>530746.fb2</td>\n",
       "      <td>0</td>\n",
       "      <td>False</td>\n",
       "      <td>Как поступить интересной и образованной даме, ...</td>\n",
       "    </tr>\n",
       "    <tr>\n",
       "      <th>55261</th>\n",
       "      <td>/pool1/share/Flibusta/fb2.Flibusta.Net/archive...</td>\n",
       "      <td>sf_action</td>\n",
       "      <td>Юрий Иванович</td>\n",
       "      <td>Капризная фортуна</td>\n",
       "      <td>sf_action\\n   \\n    Юрий\\n    Иванович\\n   \\n ...</td>\n",
       "      <td>\\n    В новом мире Виктора знают как Монаха Ме...</td>\n",
       "      <td>353237.fb2</td>\n",
       "      <td>0</td>\n",
       "      <td>True</td>\n",
       "      <td>\\n    В новом мире Виктора знают как Монаха Ме...</td>\n",
       "    </tr>\n",
       "    <tr>\n",
       "      <th>65741</th>\n",
       "      <td>/pool1/share/Flibusta/fb2.Flibusta.Net/archive...</td>\n",
       "      <td>sf_history;sf_action;sf_mystic;popadanec;sf_ho...</td>\n",
       "      <td>; Unknown</td>\n",
       "      <td>Код Кхорна 2 (СИ)</td>\n",
       "      <td>sf_history\\n      sf_action\\n      sf_mystic\\n...</td>\n",
       "      <td>\\n        \\n      \\n      ru\\n      ru\\n      ...</td>\n",
       "      <td>387405.fb2</td>\n",
       "      <td>0</td>\n",
       "      <td>True</td>\n",
       "      <td>\\n        \\n      \\n      ru\\n      ru\\n      ...</td>\n",
       "    </tr>\n",
       "    <tr>\n",
       "      <th>142687</th>\n",
       "      <td>/pool1/share/Flibusta/fb2.Flibusta.Net/archive...</td>\n",
       "      <td>love_sf;love_detective;sf_heroic</td>\n",
       "      <td>Кэтрин Рид</td>\n",
       "      <td>Церера</td>\n",
       "      <td>love_sflove_detectivesf_heroicКэтринРид181d9e2...</td>\n",
       "      <td>Спасательная команда отправляется на поиски эк...</td>\n",
       "      <td>609184.fb2</td>\n",
       "      <td>0</td>\n",
       "      <td>True</td>\n",
       "      <td>Спасательная команда отправляется на поиски эк...</td>\n",
       "    </tr>\n",
       "    <tr>\n",
       "      <th>88040</th>\n",
       "      <td>/pool1/share/Flibusta/fb2.Flibusta.Net/archive...</td>\n",
       "      <td>child_sf</td>\n",
       "      <td>Дорофея Ларичева</td>\n",
       "      <td>Искры и тени</td>\n",
       "      <td>child_sf ДорофеяЛаричеваcee43278-4808-11e4-97c...</td>\n",
       "      <td>В третьей книге серии «Пилигримы» – «Искры и т...</td>\n",
       "      <td>461950.fb2</td>\n",
       "      <td>0</td>\n",
       "      <td>False</td>\n",
       "      <td>В третьей книге серии «Пилигримы» – «Искры и т...</td>\n",
       "    </tr>\n",
       "    <tr>\n",
       "      <th>115147</th>\n",
       "      <td>/pool1/share/Flibusta/fb2.Flibusta.Net/archive...</td>\n",
       "      <td>sf_action;popadanec;sf_history</td>\n",
       "      <td>Михаил Ланцов</td>\n",
       "      <td>Безумный Макс. Ротмистр Империи</td>\n",
       "      <td>sf_actionpopadanecsf_history МихаилАлексеевичЛ...</td>\n",
       "      <td>Наш человек нигде не пропадет! Попал в прошлое...</td>\n",
       "      <td>536311.fb2</td>\n",
       "      <td>0</td>\n",
       "      <td>True</td>\n",
       "      <td>Наш человек нигде не пропадет! Попал в прошлое...</td>\n",
       "    </tr>\n",
       "    <tr>\n",
       "      <th>231031</th>\n",
       "      <td>/pool1/share/Flibusta/fb2.Flibusta.Net/archive...</td>\n",
       "      <td>sf_space</td>\n",
       "      <td>Андрей Ливадный</td>\n",
       "      <td>Взвод</td>\n",
       "      <td>sf_space\\n   \\n    Андрей\\n    Ливадный\\n    w...</td>\n",
       "      <td>\\n    Взвод Ивана Лозина еще только осваивал д...</td>\n",
       "      <td>122743.fb2</td>\n",
       "      <td>0</td>\n",
       "      <td>True</td>\n",
       "      <td>\\n    Взвод Ивана Лозина еще только осваивал д...</td>\n",
       "    </tr>\n",
       "    <tr>\n",
       "      <th>7919</th>\n",
       "      <td>/pool1/share/Downloads/Flibusta-Patch/f.fb2-75...</td>\n",
       "      <td>adventure;sf</td>\n",
       "      <td>Сергей Стоян</td>\n",
       "      <td>Закон сохранения</td>\n",
       "      <td>adventuresf СергейСтоянb713b0d4-776f-44c6-a064...</td>\n",
       "      <td>Молодой человек, отправившийся на курортную пл...</td>\n",
       "      <td>750991.fb2</td>\n",
       "      <td>0</td>\n",
       "      <td>True</td>\n",
       "      <td>Молодой человек, отправившийся на курортную пл...</td>\n",
       "    </tr>\n",
       "    <tr>\n",
       "      <th>87673</th>\n",
       "      <td>/pool1/share/Flibusta/fb2.Flibusta.Net/archive...</td>\n",
       "      <td>sf_fantasy</td>\n",
       "      <td>Константин Храбрых</td>\n",
       "      <td>Печать Змеи</td>\n",
       "      <td>sf_fantasy\\n   \\n    Константин\\n    Храбрых\\n...</td>\n",
       "      <td>\\n    Надоело жить среди семейных скелетов и п...</td>\n",
       "      <td>461138.fb2</td>\n",
       "      <td>0</td>\n",
       "      <td>True</td>\n",
       "      <td>\\n    Надоело жить среди семейных скелетов и п...</td>\n",
       "    </tr>\n",
       "  </tbody>\n",
       "</table>\n",
       "</div>"
      ],
      "text/plain": [
       "                                                       ID  ...                                               body\n",
       "4097    /pool1/share/Downloads/Flibusta-Patch/f.fb2-73...  ...  \\n    «…Герой стоял на палубе космического кор...\n",
       "112705  /pool1/share/Flibusta/fb2.Flibusta.Net/archive...  ...  Как поступить интересной и образованной даме, ...\n",
       "55261   /pool1/share/Flibusta/fb2.Flibusta.Net/archive...  ...  \\n    В новом мире Виктора знают как Монаха Ме...\n",
       "65741   /pool1/share/Flibusta/fb2.Flibusta.Net/archive...  ...  \\n        \\n      \\n      ru\\n      ru\\n      ...\n",
       "142687  /pool1/share/Flibusta/fb2.Flibusta.Net/archive...  ...  Спасательная команда отправляется на поиски эк...\n",
       "88040   /pool1/share/Flibusta/fb2.Flibusta.Net/archive...  ...  В третьей книге серии «Пилигримы» – «Искры и т...\n",
       "115147  /pool1/share/Flibusta/fb2.Flibusta.Net/archive...  ...  Наш человек нигде не пропадет! Попал в прошлое...\n",
       "231031  /pool1/share/Flibusta/fb2.Flibusta.Net/archive...  ...  \\n    Взвод Ивана Лозина еще только осваивал д...\n",
       "7919    /pool1/share/Downloads/Flibusta-Patch/f.fb2-75...  ...  Молодой человек, отправившийся на курортную пл...\n",
       "87673   /pool1/share/Flibusta/fb2.Flibusta.Net/archive...  ...  \\n    Надоело жить среди семейных скелетов и п...\n",
       "\n",
       "[10 rows x 10 columns]"
      ]
     },
     "execution_count": 6,
     "metadata": {},
     "output_type": "execute_result"
    }
   ],
   "source": [
    "# remove all rows which do not have annotation\n",
    "df = df[df['Annotation'].str.len() >= 20]\n",
    "\n",
    "# Create 'body' field by concatenating 'Annotation', 'Authors', 'Genres', and 'BookTitle'\n",
    "df['body'] = df['Annotation'] + ' ' + df['Authors'] + ' ' + df['Genres'] + ' ' + df['BookTitle'] + ' ' + df['Body']\n",
    "df.sample(10)"
   ]
  },
  {
   "cell_type": "code",
   "execution_count": 7,
   "metadata": {},
   "outputs": [
    {
     "data": {
      "text/html": [
       "<div>\n",
       "<style scoped>\n",
       "    .dataframe tbody tr th:only-of-type {\n",
       "        vertical-align: middle;\n",
       "    }\n",
       "\n",
       "    .dataframe tbody tr th {\n",
       "        vertical-align: top;\n",
       "    }\n",
       "\n",
       "    .dataframe thead th {\n",
       "        text-align: right;\n",
       "    }\n",
       "</style>\n",
       "<table border=\"1\" class=\"dataframe\">\n",
       "  <thead>\n",
       "    <tr style=\"text-align: right;\">\n",
       "      <th></th>\n",
       "      <th>ID</th>\n",
       "      <th>Genres</th>\n",
       "      <th>Authors</th>\n",
       "      <th>BookTitle</th>\n",
       "      <th>Body</th>\n",
       "      <th>Annotation</th>\n",
       "      <th>FileName</th>\n",
       "      <th>IsSelected</th>\n",
       "      <th>is_sf</th>\n",
       "      <th>body</th>\n",
       "    </tr>\n",
       "  </thead>\n",
       "  <tbody>\n",
       "    <tr>\n",
       "      <th>1307</th>\n",
       "      <td>/pool1/share/Flibusta/fb2.Flibusta.Net/archive...</td>\n",
       "      <td>love_short</td>\n",
       "      <td>Кара Уилсон</td>\n",
       "      <td>От судьбы не уйдешь</td>\n",
       "      <td>love_short\\n   \\n    Кара\\n    Уилсон\\n   \\n  ...</td>\n",
       "      <td>\\n    Майклу Джордану уже за сорок, он многое ...</td>\n",
       "      <td>286686.fb2</td>\n",
       "      <td>0</td>\n",
       "      <td>False</td>\n",
       "      <td>\\n    Майклу Джордану уже за сорок, он многое ...</td>\n",
       "    </tr>\n",
       "    <tr>\n",
       "      <th>915</th>\n",
       "      <td>/pool1/share/Flibusta/fb2.Flibusta.Net/archive...</td>\n",
       "      <td>love_sf</td>\n",
       "      <td>Оливия Вильденштейн</td>\n",
       "      <td>Грозы и звёзды</td>\n",
       "      <td>love_sf\\n   \\n    Оливия\\n    Вильденштейн\\n  ...</td>\n",
       "      <td>\\n    Пока парная связь не разлучит нас.\\n    ...</td>\n",
       "      <td>708406.fb2</td>\n",
       "      <td>0</td>\n",
       "      <td>False</td>\n",
       "      <td>\\n    Пока парная связь не разлучит нас.\\n    ...</td>\n",
       "    </tr>\n",
       "    <tr>\n",
       "      <th>1390</th>\n",
       "      <td>/pool1/share/Flibusta/fb2.Flibusta.Net/archive...</td>\n",
       "      <td>detective</td>\n",
       "      <td>Андрей Бинев</td>\n",
       "      <td>Завтрак палача</td>\n",
       "      <td>detective\\n   \\n    Андрей\\n    Бинев\\n   \\n  ...</td>\n",
       "      <td>\\n    В VIP-отеле для особых персон служит офи...</td>\n",
       "      <td>389927.fb2</td>\n",
       "      <td>0</td>\n",
       "      <td>False</td>\n",
       "      <td>\\n    В VIP-отеле для особых персон служит офи...</td>\n",
       "    </tr>\n",
       "    <tr>\n",
       "      <th>405</th>\n",
       "      <td>/pool1/share/Flibusta/fb2.Flibusta.Net/archive...</td>\n",
       "      <td>sf_fantasy_city;sf_fantasy;sf_action</td>\n",
       "      <td>Алексей Широков;Александр Шапочкин</td>\n",
       "      <td>Осколки клана. Том 1</td>\n",
       "      <td>sf_fantasy_city\\n   sf_fantasy\\n   sf_action\\n...</td>\n",
       "      <td>\\n    Выжив в бойне устроенной «Садовниками» н...</td>\n",
       "      <td>617463.fb2</td>\n",
       "      <td>1</td>\n",
       "      <td>True</td>\n",
       "      <td>\\n    Выжив в бойне устроенной «Садовниками» н...</td>\n",
       "    </tr>\n",
       "    <tr>\n",
       "      <th>887</th>\n",
       "      <td>/pool1/share/Flibusta/fb2.Flibusta.Net/archive...</td>\n",
       "      <td>home_sex</td>\n",
       "      <td>Евгения Шацкая</td>\n",
       "      <td>Дневник женщины-кошки. Школа эффективного обол...</td>\n",
       "      <td>home_sex\\n   \\n    Евгения\\n    Шацкая\\n    d3...</td>\n",
       "      <td>\\n    Кто из нас не наблюдал с немым восхищени...</td>\n",
       "      <td>279602.fb2</td>\n",
       "      <td>0</td>\n",
       "      <td>False</td>\n",
       "      <td>\\n    Кто из нас не наблюдал с немым восхищени...</td>\n",
       "    </tr>\n",
       "    <tr>\n",
       "      <th>851</th>\n",
       "      <td>/pool1/share/Flibusta/fb2.Flibusta.Net/archive...</td>\n",
       "      <td>prose_contemporary</td>\n",
       "      <td>Марина Степнова</td>\n",
       "      <td>Xирург</td>\n",
       "      <td>prose_contemporary\\n   \\n    Марина\\n    Степн...</td>\n",
       "      <td>\\n    Предельно жесткая, беспощадно красивая п...</td>\n",
       "      <td>316423.fb2</td>\n",
       "      <td>0</td>\n",
       "      <td>False</td>\n",
       "      <td>\\n    Предельно жесткая, беспощадно красивая п...</td>\n",
       "    </tr>\n",
       "    <tr>\n",
       "      <th>259</th>\n",
       "      <td>/pool1/share/Flibusta/fb2.Flibusta.Net/archive...</td>\n",
       "      <td>city_fantasy;sf_heroic</td>\n",
       "      <td>Владимир Ильин</td>\n",
       "      <td>Напряжение сходится</td>\n",
       "      <td>city_fantasysf_heroic ВладимирАлексеевичИльин9...</td>\n",
       "      <td>Где бы ни началась дорога путника – в княжеств...</td>\n",
       "      <td>560212.fb2</td>\n",
       "      <td>1</td>\n",
       "      <td>True</td>\n",
       "      <td>Где бы ни началась дорога путника – в княжеств...</td>\n",
       "    </tr>\n",
       "    <tr>\n",
       "      <th>714</th>\n",
       "      <td>/pool1/share/Flibusta/fb2.Flibusta.Net/archive...</td>\n",
       "      <td>antique_east</td>\n",
       "      <td>Автор неизвестен</td>\n",
       "      <td>Повесть о прекрасной Отикубо</td>\n",
       "      <td>antique_east\\n    \\n      Автор неизвестен\\n  ...</td>\n",
       "      <td>\\n      Старинный классический роман — гордост...</td>\n",
       "      <td>516484.fb2</td>\n",
       "      <td>0</td>\n",
       "      <td>False</td>\n",
       "      <td>\\n      Старинный классический роман — гордост...</td>\n",
       "    </tr>\n",
       "    <tr>\n",
       "      <th>83</th>\n",
       "      <td>/pool1/share/Flibusta/fb2.Flibusta.Net/archive...</td>\n",
       "      <td>sf_history</td>\n",
       "      <td>Роман Злотников</td>\n",
       "      <td>Орел взмывает ввысь</td>\n",
       "      <td>sf_history\\n   \\n    Роман\\n    Валерьевич\\n  ...</td>\n",
       "      <td>\\n    Могла бы Россия стать такой? Да нет, это...</td>\n",
       "      <td>216102.fb2</td>\n",
       "      <td>1</td>\n",
       "      <td>True</td>\n",
       "      <td>\\n    Могла бы Россия стать такой? Да нет, это...</td>\n",
       "    </tr>\n",
       "    <tr>\n",
       "      <th>770</th>\n",
       "      <td>/pool1/share/Flibusta/fb2.Flibusta.Net/archive...</td>\n",
       "      <td>child_tale</td>\n",
       "      <td>Народные сказки</td>\n",
       "      <td>Пудин и лягушка</td>\n",
       "      <td>child_tale\\n   \\n    \\n    Народные сказки\\n  ...</td>\n",
       "      <td>\\n    Записала и обработала К. П. Белобородова...</td>\n",
       "      <td>302289.fb2</td>\n",
       "      <td>0</td>\n",
       "      <td>False</td>\n",
       "      <td>\\n    Записала и обработала К. П. Белобородова...</td>\n",
       "    </tr>\n",
       "  </tbody>\n",
       "</table>\n",
       "</div>"
      ],
      "text/plain": [
       "                                                     ID  ...                                               body\n",
       "1307  /pool1/share/Flibusta/fb2.Flibusta.Net/archive...  ...  \\n    Майклу Джордану уже за сорок, он многое ...\n",
       "915   /pool1/share/Flibusta/fb2.Flibusta.Net/archive...  ...  \\n    Пока парная связь не разлучит нас.\\n    ...\n",
       "1390  /pool1/share/Flibusta/fb2.Flibusta.Net/archive...  ...  \\n    В VIP-отеле для особых персон служит офи...\n",
       "405   /pool1/share/Flibusta/fb2.Flibusta.Net/archive...  ...  \\n    Выжив в бойне устроенной «Садовниками» н...\n",
       "887   /pool1/share/Flibusta/fb2.Flibusta.Net/archive...  ...  \\n    Кто из нас не наблюдал с немым восхищени...\n",
       "851   /pool1/share/Flibusta/fb2.Flibusta.Net/archive...  ...  \\n    Предельно жесткая, беспощадно красивая п...\n",
       "259   /pool1/share/Flibusta/fb2.Flibusta.Net/archive...  ...  Где бы ни началась дорога путника – в княжеств...\n",
       "714   /pool1/share/Flibusta/fb2.Flibusta.Net/archive...  ...  \\n      Старинный классический роман — гордост...\n",
       "83    /pool1/share/Flibusta/fb2.Flibusta.Net/archive...  ...  \\n    Могла бы Россия стать такой? Да нет, это...\n",
       "770   /pool1/share/Flibusta/fb2.Flibusta.Net/archive...  ...  \\n    Записала и обработала К. П. Белобородова...\n",
       "\n",
       "[10 rows x 10 columns]"
      ]
     },
     "execution_count": 7,
     "metadata": {},
     "output_type": "execute_result"
    }
   ],
   "source": [
    "# Filter the dataframe based on the conditions\n",
    "df_selected_1 = df[(df['IsSelected'] == 1)]\n",
    "df_selected_0 = df[(df['IsSelected'] == 0) & (~df['is_sf'])]\n",
    "\n",
    "# -1 are manually selected negative samples\n",
    "df_selected_neg = df[(df['IsSelected'] == -1)]\n",
    "\n",
    "# Sample the same number of records where selected = 0\n",
    "df_selected_0_sampled = df_selected_0.sample(n=len(df_selected_1), random_state=42)\n",
    "\n",
    "negative_samples = pd.concat([df_selected_0_sampled, df_selected_neg])\n",
    "\n",
    "# Set 'selected' to 0 for all negative_samples\n",
    "negative_samples['IsSelected'] = 0\n",
    "\n",
    "# Concatenate the two dataframes\n",
    "new_df = pd.concat([df_selected_1, negative_samples])\n",
    "\n",
    "# Reset the index of the new dataframe\n",
    "new_df.reset_index(drop=True, inplace=True)\n",
    "\n",
    "# Print the new dataframe\n",
    "new_df.sample(10)\n"
   ]
  },
  {
   "cell_type": "markdown",
   "metadata": {},
   "source": [
    "Defining tokenizer and some helper methods"
   ]
  },
  {
   "cell_type": "code",
   "execution_count": 8,
   "metadata": {},
   "outputs": [],
   "source": [
    "# Tokenizer\n",
    "tokenizer = AutoTokenizer.from_pretrained(MODEL_NAME)\n",
    "\n",
    "# Function to segment and tokenize text\n",
    "def segment_and_tokenize(text):\n",
    "    # Split text into sentences\n",
    "    sentences = sent_tokenize(text, language='russian')\n",
    "    tokenized_output = []\n",
    "    attention_mask_output = []\n",
    "\n",
    "    for sentence in sentences:\n",
    "        # Tokenize each sentence\n",
    "        tokens = tokenizer.encode_plus(sentence, add_special_tokens=True, max_length=MAX_TOKENS, \n",
    "                                       truncation=True, padding='max_length', return_tensors='tf')\n",
    "        tokenized_output.append(tokens['input_ids'])\n",
    "        attention_mask_output.append(tokens['attention_mask'])\n",
    "\n",
    "        # Check if we've reached the maximum number of tokens\n",
    "        if sum([len(t[0]) for t in tokenized_output]) >= MAX_TOKENS:\n",
    "            break\n",
    "\n",
    "    # Combine tokenized sentences up to the maximum length\n",
    "    input_ids = tf.concat(tokenized_output, axis=1)[0,:MAX_TOKENS]\n",
    "    attention_mask = tf.concat(attention_mask_output, axis=1)[0,:MAX_TOKENS]\n",
    "\n",
    "    return input_ids, attention_mask"
   ]
  },
  {
   "cell_type": "markdown",
   "metadata": {},
   "source": [
    "Let's run the tokenization and segmentation of the data"
   ]
  },
  {
   "cell_type": "code",
   "execution_count": 9,
   "metadata": {},
   "outputs": [
    {
     "name": "stderr",
     "output_type": "stream",
     "text": [
      "2023-12-13 15:19:39.280234: I tensorflow/compiler/xla/stream_executor/cuda/cuda_gpu_executor.cc:880] could not open file to read NUMA node: /sys/bus/pci/devices/0000:26:00.0/numa_node\n",
      "Your kernel may have been built without NUMA support.\n",
      "2023-12-13 15:19:39.299029: I tensorflow/compiler/xla/stream_executor/cuda/cuda_gpu_executor.cc:880] could not open file to read NUMA node: /sys/bus/pci/devices/0000:26:00.0/numa_node\n",
      "Your kernel may have been built without NUMA support.\n",
      "2023-12-13 15:19:39.299055: I tensorflow/compiler/xla/stream_executor/cuda/cuda_gpu_executor.cc:880] could not open file to read NUMA node: /sys/bus/pci/devices/0000:26:00.0/numa_node\n",
      "Your kernel may have been built without NUMA support.\n",
      "2023-12-13 15:19:39.300840: I tensorflow/compiler/xla/stream_executor/cuda/cuda_gpu_executor.cc:880] could not open file to read NUMA node: /sys/bus/pci/devices/0000:26:00.0/numa_node\n",
      "Your kernel may have been built without NUMA support.\n",
      "2023-12-13 15:19:39.300862: I tensorflow/compiler/xla/stream_executor/cuda/cuda_gpu_executor.cc:880] could not open file to read NUMA node: /sys/bus/pci/devices/0000:26:00.0/numa_node\n",
      "Your kernel may have been built without NUMA support.\n",
      "2023-12-13 15:19:39.300874: I tensorflow/compiler/xla/stream_executor/cuda/cuda_gpu_executor.cc:880] could not open file to read NUMA node: /sys/bus/pci/devices/0000:26:00.0/numa_node\n",
      "Your kernel may have been built without NUMA support.\n",
      "2023-12-13 15:19:40.140711: I tensorflow/compiler/xla/stream_executor/cuda/cuda_gpu_executor.cc:880] could not open file to read NUMA node: /sys/bus/pci/devices/0000:26:00.0/numa_node\n",
      "Your kernel may have been built without NUMA support.\n",
      "2023-12-13 15:19:40.140752: I tensorflow/compiler/xla/stream_executor/cuda/cuda_gpu_executor.cc:880] could not open file to read NUMA node: /sys/bus/pci/devices/0000:26:00.0/numa_node\n",
      "Your kernel may have been built without NUMA support.\n",
      "2023-12-13 15:19:40.140758: I tensorflow/core/common_runtime/gpu/gpu_device.cc:1977] Could not identify NUMA node of platform GPU id 0, defaulting to 0.  Your kernel may not have been built with NUMA support.\n",
      "2023-12-13 15:19:40.140784: I tensorflow/compiler/xla/stream_executor/cuda/cuda_gpu_executor.cc:880] could not open file to read NUMA node: /sys/bus/pci/devices/0000:26:00.0/numa_node\n",
      "Your kernel may have been built without NUMA support.\n",
      "2023-12-13 15:19:40.140799: I tensorflow/core/common_runtime/gpu/gpu_device.cc:1886] Created device /job:localhost/replica:0/task:0/device:GPU:0 with 5925 MB memory:  -> device: 0, name: NVIDIA GeForce RTX 2070, pci bus id: 0000:26:00.0, compute capability: 7.5\n"
     ]
    }
   ],
   "source": [
    "# Apply the function to the dataset\n",
    "new_df['segmented_data'] = new_df['body'].apply(segment_and_tokenize)\n",
    "new_df[['tokens', 'attention_mask']] = pd.DataFrame(new_df['segmented_data'].tolist(), index=new_df.index)"
   ]
  },
  {
   "cell_type": "markdown",
   "metadata": {},
   "source": [
    "Now let's prepare and split the dataset"
   ]
  },
  {
   "cell_type": "code",
   "execution_count": 10,
   "metadata": {},
   "outputs": [],
   "source": [
    "# Prepare dataset\n",
    "X_ids = np.array(new_df['tokens'].tolist())\n",
    "X_mask = np.array(new_df['attention_mask'].tolist())\n",
    "\n",
    "y = new_df['is_sf'].values\n",
    "X_train_ids, X_test_ids, X_train_mask, X_test_mask, y_train, y_test = train_test_split(X_ids, X_mask, y.astype('int32'), test_size=0.4)\n"
   ]
  },
  {
   "cell_type": "markdown",
   "metadata": {},
   "source": [
    "Let's load the model now and define how we are fine-tuning it"
   ]
  },
  {
   "cell_type": "code",
   "execution_count": 11,
   "metadata": {},
   "outputs": [
    {
     "name": "stderr",
     "output_type": "stream",
     "text": [
      "2023-12-13 15:19:43.989013: I tensorflow/tsl/platform/default/subprocess.cc:304] Start cannot spawn child process: No such file or directory\n",
      "Some weights of the PyTorch model were not used when initializing the TF 2.0 model TFBertModel: ['cls.predictions.transform.dense.weight', 'cls.predictions.transform.LayerNorm.weight', 'cls.predictions.decoder.bias', 'bert.embeddings.position_ids', 'cls.predictions.transform.LayerNorm.bias', 'cls.predictions.transform.dense.bias', 'cls.seq_relationship.bias', 'cls.predictions.bias', 'cls.seq_relationship.weight', 'cls.predictions.decoder.weight']\n",
      "- This IS expected if you are initializing TFBertModel from a PyTorch model trained on another task or with another architecture (e.g. initializing a TFBertForSequenceClassification model from a BertForPreTraining model).\n",
      "- This IS NOT expected if you are initializing TFBertModel from a PyTorch model that you expect to be exactly identical (e.g. initializing a TFBertForSequenceClassification model from a BertForSequenceClassification model).\n",
      "All the weights of TFBertModel were initialized from the PyTorch model.\n",
      "If your task is similar to the task the model of the checkpoint was trained on, you can already use TFBertModel for predictions without further training.\n"
     ]
    }
   ],
   "source": [
    "bert = TFAutoModel.from_pretrained(MODEL_NAME, from_pt=True)\n",
    "input_ids = Input(shape=(MAX_TOKENS,), dtype=tf.int32, name='input_ids')\n",
    "input_mask = Input(shape=(MAX_TOKENS,), dtype=tf.int32, name='attention_mask')\n",
    "\n",
    "embeddings = bert(input_ids, attention_mask=input_mask)[0]\n",
    "pooled = GlobalMaxPool1D()(embeddings)\n",
    "output = Dense(1, activation='sigmoid')(pooled)\n",
    "\n",
    "model = Model(inputs=[input_ids, input_mask], outputs=output)"
   ]
  },
  {
   "cell_type": "code",
   "execution_count": 12,
   "metadata": {},
   "outputs": [],
   "source": [
    "model.compile(optimizer=Adam(learning_rate=3e-5), loss='binary_crossentropy', metrics=['accuracy'])"
   ]
  },
  {
   "cell_type": "code",
   "execution_count": 13,
   "metadata": {},
   "outputs": [
    {
     "name": "stdout",
     "output_type": "stream",
     "text": [
      "Epoch 1/4\n",
      "WARNING:tensorflow:Gradients do not exist for variables ['tf_bert_model/bert/pooler/dense/kernel:0', 'tf_bert_model/bert/pooler/dense/bias:0'] when minimizing the loss. If you're using `model.compile()`, did you forget to provide a `loss` argument?\n",
      "WARNING:tensorflow:Gradients do not exist for variables ['tf_bert_model/bert/pooler/dense/kernel:0', 'tf_bert_model/bert/pooler/dense/bias:0'] when minimizing the loss. If you're using `model.compile()`, did you forget to provide a `loss` argument?\n",
      "WARNING:tensorflow:Gradients do not exist for variables ['tf_bert_model/bert/pooler/dense/kernel:0', 'tf_bert_model/bert/pooler/dense/bias:0'] when minimizing the loss. If you're using `model.compile()`, did you forget to provide a `loss` argument?\n",
      "WARNING:tensorflow:Gradients do not exist for variables ['tf_bert_model/bert/pooler/dense/kernel:0', 'tf_bert_model/bert/pooler/dense/bias:0'] when minimizing the loss. If you're using `model.compile()`, did you forget to provide a `loss` argument?\n"
     ]
    },
    {
     "name": "stderr",
     "output_type": "stream",
     "text": [
      "2023-12-13 15:20:00.343349: I tensorflow/compiler/xla/service/service.cc:168] XLA service 0x560fc5656840 initialized for platform CUDA (this does not guarantee that XLA will be used). Devices:\n",
      "2023-12-13 15:20:00.343395: I tensorflow/compiler/xla/service/service.cc:176]   StreamExecutor device (0): NVIDIA GeForce RTX 2070, Compute Capability 7.5\n",
      "2023-12-13 15:20:00.348306: I tensorflow/compiler/mlir/tensorflow/utils/dump_mlir_util.cc:269] disabling MLIR crash reproducer, set env var `MLIR_CRASH_REPRODUCER_DIRECTORY` to enable.\n",
      "2023-12-13 15:20:00.489704: I tensorflow/compiler/xla/stream_executor/cuda/cuda_dnn.cc:442] Loaded cuDNN version 8700\n",
      "2023-12-13 15:20:00.529168: I ./tensorflow/compiler/jit/device_compiler.h:186] Compiled cluster using XLA!  This line is logged at most once for the lifetime of the process.\n"
     ]
    }
   ],
   "source": [
    "\n",
    "history = model.fit([X_train_ids, X_train_mask], y_train, batch_size=16, epochs=4, validation_split=0.2)"
   ]
  },
  {
   "cell_type": "code",
   "execution_count": null,
   "metadata": {},
   "outputs": [
    {
     "data": {
      "image/png": "[encoded data removed]",
      "text/plain": [
       "<Figure size 640x480 with 1 Axes>"
      ]
     },
     "metadata": {},
     "output_type": "display_data"
    },
    {
     "data": {
      "image/png": "[encoded data removed]",
      "text/plain": [
       "<Figure size 640x480 with 1 Axes>"
      ]
     },
     "metadata": {},
     "output_type": "display_data"
    }
   ],
   "source": [
    "import matplotlib.pyplot as plt\n",
    "\n",
    "# 'history' is the object returned by the model.fit() method in TensorFlow\n",
    "\n",
    "# Summarize history for accuracy\n",
    "plt.plot(history.history['accuracy'])\n",
    "plt.plot(history.history['val_accuracy'])\n",
    "plt.title('Model Accuracy')\n",
    "plt.ylabel('Accuracy')\n",
    "plt.xlabel('Epoch')\n",
    "plt.legend(['Train', 'Validation'], loc='upper left')\n",
    "plt.show()\n",
    "\n",
    "# Summarize history for loss\n",
    "plt.plot(history.history['loss'])\n",
    "plt.plot(history.history['val_loss'])\n",
    "plt.title('Model Loss')\n",
    "plt.ylabel('Loss')\n",
    "plt.xlabel('Epoch')\n",
    "plt.legend(['Train', 'Validation'], loc='upper left')\n",
    "plt.show()"
   ]
  },
  {
   "cell_type": "code",
   "execution_count": null,
   "metadata": {},
   "outputs": [
    {
     "name": "stdout",
     "output_type": "stream",
     "text": [
      "10/10 [==============================] - 2s 170ms/step - loss: 0.3588 - accuracy: 0.8304\n"
     ]
    },
    {
     "data": {
      "text/plain": [
       "[0.3587760031223297, 0.8304498195648193]"
      ]
     },
     "execution_count": 14,
     "metadata": {},
     "output_type": "execute_result"
    }
   ],
   "source": [
    "model.evaluate([X_test_ids, X_test_mask], y_test)"
   ]
  },
  {
   "cell_type": "markdown",
   "metadata": {},
   "source": [
    "Let's take a quick look at false positives"
   ]
  },
  {
   "cell_type": "code",
   "execution_count": null,
   "metadata": {},
   "outputs": [
    {
     "name": "stdout",
     "output_type": "stream",
     "text": [
      "2/2 [==============================] - 6s 2s/step\n",
      "Index: 0, Prediction: [0.84022903], Actual: 0\n",
      "Index: 0, Prediction: [0.84022903], Actual: 0\n",
      "Index: 0, Prediction: [0.84022903], Actual: 0\n",
      "Index: 0, Prediction: [0.84022903], Actual: 0\n",
      "Index: 0, Prediction: [0.84022903], Actual: 0\n",
      "Index: 0, Prediction: [0.84022903], Actual: 0\n",
      "Index: 0, Prediction: [0.84022903], Actual: 0\n",
      "Index: 0, Prediction: [0.84022903], Actual: 0\n",
      "Index: 0, Prediction: [0.84022903], Actual: 0\n",
      "Index: 0, Prediction: [0.84022903], Actual: 0\n"
     ]
    }
   ],
   "source": [
    "predictions = model.predict([X_test_ids, X_test_mask])\n",
    "predicted_labels = (predictions > 0.5).astype('int32')\n",
    "false_positives = np.where((predicted_labels == 1) & (y_test == 0))[0]\n",
    "\n",
    "for index in false_positives[:10]:  # Top 10 false positives\n",
    "    print(f\"Index: {index}, Prediction: {predictions[index]}, Actual: {y_test[index]}\")"
   ]
  },
  {
   "cell_type": "code",
   "execution_count": null,
   "metadata": {},
   "outputs": [],
   "source": [
    "import tensorflow\n",
    "from tensorflow.keras.models import save_model\n",
    "\n",
    "model.save_weights(f'../data/experiments/${EXPERIMENT_NAME}/checkpoints/segmented-selected')\n",
    "save_model(model, f'../data/experiments/${EXPERIMENT_NAME}/model.h5')"
   ]
  },
  {
   "cell_type": "code",
   "execution_count": null,
   "metadata": {},
   "outputs": [
    {
     "name": "stdout",
     "output_type": "stream",
     "text": [
      "3608/3608 [==============================] - 8970s 2s/step\n"
     ]
    }
   ],
   "source": [
    "df_sf = df[(df['IsSelected'] == 0) & df['is_sf']]\n",
    "df_sf = df_sf.dropna(subset=['body'])\n",
    "\n",
    "df_sf['segmented_data'] = df_sf['body'].apply(segment_and_tokenize)\n",
    "df_sf[['tokens', 'attention_mask']] = pd.DataFrame(df_sf['segmented_data'].tolist(), index=df_sf.index)\n",
    "\n",
    "inference_X_ids = np.array(df_sf['tokens'].tolist())\n",
    "inference_X_mask = np.array(df_sf['attention_mask'].tolist())\n",
    "\n",
    "\n",
    "# Make predictions\n",
    "predictions = model.predict([inference_X_ids, inference_X_mask])\n",
    "\n",
    "# Get the top 100 results\n",
    "top_1000_results = df_sf.iloc[predictions.argsort(axis=0)[-1000:].flatten()]\n",
    "top_1000_results.to_csv(f'../data/experiments/${EXPERIMENT_NAME}/top_1000_results.csv', index=True)"
   ]
  },
  {
   "cell_type": "code",
   "execution_count": null,
   "metadata": {},
   "outputs": [],
   "source": []
  },
  {
   "cell_type": "code",
   "execution_count": null,
   "metadata": {},
   "outputs": [
    {
     "data": {
      "text/plain": [
       "663491"
      ]
     },
     "execution_count": 18,
     "metadata": {},
     "output_type": "execute_result"
    }
   ],
   "source": [
    "top_1000_results['FileName'].to_csv(f'../data/experiments/${EXPERIMENT_NAME}/top_1000_small_matched.txt', index=False, header=False)\n",
    "SQL = \"\"\"\n",
    "DROP TABLE IF EXISTS DetectedBooks;\n",
    "\n",
    "CREATE TABLE DetectedBooks (\n",
    "    BookId INT NOT NULL,\n",
    "    FileName VARCHAR(255) NOT NULL,\n",
    "    Annotation VARCHAR(4096) NOT NULL,\n",
    "    BookTitle VARCHAR(1024) NOT NULL,\n",
    "    Authors VARCHAR(1024) NOT NULL,\n",
    "    Genres VARCHAR(1024) NOT NULL\n",
    ");\n",
    "\n",
    "\n",
    "\"\"\"\n",
    "\n",
    "def E(text):\n",
    "    # Escaping single quotes\n",
    "    text = text.replace(\"'\", \"\\\\'\")\n",
    "    # Escaping double quotes\n",
    "    text = text.replace('\"', '\\\\\"')\n",
    "    return text\n",
    "\n",
    "for i, row in top_1000_results.iterrows():\n",
    "  bookId = row['FileName'][:-4]\n",
    "  SQL += \"INSERT INTO DetectedBooks (BookId, FileName, Annotation, BookTitle, Authors, Genres) VALUES \"\n",
    "  SQL += f\"({bookId}, '{row['FileName']}', '{E(row['Annotation'])}', '{E(row['BookTitle'])}', '{E(row['Authors'])}', '{row['Genres']}');\\n\"\n",
    "\n",
    "SQL = SQL[:-2] + ';'\n",
    "f = open(f'../data/experiments/${EXPERIMENT_NAME}/detected.sql', 'w')\n",
    "f.write(SQL)"
   ]
  },
  {
   "cell_type": "code",
   "execution_count": null,
   "metadata": {},
   "outputs": [],
   "source": [
    "import mysql.connector\n",
    "import db_config\n",
    "\n",
    "# Connect to MySQL\n",
    "cnx = mysql.connector.connect(\n",
    "  host=db_config.DB_HOST,\n",
    "  port=db_config.DB_PORT,\n",
    "  user=db_config.DB_USER,\n",
    "  password=db_config.DB_PASSWORD,\n",
    "  database=db_config.DB_DATABASE,\n",
    ")\n",
    "\n",
    "cursor = cnx.cursor()\n",
    "cursor.execute(SQL)"
   ]
  }
 ],
 "metadata": {
  "kernelspec": {
   "display_name": "Python 3 (ipykernel)",
   "language": "python",
   "name": "python3"
  },
  "language_info": {
   "codemirror_mode": {
    "name": "ipython",
    "version": 3
   },
   "file_extension": ".py",
   "mimetype": "text/x-python",
   "name": "python",
   "nbconvert_exporter": "python",
   "pygments_lexer": "ipython3",
   "version": "3.10.12"
  }
 },
 "nbformat": 4,
 "nbformat_minor": 4
}
