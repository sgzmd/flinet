{
 "cells": [
  {
   "cell_type": "markdown",
   "metadata": {},
   "source": [
    "Importing the stuff we need"
   ]
  },
  {
   "cell_type": "code",
   "execution_count": 1,
   "metadata": {},
   "outputs": [
    {
     "name": "stderr",
     "output_type": "stream",
     "text": [
      "2023-12-05 09:34:26.590472: E tensorflow/compiler/xla/stream_executor/cuda/cuda_dnn.cc:9342] Unable to register cuDNN factory: Attempting to register factory for plugin cuDNN when one has already been registered\n",
      "2023-12-05 09:34:26.590552: E tensorflow/compiler/xla/stream_executor/cuda/cuda_fft.cc:609] Unable to register cuFFT factory: Attempting to register factory for plugin cuFFT when one has already been registered\n",
      "2023-12-05 09:34:26.590597: E tensorflow/compiler/xla/stream_executor/cuda/cuda_blas.cc:1518] Unable to register cuBLAS factory: Attempting to register factory for plugin cuBLAS when one has already been registered\n",
      "2023-12-05 09:34:26.597468: I tensorflow/core/platform/cpu_feature_guard.cc:182] This TensorFlow binary is optimized to use available CPU instructions in performance-critical operations.\n",
      "To enable the following instructions: AVX2 FMA, in other operations, rebuild TensorFlow with the appropriate compiler flags.\n"
     ]
    }
   ],
   "source": [
    "import pandas as pd\n",
    "import numpy as np\n",
    "import tensorflow as tf\n",
    "from transformers import AutoTokenizer, TFAutoModel\n",
    "from tensorflow.keras.layers import Input, Dense, GlobalMaxPool1D\n",
    "from tensorflow.keras.models import Model\n",
    "from tensorflow.keras.optimizers import Adam\n",
    "from sklearn.model_selection import train_test_split\n",
    "import nltk"
   ]
  },
  {
   "cell_type": "code",
   "execution_count": 2,
   "metadata": {},
   "outputs": [
    {
     "name": "stderr",
     "output_type": "stream",
     "text": [
      "[nltk_data] Downloading package punkt to /home/sgzmd/nltk_data...\n",
      "[nltk_data]   Package punkt is already up-to-date!\n"
     ]
    }
   ],
   "source": [
    "nltk.download('punkt')\n",
    "from nltk.tokenize import sent_tokenize"
   ]
  },
  {
   "cell_type": "markdown",
   "metadata": {},
   "source": [
    "Defining some constants"
   ]
  },
  {
   "cell_type": "code",
   "execution_count": 3,
   "metadata": {},
   "outputs": [],
   "source": [
    "# Constants\n",
    "MODEL_NAME = 'DeepPavlov/rubert-base-cased'\n",
    "MAX_TOKENS = 128"
   ]
  },
  {
   "cell_type": "markdown",
   "metadata": {},
   "source": [
    "Let's read and pre-process the data"
   ]
  },
  {
   "cell_type": "code",
   "execution_count": 4,
   "metadata": {},
   "outputs": [
    {
     "data": {
      "text/html": [
       "<div>\n",
       "<style scoped>\n",
       "    .dataframe tbody tr th:only-of-type {\n",
       "        vertical-align: middle;\n",
       "    }\n",
       "\n",
       "    .dataframe tbody tr th {\n",
       "        vertical-align: top;\n",
       "    }\n",
       "\n",
       "    .dataframe thead th {\n",
       "        text-align: right;\n",
       "    }\n",
       "</style>\n",
       "<table border=\"1\" class=\"dataframe\">\n",
       "  <thead>\n",
       "    <tr style=\"text-align: right;\">\n",
       "      <th></th>\n",
       "      <th>ID</th>\n",
       "      <th>Genres</th>\n",
       "      <th>Authors</th>\n",
       "      <th>BookTitle</th>\n",
       "      <th>Body</th>\n",
       "      <th>Annotation</th>\n",
       "      <th>FileName</th>\n",
       "      <th>IsSelected</th>\n",
       "      <th>is_sf</th>\n",
       "    </tr>\n",
       "  </thead>\n",
       "  <tbody>\n",
       "    <tr>\n",
       "      <th>0</th>\n",
       "      <td>/pool1/share/Downloads/Flibusta-Patch/f.fb2-72...</td>\n",
       "      <td>sf_fantasy_city;det_action;popadanec;magician_...</td>\n",
       "      <td>Извращенный отшельник;Илья Романов</td>\n",
       "      <td>Наемник «S» ранга</td>\n",
       "      <td>sf_fantasy_city\\n   det_action\\n   popadanec\\n...</td>\n",
       "      <td>\\n    Прожив пять веков в шкуре вампира, я оты...</td>\n",
       "      <td>729588.fb2</td>\n",
       "      <td>0</td>\n",
       "      <td>True</td>\n",
       "    </tr>\n",
       "    <tr>\n",
       "      <th>1</th>\n",
       "      <td>/pool1/share/Downloads/Flibusta-Patch/f.fb2-72...</td>\n",
       "      <td>fanfiction;magician_book;popadanec;network_lit...</td>\n",
       "      <td>Cyberdawn</td>\n",
       "      <td>Лишний свиток</td>\n",
       "      <td>fanfiction\\n   magician_book\\n   popadanec\\n  ...</td>\n",
       "      <td>\\n    Попаданец в черножопого, ехидного, своло...</td>\n",
       "      <td>729587.fb2</td>\n",
       "      <td>0</td>\n",
       "      <td>True</td>\n",
       "    </tr>\n",
       "    <tr>\n",
       "      <th>2</th>\n",
       "      <td>/pool1/share/Downloads/Flibusta-Patch/f.fb2-72...</td>\n",
       "      <td>religion_orthodoxy;religion_christianity;relig...</td>\n",
       "      <td>Коллектив авторов</td>\n",
       "      <td>Святитель Василий Великий</td>\n",
       "      <td>religion_orthodoxy\\n   religion_christianity\\n...</td>\n",
       "      <td>NaN</td>\n",
       "      <td>729595.fb2</td>\n",
       "      <td>0</td>\n",
       "      <td>False</td>\n",
       "    </tr>\n",
       "    <tr>\n",
       "      <th>3</th>\n",
       "      <td>/pool1/share/Downloads/Flibusta-Patch/f.fb2-72...</td>\n",
       "      <td>sf_heroic;sf_humor;sf_social</td>\n",
       "      <td>Андрей Немиров</td>\n",
       "      <td>Квестер</td>\n",
       "      <td>sf_heroic\\n   sf_humor\\n   sf_social\\n   \\n   ...</td>\n",
       "      <td>\\n    Доброго времени суток, читатель! По слов...</td>\n",
       "      <td>729601.fb2</td>\n",
       "      <td>0</td>\n",
       "      <td>True</td>\n",
       "    </tr>\n",
       "    <tr>\n",
       "      <th>4</th>\n",
       "      <td>/pool1/share/Downloads/Flibusta-Patch/f.fb2-72...</td>\n",
       "      <td>sf_horror;literature_19;literature_20;sf_horro...</td>\n",
       "      <td>Джеймс Брандер Мэтьюз;Артур Грей;Эдмунд Митчел...</td>\n",
       "      <td>Мистические истории. Фантом озера</td>\n",
       "      <td>sf_horrorliterature_19literature_20sf_horrorfo...</td>\n",
       "      <td>NaN</td>\n",
       "      <td>729599.fb2</td>\n",
       "      <td>0</td>\n",
       "      <td>True</td>\n",
       "    </tr>\n",
       "  </tbody>\n",
       "</table>\n",
       "</div>"
      ],
      "text/plain": [
       "                                                  ID  \\\n",
       "0  /pool1/share/Downloads/Flibusta-Patch/f.fb2-72...   \n",
       "1  /pool1/share/Downloads/Flibusta-Patch/f.fb2-72...   \n",
       "2  /pool1/share/Downloads/Flibusta-Patch/f.fb2-72...   \n",
       "3  /pool1/share/Downloads/Flibusta-Patch/f.fb2-72...   \n",
       "4  /pool1/share/Downloads/Flibusta-Patch/f.fb2-72...   \n",
       "\n",
       "                                              Genres  \\\n",
       "0  sf_fantasy_city;det_action;popadanec;magician_...   \n",
       "1  fanfiction;magician_book;popadanec;network_lit...   \n",
       "2  religion_orthodoxy;religion_christianity;relig...   \n",
       "3                       sf_heroic;sf_humor;sf_social   \n",
       "4  sf_horror;literature_19;literature_20;sf_horro...   \n",
       "\n",
       "                                             Authors  \\\n",
       "0                 Извращенный отшельник;Илья Романов   \n",
       "1                                          Cyberdawn   \n",
       "2                                  Коллектив авторов   \n",
       "3                                     Андрей Немиров   \n",
       "4  Джеймс Брандер Мэтьюз;Артур Грей;Эдмунд Митчел...   \n",
       "\n",
       "                           BookTitle  \\\n",
       "0                  Наемник «S» ранга   \n",
       "1                      Лишний свиток   \n",
       "2          Святитель Василий Великий   \n",
       "3                            Квестер   \n",
       "4  Мистические истории. Фантом озера   \n",
       "\n",
       "                                                Body  \\\n",
       "0  sf_fantasy_city\\n   det_action\\n   popadanec\\n...   \n",
       "1  fanfiction\\n   magician_book\\n   popadanec\\n  ...   \n",
       "2  religion_orthodoxy\\n   religion_christianity\\n...   \n",
       "3  sf_heroic\\n   sf_humor\\n   sf_social\\n   \\n   ...   \n",
       "4  sf_horrorliterature_19literature_20sf_horrorfo...   \n",
       "\n",
       "                                          Annotation    FileName  IsSelected  \\\n",
       "0  \\n    Прожив пять веков в шкуре вампира, я оты...  729588.fb2           0   \n",
       "1  \\n    Попаданец в черножопого, ехидного, своло...  729587.fb2           0   \n",
       "2                                                NaN  729595.fb2           0   \n",
       "3  \\n    Доброго времени суток, читатель! По слов...  729601.fb2           0   \n",
       "4                                                NaN  729599.fb2           0   \n",
       "\n",
       "   is_sf  \n",
       "0   True  \n",
       "1   True  \n",
       "2  False  \n",
       "3   True  \n",
       "4   True  "
      ]
     },
     "execution_count": 4,
     "metadata": {},
     "output_type": "execute_result"
    }
   ],
   "source": [
    "df = pd.read_csv(\"../full.csv\")  # Load the CSV file into a pandas DataFrame\n",
    "\n",
    "# drop all non-string records, unclear where they are coming from\n",
    "df = df[df.apply(lambda row: isinstance(row['Body'], str) and isinstance(row['Genres'], str), axis=1)]\n",
    "\n",
    "def is_sf_genre(genre: str) -> bool:\n",
    "    return genre.startswith('sf') or genre == 'popadanec' or genre == 'litrpg'\n",
    "\n",
    "# define is_sf label\n",
    "df['is_sf'] = df['Genres'].apply(lambda genres: any(is_sf_genre(genre) for genre in genres.split(';')))\n",
    "df.head()"
   ]
  },
  {
   "cell_type": "markdown",
   "metadata": {},
   "source": [
    "Let's define synthetic column that we'll be doing the actual classification on"
   ]
  },
  {
   "cell_type": "code",
   "execution_count": 5,
   "metadata": {},
   "outputs": [
    {
     "data": {
      "text/html": [
       "<div>\n",
       "<style scoped>\n",
       "    .dataframe tbody tr th:only-of-type {\n",
       "        vertical-align: middle;\n",
       "    }\n",
       "\n",
       "    .dataframe tbody tr th {\n",
       "        vertical-align: top;\n",
       "    }\n",
       "\n",
       "    .dataframe thead th {\n",
       "        text-align: right;\n",
       "    }\n",
       "</style>\n",
       "<table border=\"1\" class=\"dataframe\">\n",
       "  <thead>\n",
       "    <tr style=\"text-align: right;\">\n",
       "      <th></th>\n",
       "      <th>ID</th>\n",
       "      <th>Genres</th>\n",
       "      <th>Authors</th>\n",
       "      <th>BookTitle</th>\n",
       "      <th>Body</th>\n",
       "      <th>Annotation</th>\n",
       "      <th>FileName</th>\n",
       "      <th>IsSelected</th>\n",
       "      <th>is_sf</th>\n",
       "      <th>body</th>\n",
       "    </tr>\n",
       "  </thead>\n",
       "  <tbody>\n",
       "    <tr>\n",
       "      <th>168548</th>\n",
       "      <td>/pool1/share/Flibusta/fb2.Flibusta.Net/archive...</td>\n",
       "      <td>love_contemporary</td>\n",
       "      <td>Маргарита Дюжева</td>\n",
       "      <td>Я тебя верну</td>\n",
       "      <td>love_contemporary\\n   \\n    Маргарита\\n    Дюж...</td>\n",
       "      <td>\\n    Возвращаясь домой, я думала, что все ост...</td>\n",
       "      <td>674881.fb2</td>\n",
       "      <td>0</td>\n",
       "      <td>False</td>\n",
       "      <td>\\n    Возвращаясь домой, я думала, что все ост...</td>\n",
       "    </tr>\n",
       "    <tr>\n",
       "      <th>43941</th>\n",
       "      <td>/pool1/share/Flibusta/fb2.Flibusta.Net/archive...</td>\n",
       "      <td>home_cooking;home_health</td>\n",
       "      <td>Татьяна Рыжова</td>\n",
       "      <td>Диабет. Есть – чтобы жить</td>\n",
       "      <td>home_cooking\\n   home_health\\n   \\n    Татьяна...</td>\n",
       "      <td>\\n    Больные сахарным диабетом знают, что это...</td>\n",
       "      <td>312639.fb2</td>\n",
       "      <td>0</td>\n",
       "      <td>False</td>\n",
       "      <td>\\n    Больные сахарным диабетом знают, что это...</td>\n",
       "    </tr>\n",
       "    <tr>\n",
       "      <th>146894</th>\n",
       "      <td>/pool1/share/Flibusta/fb2.Flibusta.Net/archive...</td>\n",
       "      <td>sf_action;sf_heroic</td>\n",
       "      <td>Серж Винтеркей</td>\n",
       "      <td>Рубеж 4: В игре</td>\n",
       "      <td>sf_action sf_heroic  Серж Винтеркей 5176dada-c...</td>\n",
       "      <td>Приключения героев серии бестселлеров «Рубеж» ...</td>\n",
       "      <td>621419.fb2</td>\n",
       "      <td>0</td>\n",
       "      <td>True</td>\n",
       "      <td>Приключения героев серии бестселлеров «Рубеж» ...</td>\n",
       "    </tr>\n",
       "    <tr>\n",
       "      <th>181328</th>\n",
       "      <td>/pool1/share/Flibusta/fb2.Flibusta.Net/archive...</td>\n",
       "      <td>popadancy;sf_action;adventure</td>\n",
       "      <td>Макс Вальтер</td>\n",
       "      <td>Смерть может танцевать 6</td>\n",
       "      <td>popadancy\\n   sf_action\\n   adventure\\n   \\n  ...</td>\n",
       "      <td>\\n    Неизвестный новый мир, который предстоит...</td>\n",
       "      <td>708769.fb2</td>\n",
       "      <td>0</td>\n",
       "      <td>True</td>\n",
       "      <td>\\n    Неизвестный новый мир, который предстоит...</td>\n",
       "    </tr>\n",
       "    <tr>\n",
       "      <th>138268</th>\n",
       "      <td>/pool1/share/Flibusta/fb2.Flibusta.Net/archive...</td>\n",
       "      <td>foreign_sf;sf_social;sf</td>\n",
       "      <td>Станислав Лем</td>\n",
       "      <td>Охота</td>\n",
       "      <td>foreign_sfsf_socialsf СтаниславГерманЛем2c204a...</td>\n",
       "      <td>В этом сборнике Станислав Лем, виртуоз нестанд...</td>\n",
       "      <td>598207.fb2</td>\n",
       "      <td>0</td>\n",
       "      <td>True</td>\n",
       "      <td>В этом сборнике Станислав Лем, виртуоз нестанд...</td>\n",
       "    </tr>\n",
       "    <tr>\n",
       "      <th>169240</th>\n",
       "      <td>/pool1/share/Flibusta/fb2.Flibusta.Net/archive...</td>\n",
       "      <td>sf_litrpg;sf_postapocalyptic</td>\n",
       "      <td>Андрей Ефремов</td>\n",
       "      <td>Симбиоз-1. Алый шторм</td>\n",
       "      <td>sf_litrpg\\n   sf_postapocalyptic\\n   \\n    Анд...</td>\n",
       "      <td>\\n    Сколько требуется времени, чтобы привычн...</td>\n",
       "      <td>676619.fb2</td>\n",
       "      <td>0</td>\n",
       "      <td>True</td>\n",
       "      <td>\\n    Сколько требуется времени, чтобы привычн...</td>\n",
       "    </tr>\n",
       "    <tr>\n",
       "      <th>220648</th>\n",
       "      <td>/pool1/share/Flibusta/fb2.Flibusta.Net/archive...</td>\n",
       "      <td>prose_contemporary</td>\n",
       "      <td>Джон Хоукс</td>\n",
       "      <td>Лягух</td>\n",
       "      <td>prose_contemporary  Джон Хоукс  Лягух Незауряд...</td>\n",
       "      <td>Незауряден тот, кто приютил лягушку! Да-да, у ...</td>\n",
       "      <td>78803.fb2</td>\n",
       "      <td>0</td>\n",
       "      <td>False</td>\n",
       "      <td>Незауряден тот, кто приютил лягушку! Да-да, у ...</td>\n",
       "    </tr>\n",
       "    <tr>\n",
       "      <th>184058</th>\n",
       "      <td>/pool1/share/Flibusta/fb2.Flibusta.Net/archive...</td>\n",
       "      <td>sf;sf_horror</td>\n",
       "      <td>Алексей Зазнайкин</td>\n",
       "      <td>Вы верите в демонов?</td>\n",
       "      <td>sfsf_horrorАлексейЗазнайкинd00dbf32-3edf-4ca5-...</td>\n",
       "      <td>Вы верите в демонов? А верите ли вы в ангелов?...</td>\n",
       "      <td>715561.fb2</td>\n",
       "      <td>0</td>\n",
       "      <td>True</td>\n",
       "      <td>Вы верите в демонов? А верите ли вы в ангелов?...</td>\n",
       "    </tr>\n",
       "    <tr>\n",
       "      <th>108720</th>\n",
       "      <td>/pool1/share/Flibusta/fb2.Flibusta.Net/archive...</td>\n",
       "      <td>unrecognised;sf_fantasy;unrecognised</td>\n",
       "      <td></td>\n",
       "      <td>Я Апокалипсис - Приятно Познакомиться. Том 1 (СИ)</td>\n",
       "      <td>unrecognised\\n      sf_fantasy\\n      unrecogn...</td>\n",
       "      <td>\\n        \\tОбычный день, 10 июля 2016 года. Л...</td>\n",
       "      <td>520690.fb2</td>\n",
       "      <td>0</td>\n",
       "      <td>True</td>\n",
       "      <td>\\n        \\tОбычный день, 10 июля 2016 года. Л...</td>\n",
       "    </tr>\n",
       "    <tr>\n",
       "      <th>30817</th>\n",
       "      <td>/pool1/share/Flibusta/fb2.Flibusta.Net/archive...</td>\n",
       "      <td>sf_history</td>\n",
       "      <td>Виктор Побережных</td>\n",
       "      <td>Три дня и вся жизнь</td>\n",
       "      <td>sf_history\\n\\nВиктор\\nПобережных\\n\\nТри дня и ...</td>\n",
       "      <td>\\nПравленая версия рассказа. Убраны нестыковки...</td>\n",
       "      <td>256596.fb2</td>\n",
       "      <td>0</td>\n",
       "      <td>True</td>\n",
       "      <td>\\nПравленая версия рассказа. Убраны нестыковки...</td>\n",
       "    </tr>\n",
       "  </tbody>\n",
       "</table>\n",
       "</div>"
      ],
      "text/plain": [
       "                                                       ID  \\\n",
       "168548  /pool1/share/Flibusta/fb2.Flibusta.Net/archive...   \n",
       "43941   /pool1/share/Flibusta/fb2.Flibusta.Net/archive...   \n",
       "146894  /pool1/share/Flibusta/fb2.Flibusta.Net/archive...   \n",
       "181328  /pool1/share/Flibusta/fb2.Flibusta.Net/archive...   \n",
       "138268  /pool1/share/Flibusta/fb2.Flibusta.Net/archive...   \n",
       "169240  /pool1/share/Flibusta/fb2.Flibusta.Net/archive...   \n",
       "220648  /pool1/share/Flibusta/fb2.Flibusta.Net/archive...   \n",
       "184058  /pool1/share/Flibusta/fb2.Flibusta.Net/archive...   \n",
       "108720  /pool1/share/Flibusta/fb2.Flibusta.Net/archive...   \n",
       "30817   /pool1/share/Flibusta/fb2.Flibusta.Net/archive...   \n",
       "\n",
       "                                      Genres            Authors  \\\n",
       "168548                     love_contemporary   Маргарита Дюжева   \n",
       "43941               home_cooking;home_health     Татьяна Рыжова   \n",
       "146894                   sf_action;sf_heroic     Серж Винтеркей   \n",
       "181328         popadancy;sf_action;adventure       Макс Вальтер   \n",
       "138268               foreign_sf;sf_social;sf      Станислав Лем   \n",
       "169240          sf_litrpg;sf_postapocalyptic     Андрей Ефремов   \n",
       "220648                    prose_contemporary         Джон Хоукс   \n",
       "184058                          sf;sf_horror  Алексей Зазнайкин   \n",
       "108720  unrecognised;sf_fantasy;unrecognised                      \n",
       "30817                             sf_history  Виктор Побережных   \n",
       "\n",
       "                                                BookTitle  \\\n",
       "168548                                       Я тебя верну   \n",
       "43941                           Диабет. Есть – чтобы жить   \n",
       "146894                                    Рубеж 4: В игре   \n",
       "181328                           Смерть может танцевать 6   \n",
       "138268                                              Охота   \n",
       "169240                              Симбиоз-1. Алый шторм   \n",
       "220648                                              Лягух   \n",
       "184058                               Вы верите в демонов?   \n",
       "108720  Я Апокалипсис - Приятно Познакомиться. Том 1 (СИ)   \n",
       "30817                                 Три дня и вся жизнь   \n",
       "\n",
       "                                                     Body  \\\n",
       "168548  love_contemporary\\n   \\n    Маргарита\\n    Дюж...   \n",
       "43941   home_cooking\\n   home_health\\n   \\n    Татьяна...   \n",
       "146894  sf_action sf_heroic  Серж Винтеркей 5176dada-c...   \n",
       "181328  popadancy\\n   sf_action\\n   adventure\\n   \\n  ...   \n",
       "138268  foreign_sfsf_socialsf СтаниславГерманЛем2c204a...   \n",
       "169240  sf_litrpg\\n   sf_postapocalyptic\\n   \\n    Анд...   \n",
       "220648  prose_contemporary  Джон Хоукс  Лягух Незауряд...   \n",
       "184058  sfsf_horrorАлексейЗазнайкинd00dbf32-3edf-4ca5-...   \n",
       "108720  unrecognised\\n      sf_fantasy\\n      unrecogn...   \n",
       "30817   sf_history\\n\\nВиктор\\nПобережных\\n\\nТри дня и ...   \n",
       "\n",
       "                                               Annotation    FileName  \\\n",
       "168548  \\n    Возвращаясь домой, я думала, что все ост...  674881.fb2   \n",
       "43941   \\n    Больные сахарным диабетом знают, что это...  312639.fb2   \n",
       "146894  Приключения героев серии бестселлеров «Рубеж» ...  621419.fb2   \n",
       "181328  \\n    Неизвестный новый мир, который предстоит...  708769.fb2   \n",
       "138268  В этом сборнике Станислав Лем, виртуоз нестанд...  598207.fb2   \n",
       "169240  \\n    Сколько требуется времени, чтобы привычн...  676619.fb2   \n",
       "220648  Незауряден тот, кто приютил лягушку! Да-да, у ...   78803.fb2   \n",
       "184058  Вы верите в демонов? А верите ли вы в ангелов?...  715561.fb2   \n",
       "108720  \\n        \\tОбычный день, 10 июля 2016 года. Л...  520690.fb2   \n",
       "30817   \\nПравленая версия рассказа. Убраны нестыковки...  256596.fb2   \n",
       "\n",
       "        IsSelected  is_sf                                               body  \n",
       "168548           0  False  \\n    Возвращаясь домой, я думала, что все ост...  \n",
       "43941            0  False  \\n    Больные сахарным диабетом знают, что это...  \n",
       "146894           0   True  Приключения героев серии бестселлеров «Рубеж» ...  \n",
       "181328           0   True  \\n    Неизвестный новый мир, который предстоит...  \n",
       "138268           0   True  В этом сборнике Станислав Лем, виртуоз нестанд...  \n",
       "169240           0   True  \\n    Сколько требуется времени, чтобы привычн...  \n",
       "220648           0  False  Незауряден тот, кто приютил лягушку! Да-да, у ...  \n",
       "184058           0   True  Вы верите в демонов? А верите ли вы в ангелов?...  \n",
       "108720           0   True  \\n        \\tОбычный день, 10 июля 2016 года. Л...  \n",
       "30817            0   True  \\nПравленая версия рассказа. Убраны нестыковки...  "
      ]
     },
     "execution_count": 5,
     "metadata": {},
     "output_type": "execute_result"
    }
   ],
   "source": [
    "# remove all rows which do not have annotation\n",
    "df = df[df['Annotation'].str.len() >= 20]\n",
    "\n",
    "# Create 'body' field by concatenating 'Annotation', 'Authors', 'Genres', and 'BookTitle'\n",
    "df['body'] = df['Annotation'] + ' ' + df['Authors'] + ' ' + df['Genres'] + ' ' + df['BookTitle']\n",
    "df.sample(10)"
   ]
  },
  {
   "cell_type": "code",
   "execution_count": 6,
   "metadata": {},
   "outputs": [
    {
     "data": {
      "text/html": [
       "<div>\n",
       "<style scoped>\n",
       "    .dataframe tbody tr th:only-of-type {\n",
       "        vertical-align: middle;\n",
       "    }\n",
       "\n",
       "    .dataframe tbody tr th {\n",
       "        vertical-align: top;\n",
       "    }\n",
       "\n",
       "    .dataframe thead th {\n",
       "        text-align: right;\n",
       "    }\n",
       "</style>\n",
       "<table border=\"1\" class=\"dataframe\">\n",
       "  <thead>\n",
       "    <tr style=\"text-align: right;\">\n",
       "      <th></th>\n",
       "      <th>ID</th>\n",
       "      <th>Genres</th>\n",
       "      <th>Authors</th>\n",
       "      <th>BookTitle</th>\n",
       "      <th>Body</th>\n",
       "      <th>Annotation</th>\n",
       "      <th>FileName</th>\n",
       "      <th>IsSelected</th>\n",
       "      <th>is_sf</th>\n",
       "      <th>body</th>\n",
       "    </tr>\n",
       "  </thead>\n",
       "  <tbody>\n",
       "    <tr>\n",
       "      <th>908</th>\n",
       "      <td>/pool1/share/Flibusta/fb2.Flibusta.Net/archive...</td>\n",
       "      <td>love_contemporary</td>\n",
       "      <td>Маша Драч</td>\n",
       "      <td>Запретный плод</td>\n",
       "      <td>love_contemporary\\n   \\n    Маша\\n    Драч\\n  ...</td>\n",
       "      <td>\\n    Можно ли быть вместе, если существуют за...</td>\n",
       "      <td>618555.fb2</td>\n",
       "      <td>0</td>\n",
       "      <td>False</td>\n",
       "      <td>\\n    Можно ли быть вместе, если существуют за...</td>\n",
       "    </tr>\n",
       "    <tr>\n",
       "      <th>1129</th>\n",
       "      <td>/pool1/share/Flibusta/fb2.Flibusta.Net/archive...</td>\n",
       "      <td>det_action;love_erotica</td>\n",
       "      <td>Натали Бранде</td>\n",
       "      <td>Голубые шинели</td>\n",
       "      <td>det_action\\n   love_erotica\\n   \\n    Натали\\n...</td>\n",
       "      <td>\\n    Он прошел долгий и кровавый путь от прос...</td>\n",
       "      <td>226205.fb2</td>\n",
       "      <td>0</td>\n",
       "      <td>False</td>\n",
       "      <td>\\n    Он прошел долгий и кровавый путь от прос...</td>\n",
       "    </tr>\n",
       "    <tr>\n",
       "      <th>164</th>\n",
       "      <td>/pool1/share/Flibusta/fb2.Flibusta.Net/archive...</td>\n",
       "      <td>fantasy_fight;popadanec</td>\n",
       "      <td>Константин Муравьёв</td>\n",
       "      <td>Мастер лута</td>\n",
       "      <td>fantasy_fightpopadanec КонстантинНиколаевичМур...</td>\n",
       "      <td>Если ты сумел выжить в лесу, который до этого ...</td>\n",
       "      <td>438417.fb2</td>\n",
       "      <td>1</td>\n",
       "      <td>True</td>\n",
       "      <td>Если ты сумел выжить в лесу, который до этого ...</td>\n",
       "    </tr>\n",
       "    <tr>\n",
       "      <th>91</th>\n",
       "      <td>/pool1/share/Flibusta/fb2.Flibusta.Net/archive...</td>\n",
       "      <td>sf_fantasy</td>\n",
       "      <td>Александр Сапегин</td>\n",
       "      <td>Жестокая сказка</td>\n",
       "      <td>sf_fantasy\\n   \\n    Александр\\n    Павлович\\n...</td>\n",
       "      <td>\\n    Магические миры совсем не похожи на добр...</td>\n",
       "      <td>258090.fb2</td>\n",
       "      <td>1</td>\n",
       "      <td>True</td>\n",
       "      <td>\\n    Магические миры совсем не похожи на добр...</td>\n",
       "    </tr>\n",
       "    <tr>\n",
       "      <th>1299</th>\n",
       "      <td>/pool1/share/Flibusta/fb2.Flibusta.Net/archive...</td>\n",
       "      <td>child_prose;child_sf</td>\n",
       "      <td>Наталья Дубина</td>\n",
       "      <td>Инсталляция</td>\n",
       "      <td>child_prose\\n   child_sf\\n   \\n    Наталья\\n  ...</td>\n",
       "      <td>\\n    Сборник коротких рассказов с фантастичес...</td>\n",
       "      <td>348196.fb2</td>\n",
       "      <td>0</td>\n",
       "      <td>False</td>\n",
       "      <td>\\n    Сборник коротких рассказов с фантастичес...</td>\n",
       "    </tr>\n",
       "    <tr>\n",
       "      <th>987</th>\n",
       "      <td>/pool1/share/Flibusta/fb2.Flibusta.Net/archive...</td>\n",
       "      <td>periodic</td>\n",
       "      <td>Мэрилин Мерлин</td>\n",
       "      <td>Дом любви и печали</td>\n",
       "      <td>periodic\\n    \\n      Мэрилин\\n      Мерлин\\n ...</td>\n",
       "      <td>\\n      Постепенно расплывчатое пятно начало п...</td>\n",
       "      <td>550692.fb2</td>\n",
       "      <td>0</td>\n",
       "      <td>False</td>\n",
       "      <td>\\n      Постепенно расплывчатое пятно начало п...</td>\n",
       "    </tr>\n",
       "    <tr>\n",
       "      <th>136</th>\n",
       "      <td>/pool1/share/Flibusta/fb2.Flibusta.Net/archive...</td>\n",
       "      <td>popadanec;sf_action</td>\n",
       "      <td>Роман Глушков</td>\n",
       "      <td>Побег</td>\n",
       "      <td>popadanecsf_action\\n   РоманАнатольевичГлушков...</td>\n",
       "      <td>\\n    «Рифт-75» — тюрьма для самых отпетых вое...</td>\n",
       "      <td>367428.fb2</td>\n",
       "      <td>1</td>\n",
       "      <td>True</td>\n",
       "      <td>\\n    «Рифт-75» — тюрьма для самых отпетых вое...</td>\n",
       "    </tr>\n",
       "    <tr>\n",
       "      <th>58</th>\n",
       "      <td>/pool1/share/Downloads/Flibusta-Patch/f.fb2-74...</td>\n",
       "      <td>unrecognised;popadanec;sf_fantasy</td>\n",
       "      <td>Антон Панарин</td>\n",
       "      <td>Не грози Дубровскому! Том II (СИ)</td>\n",
       "      <td>unrecognised\\n      popadanec\\n      sf_fantas...</td>\n",
       "      <td>\\n        \\t\\tПока строится фармацевтическая и...</td>\n",
       "      <td>749590.fb2</td>\n",
       "      <td>1</td>\n",
       "      <td>True</td>\n",
       "      <td>\\n        \\t\\tПока строится фармацевтическая и...</td>\n",
       "    </tr>\n",
       "    <tr>\n",
       "      <th>589</th>\n",
       "      <td>/pool1/share/Flibusta/fb2.Flibusta.Net/archive...</td>\n",
       "      <td>network_literature;popadancy</td>\n",
       "      <td>Андрей Кощиенко</td>\n",
       "      <td>Файтин!</td>\n",
       "      <td>network_literature\\n    popadancy\\n    \\n     ...</td>\n",
       "      <td>\\n      Многие думают, что \"Файтин\" — это коре...</td>\n",
       "      <td>693346.fb2</td>\n",
       "      <td>1</td>\n",
       "      <td>False</td>\n",
       "      <td>\\n      Многие думают, что \"Файтин\" — это коре...</td>\n",
       "    </tr>\n",
       "    <tr>\n",
       "      <th>62</th>\n",
       "      <td>/pool1/share/Downloads/Flibusta-Patch/f.fb2-74...</td>\n",
       "      <td>sf_history;popadanec;magician_book;sf_fantasy_...</td>\n",
       "      <td>Валерий Пылаев</td>\n",
       "      <td>Гимназия №6</td>\n",
       "      <td>sf_history\\n   popadanec\\n   magician_book\\n  ...</td>\n",
       "      <td>\\n    Герой, воитель, спаситель, защитник обез...</td>\n",
       "      <td>750284.fb2</td>\n",
       "      <td>1</td>\n",
       "      <td>True</td>\n",
       "      <td>\\n    Герой, воитель, спаситель, защитник обез...</td>\n",
       "    </tr>\n",
       "  </tbody>\n",
       "</table>\n",
       "</div>"
      ],
      "text/plain": [
       "                                                     ID  \\\n",
       "908   /pool1/share/Flibusta/fb2.Flibusta.Net/archive...   \n",
       "1129  /pool1/share/Flibusta/fb2.Flibusta.Net/archive...   \n",
       "164   /pool1/share/Flibusta/fb2.Flibusta.Net/archive...   \n",
       "91    /pool1/share/Flibusta/fb2.Flibusta.Net/archive...   \n",
       "1299  /pool1/share/Flibusta/fb2.Flibusta.Net/archive...   \n",
       "987   /pool1/share/Flibusta/fb2.Flibusta.Net/archive...   \n",
       "136   /pool1/share/Flibusta/fb2.Flibusta.Net/archive...   \n",
       "58    /pool1/share/Downloads/Flibusta-Patch/f.fb2-74...   \n",
       "589   /pool1/share/Flibusta/fb2.Flibusta.Net/archive...   \n",
       "62    /pool1/share/Downloads/Flibusta-Patch/f.fb2-74...   \n",
       "\n",
       "                                                 Genres              Authors  \\\n",
       "908                                   love_contemporary            Маша Драч   \n",
       "1129                            det_action;love_erotica        Натали Бранде   \n",
       "164                             fantasy_fight;popadanec  Константин Муравьёв   \n",
       "91                                           sf_fantasy    Александр Сапегин   \n",
       "1299                               child_prose;child_sf       Наталья Дубина   \n",
       "987                                            periodic       Мэрилин Мерлин   \n",
       "136                                 popadanec;sf_action        Роман Глушков   \n",
       "58                    unrecognised;popadanec;sf_fantasy        Антон Панарин   \n",
       "589                        network_literature;popadancy      Андрей Кощиенко   \n",
       "62    sf_history;popadanec;magician_book;sf_fantasy_...       Валерий Пылаев   \n",
       "\n",
       "                              BookTitle  \\\n",
       "908                      Запретный плод   \n",
       "1129                     Голубые шинели   \n",
       "164                         Мастер лута   \n",
       "91                      Жестокая сказка   \n",
       "1299                        Инсталляция   \n",
       "987                  Дом любви и печали   \n",
       "136                               Побег   \n",
       "58    Не грози Дубровскому! Том II (СИ)   \n",
       "589                             Файтин!   \n",
       "62                         Гимназия №6    \n",
       "\n",
       "                                                   Body  \\\n",
       "908   love_contemporary\\n   \\n    Маша\\n    Драч\\n  ...   \n",
       "1129  det_action\\n   love_erotica\\n   \\n    Натали\\n...   \n",
       "164   fantasy_fightpopadanec КонстантинНиколаевичМур...   \n",
       "91    sf_fantasy\\n   \\n    Александр\\n    Павлович\\n...   \n",
       "1299  child_prose\\n   child_sf\\n   \\n    Наталья\\n  ...   \n",
       "987   periodic\\n    \\n      Мэрилин\\n      Мерлин\\n ...   \n",
       "136   popadanecsf_action\\n   РоманАнатольевичГлушков...   \n",
       "58    unrecognised\\n      popadanec\\n      sf_fantas...   \n",
       "589   network_literature\\n    popadancy\\n    \\n     ...   \n",
       "62    sf_history\\n   popadanec\\n   magician_book\\n  ...   \n",
       "\n",
       "                                             Annotation    FileName  \\\n",
       "908   \\n    Можно ли быть вместе, если существуют за...  618555.fb2   \n",
       "1129  \\n    Он прошел долгий и кровавый путь от прос...  226205.fb2   \n",
       "164   Если ты сумел выжить в лесу, который до этого ...  438417.fb2   \n",
       "91    \\n    Магические миры совсем не похожи на добр...  258090.fb2   \n",
       "1299  \\n    Сборник коротких рассказов с фантастичес...  348196.fb2   \n",
       "987   \\n      Постепенно расплывчатое пятно начало п...  550692.fb2   \n",
       "136   \\n    «Рифт-75» — тюрьма для самых отпетых вое...  367428.fb2   \n",
       "58    \\n        \\t\\tПока строится фармацевтическая и...  749590.fb2   \n",
       "589   \\n      Многие думают, что \"Файтин\" — это коре...  693346.fb2   \n",
       "62    \\n    Герой, воитель, спаситель, защитник обез...  750284.fb2   \n",
       "\n",
       "      IsSelected  is_sf                                               body  \n",
       "908            0  False  \\n    Можно ли быть вместе, если существуют за...  \n",
       "1129           0  False  \\n    Он прошел долгий и кровавый путь от прос...  \n",
       "164            1   True  Если ты сумел выжить в лесу, который до этого ...  \n",
       "91             1   True  \\n    Магические миры совсем не похожи на добр...  \n",
       "1299           0  False  \\n    Сборник коротких рассказов с фантастичес...  \n",
       "987            0  False  \\n      Постепенно расплывчатое пятно начало п...  \n",
       "136            1   True  \\n    «Рифт-75» — тюрьма для самых отпетых вое...  \n",
       "58             1   True  \\n        \\t\\tПока строится фармацевтическая и...  \n",
       "589            1  False  \\n      Многие думают, что \"Файтин\" — это коре...  \n",
       "62             1   True  \\n    Герой, воитель, спаситель, защитник обез...  "
      ]
     },
     "execution_count": 6,
     "metadata": {},
     "output_type": "execute_result"
    }
   ],
   "source": [
    "# Filter the dataframe based on the conditions\n",
    "df_selected_1 = df[(df['IsSelected'] == 1)]\n",
    "df_selected_0 = df[(df['IsSelected'] == 0) & (~df['is_sf'])]\n",
    "\n",
    "# -1 are manually selected negative samples\n",
    "df_selected_neg = df[(df['IsSelected'] == -1)]\n",
    "\n",
    "# Sample the same number of records where selected = 0\n",
    "df_selected_0_sampled = df_selected_0.sample(n=len(df_selected_1), random_state=42)\n",
    "\n",
    "negative_samples = pd.concat([df_selected_0_sampled, df_selected_neg])\n",
    "\n",
    "# Set 'selected' to 0 for all negative_samples\n",
    "negative_samples['IsSelected'] = 0\n",
    "\n",
    "# Concatenate the two dataframes\n",
    "new_df = pd.concat([df_selected_1, negative_samples])\n",
    "\n",
    "# Reset the index of the new dataframe\n",
    "new_df.reset_index(drop=True, inplace=True)\n",
    "\n",
    "# Print the new dataframe\n",
    "new_df.sample(10)\n"
   ]
  },
  {
   "cell_type": "markdown",
   "metadata": {},
   "source": [
    "Defining tokenizer and some helper methods"
   ]
  },
  {
   "cell_type": "code",
   "execution_count": 7,
   "metadata": {},
   "outputs": [],
   "source": [
    "# Tokenizer\n",
    "tokenizer = AutoTokenizer.from_pretrained(MODEL_NAME)\n",
    "\n",
    "# Function to segment and tokenize text\n",
    "def segment_and_tokenize(text):\n",
    "    # Split text into sentences\n",
    "    sentences = sent_tokenize(text, language='russian')\n",
    "    tokenized_output = []\n",
    "    attention_mask_output = []\n",
    "\n",
    "    for sentence in sentences:\n",
    "        # Tokenize each sentence\n",
    "        tokens = tokenizer.encode_plus(sentence, add_special_tokens=True, max_length=MAX_TOKENS, \n",
    "                                       truncation=True, padding='max_length', return_tensors='tf')\n",
    "        tokenized_output.append(tokens['input_ids'])\n",
    "        attention_mask_output.append(tokens['attention_mask'])\n",
    "\n",
    "        # Check if we've reached the maximum number of tokens\n",
    "        if sum([len(t[0]) for t in tokenized_output]) >= MAX_TOKENS:\n",
    "            break\n",
    "\n",
    "    # Combine tokenized sentences up to the maximum length\n",
    "    input_ids = tf.concat(tokenized_output, axis=1)[0,:MAX_TOKENS]\n",
    "    attention_mask = tf.concat(attention_mask_output, axis=1)[0,:MAX_TOKENS]\n",
    "\n",
    "    return input_ids, attention_mask"
   ]
  },
  {
   "cell_type": "markdown",
   "metadata": {},
   "source": [
    "Let's run the tokenization and segmentation of the data"
   ]
  },
  {
   "cell_type": "code",
   "execution_count": 8,
   "metadata": {},
   "outputs": [
    {
     "name": "stderr",
     "output_type": "stream",
     "text": [
      "2023-12-05 09:34:55.721195: I tensorflow/compiler/xla/stream_executor/cuda/cuda_gpu_executor.cc:880] could not open file to read NUMA node: /sys/bus/pci/devices/0000:26:00.0/numa_node\n",
      "Your kernel may have been built without NUMA support.\n",
      "2023-12-05 09:34:55.725214: I tensorflow/compiler/xla/stream_executor/cuda/cuda_gpu_executor.cc:880] could not open file to read NUMA node: /sys/bus/pci/devices/0000:26:00.0/numa_node\n",
      "Your kernel may have been built without NUMA support.\n",
      "2023-12-05 09:34:55.725244: I tensorflow/compiler/xla/stream_executor/cuda/cuda_gpu_executor.cc:880] could not open file to read NUMA node: /sys/bus/pci/devices/0000:26:00.0/numa_node\n",
      "Your kernel may have been built without NUMA support.\n",
      "2023-12-05 09:34:55.726810: I tensorflow/compiler/xla/stream_executor/cuda/cuda_gpu_executor.cc:880] could not open file to read NUMA node: /sys/bus/pci/devices/0000:26:00.0/numa_node\n",
      "Your kernel may have been built without NUMA support.\n",
      "2023-12-05 09:34:55.726842: I tensorflow/compiler/xla/stream_executor/cuda/cuda_gpu_executor.cc:880] could not open file to read NUMA node: /sys/bus/pci/devices/0000:26:00.0/numa_node\n",
      "Your kernel may have been built without NUMA support.\n",
      "2023-12-05 09:34:55.726862: I tensorflow/compiler/xla/stream_executor/cuda/cuda_gpu_executor.cc:880] could not open file to read NUMA node: /sys/bus/pci/devices/0000:26:00.0/numa_node\n",
      "Your kernel may have been built without NUMA support.\n",
      "2023-12-05 09:34:56.239943: I tensorflow/compiler/xla/stream_executor/cuda/cuda_gpu_executor.cc:880] could not open file to read NUMA node: /sys/bus/pci/devices/0000:26:00.0/numa_node\n",
      "Your kernel may have been built without NUMA support.\n",
      "2023-12-05 09:34:56.239984: I tensorflow/compiler/xla/stream_executor/cuda/cuda_gpu_executor.cc:880] could not open file to read NUMA node: /sys/bus/pci/devices/0000:26:00.0/numa_node\n",
      "Your kernel may have been built without NUMA support.\n",
      "2023-12-05 09:34:56.239989: I tensorflow/core/common_runtime/gpu/gpu_device.cc:1977] Could not identify NUMA node of platform GPU id 0, defaulting to 0.  Your kernel may not have been built with NUMA support.\n",
      "2023-12-05 09:34:56.240015: I tensorflow/compiler/xla/stream_executor/cuda/cuda_gpu_executor.cc:880] could not open file to read NUMA node: /sys/bus/pci/devices/0000:26:00.0/numa_node\n",
      "Your kernel may have been built without NUMA support.\n",
      "2023-12-05 09:34:56.240030: I tensorflow/core/common_runtime/gpu/gpu_device.cc:1886] Created device /job:localhost/replica:0/task:0/device:GPU:0 with 5925 MB memory:  -> device: 0, name: NVIDIA GeForce RTX 2070, pci bus id: 0000:26:00.0, compute capability: 7.5\n"
     ]
    }
   ],
   "source": [
    "# Apply the function to the dataset\n",
    "new_df['segmented_data'] = new_df['body'].apply(segment_and_tokenize)\n",
    "new_df[['tokens', 'attention_mask']] = pd.DataFrame(new_df['segmented_data'].tolist(), index=new_df.index)"
   ]
  },
  {
   "cell_type": "markdown",
   "metadata": {},
   "source": [
    "Now let's prepare and split the dataset"
   ]
  },
  {
   "cell_type": "code",
   "execution_count": 9,
   "metadata": {},
   "outputs": [],
   "source": [
    "# Prepare dataset\n",
    "X_ids = np.array(new_df['tokens'].tolist())\n",
    "X_mask = np.array(new_df['attention_mask'].tolist())\n",
    "\n",
    "y = new_df['is_sf'].values\n",
    "X_train_ids, X_test_ids, X_train_mask, X_test_mask, y_train, y_test = train_test_split(X_ids, X_mask, y.astype('int32'), test_size=0.2)\n"
   ]
  },
  {
   "cell_type": "code",
   "execution_count": null,
   "metadata": {},
   "outputs": [],
   "source": []
  },
  {
   "cell_type": "markdown",
   "metadata": {},
   "source": [
    "Let's load the model now and define how we are fine-tuning it"
   ]
  },
  {
   "cell_type": "code",
   "execution_count": 10,
   "metadata": {},
   "outputs": [
    {
     "name": "stderr",
     "output_type": "stream",
     "text": [
      "2023-12-05 09:34:58.480805: I tensorflow/tsl/platform/default/subprocess.cc:304] Start cannot spawn child process: No such file or directory\n",
      "Some weights of the PyTorch model were not used when initializing the TF 2.0 model TFBertModel: ['cls.predictions.transform.dense.weight', 'bert.embeddings.position_ids', 'cls.seq_relationship.weight', 'cls.predictions.transform.dense.bias', 'cls.predictions.decoder.bias', 'cls.predictions.transform.LayerNorm.weight', 'cls.predictions.transform.LayerNorm.bias', 'cls.predictions.bias', 'cls.seq_relationship.bias', 'cls.predictions.decoder.weight']\n",
      "- This IS expected if you are initializing TFBertModel from a PyTorch model trained on another task or with another architecture (e.g. initializing a TFBertForSequenceClassification model from a BertForPreTraining model).\n",
      "- This IS NOT expected if you are initializing TFBertModel from a PyTorch model that you expect to be exactly identical (e.g. initializing a TFBertForSequenceClassification model from a BertForSequenceClassification model).\n",
      "All the weights of TFBertModel were initialized from the PyTorch model.\n",
      "If your task is similar to the task the model of the checkpoint was trained on, you can already use TFBertModel for predictions without further training.\n"
     ]
    }
   ],
   "source": [
    "bert = TFAutoModel.from_pretrained(MODEL_NAME, from_pt=True)\n",
    "input_ids = Input(shape=(MAX_TOKENS,), dtype=tf.int32, name='input_ids')\n",
    "input_mask = Input(shape=(MAX_TOKENS,), dtype=tf.int32, name='attention_mask')\n",
    "\n",
    "embeddings = bert(input_ids, attention_mask=input_mask)[0]\n",
    "pooled = GlobalMaxPool1D()(embeddings)\n",
    "output = Dense(1, activation='sigmoid')(pooled)\n",
    "\n",
    "model = Model(inputs=[input_ids, input_mask], outputs=output)"
   ]
  },
  {
   "cell_type": "code",
   "execution_count": 11,
   "metadata": {},
   "outputs": [],
   "source": [
    "model.compile(optimizer=Adam(learning_rate=3e-5), loss='binary_crossentropy', metrics=['accuracy'])"
   ]
  },
  {
   "cell_type": "code",
   "execution_count": 12,
   "metadata": {},
   "outputs": [
    {
     "name": "stdout",
     "output_type": "stream",
     "text": [
      "Epoch 1/2\n"
     ]
    },
    {
     "name": "stdout",
     "output_type": "stream",
     "text": [
      "WARNING:tensorflow:Gradients do not exist for variables ['tf_bert_model/bert/pooler/dense/kernel:0', 'tf_bert_model/bert/pooler/dense/bias:0'] when minimizing the loss. If you're using `model.compile()`, did you forget to provide a `loss` argument?\n",
      "WARNING:tensorflow:Gradients do not exist for variables ['tf_bert_model/bert/pooler/dense/kernel:0', 'tf_bert_model/bert/pooler/dense/bias:0'] when minimizing the loss. If you're using `model.compile()`, did you forget to provide a `loss` argument?\n",
      "WARNING:tensorflow:Gradients do not exist for variables ['tf_bert_model/bert/pooler/dense/kernel:0', 'tf_bert_model/bert/pooler/dense/bias:0'] when minimizing the loss. If you're using `model.compile()`, did you forget to provide a `loss` argument?\n",
      "WARNING:tensorflow:Gradients do not exist for variables ['tf_bert_model/bert/pooler/dense/kernel:0', 'tf_bert_model/bert/pooler/dense/bias:0'] when minimizing the loss. If you're using `model.compile()`, did you forget to provide a `loss` argument?\n"
     ]
    },
    {
     "name": "stderr",
     "output_type": "stream",
     "text": [
      "2023-12-05 09:35:15.289071: I tensorflow/compiler/xla/service/service.cc:168] XLA service 0x7facd01da260 initialized for platform CUDA (this does not guarantee that XLA will be used). Devices:\n",
      "2023-12-05 09:35:15.289097: I tensorflow/compiler/xla/service/service.cc:176]   StreamExecutor device (0): NVIDIA GeForce RTX 2070, Compute Capability 7.5\n",
      "2023-12-05 09:35:15.292263: I tensorflow/compiler/mlir/tensorflow/utils/dump_mlir_util.cc:269] disabling MLIR crash reproducer, set env var `MLIR_CRASH_REPRODUCER_DIRECTORY` to enable.\n",
      "2023-12-05 09:35:15.386494: I tensorflow/compiler/xla/stream_executor/cuda/cuda_dnn.cc:442] Loaded cuDNN version 8700\n",
      "2023-12-05 09:35:15.423164: I ./tensorflow/compiler/jit/device_compiler.h:186] Compiled cluster using XLA!  This line is logged at most once for the lifetime of the process.\n"
     ]
    },
    {
     "name": "stdout",
     "output_type": "stream",
     "text": [
      "58/58 [==============================] - 40s 347ms/step - loss: 0.5695 - accuracy: 0.6948 - val_loss: 0.4100 - val_accuracy: 0.7931\n",
      "Epoch 2/2\n",
      "58/58 [==============================] - 19s 322ms/step - loss: 0.2662 - accuracy: 0.8950 - val_loss: 0.3710 - val_accuracy: 0.8405\n"
     ]
    }
   ],
   "source": [
    "\n",
    "history = model.fit([X_train_ids, X_train_mask], y_train, batch_size=16, epochs=2, validation_split=0.2)"
   ]
  },
  {
   "cell_type": "code",
   "execution_count": 13,
   "metadata": {},
   "outputs": [
    {
     "data": {
      "image/png": "[encoded data removed]",
      "text/plain": [
       "<Figure size 640x480 with 1 Axes>"
      ]
     },
     "metadata": {},
     "output_type": "display_data"
    },
    {
     "data": {
      "image/png": "[encoded data removed]",
      "text/plain": [
       "<Figure size 640x480 with 1 Axes>"
      ]
     },
     "metadata": {},
     "output_type": "display_data"
    }
   ],
   "source": [
    "import matplotlib.pyplot as plt\n",
    "\n",
    "# 'history' is the object returned by the model.fit() method in TensorFlow\n",
    "\n",
    "# Summarize history for accuracy\n",
    "plt.plot(history.history['accuracy'])\n",
    "plt.plot(history.history['val_accuracy'])\n",
    "plt.title('Model Accuracy')\n",
    "plt.ylabel('Accuracy')\n",
    "plt.xlabel('Epoch')\n",
    "plt.legend(['Train', 'Validation'], loc='upper left')\n",
    "plt.show()\n",
    "\n",
    "# Summarize history for loss\n",
    "plt.plot(history.history['loss'])\n",
    "plt.plot(history.history['val_loss'])\n",
    "plt.title('Model Loss')\n",
    "plt.ylabel('Loss')\n",
    "plt.xlabel('Epoch')\n",
    "plt.legend(['Train', 'Validation'], loc='upper left')\n",
    "plt.show()"
   ]
  },
  {
   "cell_type": "code",
   "execution_count": 14,
   "metadata": {},
   "outputs": [
    {
     "name": "stdout",
     "output_type": "stream",
     "text": [
      "10/10 [==============================] - 2s 170ms/step - loss: 0.3588 - accuracy: 0.8304\n"
     ]
    },
    {
     "data": {
      "text/plain": [
       "[0.3587760031223297, 0.8304498195648193]"
      ]
     },
     "execution_count": 14,
     "metadata": {},
     "output_type": "execute_result"
    }
   ],
   "source": [
    "model.evaluate([X_test_ids, X_test_mask], y_test)"
   ]
  },
  {
   "cell_type": "markdown",
   "metadata": {},
   "source": [
    "Let's take a quick look at false positives"
   ]
  },
  {
   "cell_type": "code",
   "execution_count": 15,
   "metadata": {},
   "outputs": [
    {
     "name": "stdout",
     "output_type": "stream",
     "text": [
      "10/10 [==============================] - 3s 167ms/step\n",
      "Index: 1, Prediction: [0.9787138], Actual: 1\n",
      "Index: 1, Prediction: [0.9787138], Actual: 1\n",
      "Index: 1, Prediction: [0.9787138], Actual: 1\n",
      "Index: 1, Prediction: [0.9787138], Actual: 1\n",
      "Index: 1, Prediction: [0.9787138], Actual: 1\n",
      "Index: 1, Prediction: [0.9787138], Actual: 1\n",
      "Index: 1, Prediction: [0.9787138], Actual: 1\n",
      "Index: 1, Prediction: [0.9787138], Actual: 1\n",
      "Index: 1, Prediction: [0.9787138], Actual: 1\n",
      "Index: 1, Prediction: [0.9787138], Actual: 1\n"
     ]
    }
   ],
   "source": [
    "predictions = model.predict([X_test_ids, X_test_mask])\n",
    "predicted_labels = (predictions > 0.5).astype('int32')\n",
    "false_positives = np.where((predicted_labels == 1) & (y_test == 0))[0]\n",
    "\n",
    "for index in false_positives[:10]:  # Top 10 false positives\n",
    "    print(f\"Index: {index}, Prediction: {predictions[index]}, Actual: {y_test[index]}\")"
   ]
  },
  {
   "cell_type": "code",
   "execution_count": 16,
   "metadata": {},
   "outputs": [
    {
     "name": "stderr",
     "output_type": "stream",
     "text": [
      "/home/sgzmd/code/FliNet/toy/venv/lib/python3.10/site-packages/keras/src/engine/training.py:3079: UserWarning: You are saving your model as an HDF5 file via `model.save()`. This file format is considered legacy. We recommend using instead the native Keras format, e.g. `model.save('my_model.keras')`.\n",
      "  saving_api.save_model(\n"
     ]
    }
   ],
   "source": [
    "model.save('mode-annotation-genre-author-title.h5')"
   ]
  },
  {
   "cell_type": "code",
   "execution_count": 17,
   "metadata": {},
   "outputs": [],
   "source": [
    "# import tensorflow\n",
    "# from tensorflow.keras.models import load_model\n",
    "# # print(load_model)\n",
    "\n",
    "# model = tensorflow.keras.models.load_model('mode-annotation-genre-author-title.keras')\n"
   ]
  },
  {
   "cell_type": "code",
   "execution_count": 18,
   "metadata": {},
   "outputs": [
    {
     "name": "stdout",
     "output_type": "stream",
     "text": [
      "3588/3588 [==============================] - 1179s 329ms/step\n"
     ]
    }
   ],
   "source": [
    "df_sf = df[(df['IsSelected'] == 0) & df['is_sf']]\n",
    "df_sf = df_sf.dropna(subset=['body'])\n",
    "\n",
    "df_sf['segmented_data'] = df_sf['body'].apply(segment_and_tokenize)\n",
    "df_sf[['tokens', 'attention_mask']] = pd.DataFrame(df_sf['segmented_data'].tolist(), index=df_sf.index)\n",
    "\n",
    "inference_X_ids = np.array(df_sf['tokens'].tolist())\n",
    "inference_X_mask = np.array(df_sf['attention_mask'].tolist())\n",
    "\n",
    "\n",
    "# Make predictions\n",
    "predictions = model.predict([inference_X_ids, inference_X_mask])\n",
    "\n",
    "# Get the top 100 results\n",
    "top_1000_results = df_sf.iloc[predictions.argsort(axis=0)[-1000:].flatten()]\n"
   ]
  },
  {
   "cell_type": "code",
   "execution_count": 19,
   "metadata": {},
   "outputs": [],
   "source": [
    "top_1000_results.to_csv('top_1000_results.csv', index=True)"
   ]
  },
  {
   "cell_type": "code",
   "execution_count": 25,
   "metadata": {},
   "outputs": [
    {
     "data": {
      "text/plain": [
       "611631"
      ]
     },
     "execution_count": 25,
     "metadata": {},
     "output_type": "execute_result"
    }
   ],
   "source": [
    "top_1000_results['FileName'].to_csv('top_1000_small_matched.txt', index=False, header=False)\n",
    "SQL = \"\"\"\n",
    "DROP TABLE IF EXISTS DetectedBooks;\n",
    "\n",
    "CREATE TABLE DetectedBooks (\n",
    "    BookId INT NOT NULL,\n",
    "    FileName VARCHAR(255) NOT NULL,\n",
    "    Annotation VARCHAR(4096) NOT NULL,\n",
    "    BookTitle VARCHAR(1024) NOT NULL,\n",
    "    Authors VARCHAR(1024) NOT NULL,\n",
    "    Genres VARCHAR(1024) NOT NULL\n",
    ");\n",
    "\n",
    "\n",
    "\"\"\"\n",
    "\n",
    "def E(text):\n",
    "    # Escaping single quotes\n",
    "    text = text.replace(\"'\", \"\\\\'\")\n",
    "    # Escaping double quotes\n",
    "    text = text.replace('\"', '\\\\\"')\n",
    "    return text\n",
    "\n",
    "for i, row in top_1000_results.iterrows():\n",
    "  bookId = row['FileName'][:-4]\n",
    "  SQL += \"INSERT INTO DetectedBooks (BookId, FileName, Annotation, BookTitle, Authors, Genres) VALUES \"\n",
    "  SQL += f\"({bookId}, '{row['FileName']}', '{E(row['Annotation'])}', '{E(row['BookTitle'])}', '{E(row['Authors'])}', '{row['Genres']}');\\n\"\n",
    "  # SQL += f\"('{row['FileName']}', '{row['Annotation']}', '{row['BookTitle']}', '{row['Authors']}', '{row['Genres']}'),\\n\"\n",
    "\n",
    "SQL = SQL[:-2] + ';'\n",
    "f = open('detected.sql', 'w')\n",
    "f.write(SQL)"
   ]
  },
  {
   "cell_type": "code",
   "execution_count": 23,
   "metadata": {},
   "outputs": [],
   "source": [
    "import mysql.connector\n",
    "import db_config\n",
    "\n",
    "# Connect to MySQL\n",
    "cnx = mysql.connector.connect(\n",
    "  host=db_config.DB_HOST,\n",
    "  port=db_config.DB_PORT,\n",
    "  user=db_config.DB_USER,\n",
    "  password=db_config.DB_PASSWORD,\n",
    "  database=db_config.DB_DATABASE,\n",
    ")\n",
    "\n",
    "cursor = cnx.cursor()\n",
    "cursor.execute(SQL)"
   ]
  },
  {
   "cell_type": "code",
   "execution_count": 22,
   "metadata": {},
   "outputs": [
    {
     "name": "stdout",
     "output_type": "stream",
     "text": [
      "(681072), (573470), (313367), (198670), (198685), (199110), (199441), (472787), (721868), (624119), (716473), (336805), (639975), (750780), (689614), (713155), (470799), (554794), (371052), (394506), (349894), (413365), (622388), (617930), (617904), (588231), (686438), (667602), (666329), (621462), (428591), (730216), (381147), (471872), (730216), (377248), (483759), (483715), (564882), (565073), (572042), (714165), (68261), (705468), (569841), (747218), (585389), (729532), (704230), (622200), (710885), (261173), (471475), (179922), (500886), (605772), (681292), (441835), (441834), (390658), (390659), (749218), (600021), (145745), (157156), (690636), (657466), (34035), (361221), (316089), (442541), (747530), (654451), (654450), (420364), (526801), (488337), (487920), (543001), (447555), (603333), (535671), (673203), (497251), (497421), (625047), (620687), (585883), (132262), (655094), (543313), (539073), (721644), (604741), (723149), (716834), (609966), (495921), (658843), (669372), (627072), (220586), (729900), (666925), (142806), (585294), (753370), (715915), (733120), (495932), (733120), (727997), (729900), (685323), (652860), (662625), (640139), (260979), (616644), (618777), (705467), (518104), (102773), (710042), (670910), (496408), (399406), (151813), (452091), (675608), (717546), (401442), (80364), (453398), (81581), (453236), (343740), (401683), (155931), (632259), (532399), (633424), (577240), (590360), (282451), (657870), (578939), (423034), (144433), (469578), (75891), (543872), (380623), (179330), (157612), (175989), (387127), (232419), (247868), (530778), (503235), (72817), (72816), (672543), (667563), (559411), (537545), (224693), (234974), (563501), (599372), (661606), (601985), (560335), (617978), (651762), (614732), (606421), (641812), (659035), (227019), (598272), (747221), (611713), (564494), (623009), (679785), (523493), (461878), (301520), (716227), (601441), (601261), (648704), (626358), (749203), (594212), (157503), (530679), (644699), (524052), (599699), (628027), (669836), (199475), (734374), (654462), (216888), (200267), (734374), (332179), (186541), (350258), (539189), (369951), (216925), (671757), (427582), (216886), (370544), (170186), (370032), (216887), (430621), (594419), (184903), (70528), (551319), (631749), (600094), (567946), (729696), (729696), (725220), (412273), (547160), (652239), (289246), (289249), (315241), (372019), (745361), (745955), (518925), (569347), (594790), (584359), (643800), (643848), (643654), (590874), (736041), (222649), (180974), (69237), (731585), (731585), (677085), (568556), (613382), (678792), (444278), (307327), (184072), (729624), (729624), (700774), (672088), (693421), (470118), (693420), (422256), (714033), (659963), (653623), (667423), (576363), (664246), (336910), (195233), (217265), (571852), (528161), (121534), (654996), (523157), (523159), (575928), (470854), (653958), (162603), (640350), (639090), (668556), (229633), (421300), (561917), (659933), (532142), (470893), (742351), (563291), (664491), (98979), (385804), (385806), (288173), (518138), (385805), (682664), (685945), (682227), (530705), (460839), (468282), (748725), (387443), (533430), (141212), (580796), (698900), (596789), (596787), (172263), (692041), (680442), (680776), (594025), (79651), (489787), (377243), (625929), (726117), (670945), (529831), (383862), (723029), (78752), (532020), (496068), (467989), (547474), (568555), (408424), (572665), (628036), (548359), (547741), (597052), (517007), (641336), (725796), (642358), (532341), (9882), (108449), (539424), (637982), (649591), (472142), (99072), (659663), (654885), (644961), (644840), (743567), (404373), (233453), (200479), (200088), (200605), (221498), (236823), (216995), (219800), (227197), (216626), (220817), (217400), (352519), (621083), (548762), (548159), (586893), (586891), (510710), (450396), (619931), (286790), (115660), (15189), (264785), (722969), (657329), (657330), (14299), (683483), (751994), (598777), (746308), (706348), (526301), (542140), (652808), (584155), (561861), (555516), (558676), (314398), (692826), (683840), (599678), (476727), (454105), (441767), (458128), (731654), (731654), (700850), (751550), (511103), (506153), (684113), (389212), (389374), (740832), (336305), (518410), (502990), (742107), (503212), (415205), (503173), (567852), (746002), (710162), (569628), (444280), (570705), (442665), (686763), (577594), (338160), (625359), (657850), (345228), (367403), (634186), (261172), (551962), (253981), (449691), (731747), (731747), (448431), (448421), (698639), (667735), (578502), (601930), (592953), (735967), (593993), (525900), (733107), (733107), (329464), (710337), (726464), (570595), (692827), (692895), (132237), (603492), (8470), (747139), (601010), (522331), (547821), (511633), (559366), (522329), (555955), (111357), (498848), (685129), (442702), (502854), (147298), (477556), (624661), (624526), (218173), (384070), (251376), (523663), (706029), (712621), (622815), (603327), (601605), (421130), (543361), (603328), (621876), (659669), (642737), (749420), (738651), (611102), (575929), (640384), (615533), (639198), (193186), (593420), (354068), (353252), (424632), (620628), (678767), (678252), (752025), (752026), (591314), (519167), (565792), (593057), (516399), (265459), (479112), (606091), (519781), (748292), (596156), (112365), (401082), (640397), (641002), (638629), (591425), (156221), (180221), (121036), (724601), (223394), (223046), (487180), (313470), (339744), (142143), (670216), (610553), (611004), (129243), (692806), (412870), (726594), (745695), (663330), (602541), (658800), (590386), (612533), (616468), (616469), (506459), (663891), (465886), (663640), (315507), (328105), (182640), (160318), (118102), (449693), (734697), (692038), (700060), (92309), (108643), (287145), (533559), (581029), (722323), (686995), (627760), (363953), (160328), (316505), (235807), (680557), (625086), (732006), (320073), (656258), (563597), (652250), (595295), (533921), (687089), (401372), (663190), (517438), (740291), (491409), (734697), (442052), (719252), (501952), (562442), (379387), (77831), (427778), (732261), (348073), (68280), (68281), (507264), (548697), (182774), (732006), (667601), (637610), (635988), (357388), (667190), (312876), (534576), (411323), (651978), (199307), (410940), (715888), (463597), (269433), (534311), (601688), (77649), (326389), (469467), (562352), (565707), (282042), (454791), (732261), (252866), (335542), (314360), (435606), (410697), (553569), (583727), (746930), (624975), (485062), (177627), (645929), (645871), (368077), (367814), (379107), (367657), (595228), (570630), (600203), (591607), (591581), (591582), (506405), (547607), (636906), (732985), (553646), (732985), (520592), (750678), (416287), (649473), (673091), (590513), (590539), (659482), (646727), (746130), (712858), (391121), (747283), (679910), (640282), (642330), (574549), (550554), (550598), (409899), (678304), (190767), (231247), (232559), (242399), (232402), (732970), (732970), (650303), (302409), (680691), (379171), (741576), (565762), (723137), (503108), (704789), (99407), (622998), (464806), (506388), (510343), (278753), (271772), (624013), (594729), (432891), (463193), (752250), (253293), (446044), (461801), (368213), (730322), (730322), (704523), (376218), (660827), (422448), (312193), (561903), (704312), (508376), (409130), (392593), (521560), (563834), (497676), (700848), (661645), (469372), (372010), (676888), (653985), (549596), (633610), (556339), (653976), (387641), (667244), (624451), (667243), (311724), (671796), (503754), (479727), (492663), (669371), (667469), (541321), (687039), (493665), (518339), (560168), (749292), (749294), (401856), (718662), (463610), (496520), (277133), (533401), (94189), (692822), (634456), (658187), (94882), (507178), (294577), (192725), (91804), (356154), (613508), (382770), (34201), (513043), (202753), (672241), (599389), (623139), (656072), (599431), (377584), (328099), (598994), (531386), (687607), (559135), (612632), (619565), (662059), (507185), (608699), (103536), (487148), (356704), (607109), (630989), (533581), (318142), (670671), (108633), (156192), (570701), (541554), (254437), (252135), (267063), (255273), (447725), (533025), (641993), (687010), (512599), (589629), (549280), (742940), (539203), (328098), (300733), (301164), (642328), (302408), (377583), (599014), (547750), (536566), (446381), (610484), (596145), (290113), (455934), (386742), (89714), (706286), (616186), (493993), (308743), (290735), (67909), (92866), (716419), (129628), (311158), (303383), (605303), (603173), (610235), (605604), (610238), (638734), (178069), (160917), (162242), (109812), (692809), (725555), (744823), (741378), (347073), (328607), (182032), (408823), (409092), (409172), (698858), (506602), (381080), (368500), (598390), (477597), (675606), (242776), (691877), (628029), (600909), (489957), (492638), (666894), (659662), (659479), (749990), (520822), (521960), (601220), (564210), (631231), (555489), (529819), (751905), (660585), (570704), (600084), (460900), (460910), (590185), (557476), (551369), (554960), (358014), (345791), (535503), (234616), (533836), (567566), (709254), (508092), (463942), (463927), (714589), (741622), (679853), (716566), (655023), (659984), (650410), (661913), (746195), (561368), (657208), (685975), (686780), (602342), (605656), (243998), (733286), (733286), (418725), (647054), (442939), (668949), (652507), (710283), (678551), (596989), (652900), (666546), (607704), (723983), (419824), (517197), (470702), (657951), (524298), (715559), (531923), (721522), (553851), (683909), (507739), (68787), (583935), (747181), (660788), (227082), (577168), (724245), (467790), (632653), (364365), (531499), (742678), (568671), (577785), (593184), (551420), (524969), (607622), (723043), (674555), (524970), (567050), (708429), (705747), (712378), (477387), (477292), (589763), (659989), (660984), (561873), (426365), (164651), (748634), (524522)\n"
     ]
    }
   ],
   "source": [
    "file_names = top_1000_results['FileName'].tolist()\n",
    "file_names = [file_name[:-4] for file_name in file_names]\n",
    "insert_values = ', '.join([\"(\" + fn + \")\" for fn in file_names])\n",
    "print(insert_values)"
   ]
  }
 ],
 "metadata": {
  "kernelspec": {
   "display_name": "Python 3 (ipykernel)",
   "language": "python",
   "name": "python3"
  },
  "language_info": {
   "codemirror_mode": {
    "name": "ipython",
    "version": 3
   },
   "file_extension": ".py",
   "mimetype": "text/x-python",
   "name": "python",
   "nbconvert_exporter": "python",
   "pygments_lexer": "ipython3",
   "version": "3.10.12"
  }
 },
 "nbformat": 4,
 "nbformat_minor": 4
}
