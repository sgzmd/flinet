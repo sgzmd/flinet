{
 "cells": [
  {
   "cell_type": "markdown",
   "metadata": {},
   "source": [
    "Importing the stuff we need"
   ]
  },
  {
   "cell_type": "code",
   "execution_count": 1,
   "metadata": {},
   "outputs": [
    {
     "name": "stderr",
     "output_type": "stream",
     "text": [
      "2023-11-27 15:48:06.366647: E tensorflow/compiler/xla/stream_executor/cuda/cuda_dnn.cc:9342] Unable to register cuDNN factory: Attempting to register factory for plugin cuDNN when one has already been registered\n",
      "2023-11-27 15:48:06.366692: E tensorflow/compiler/xla/stream_executor/cuda/cuda_fft.cc:609] Unable to register cuFFT factory: Attempting to register factory for plugin cuFFT when one has already been registered\n",
      "2023-11-27 15:48:06.366707: E tensorflow/compiler/xla/stream_executor/cuda/cuda_blas.cc:1518] Unable to register cuBLAS factory: Attempting to register factory for plugin cuBLAS when one has already been registered\n",
      "2023-11-27 15:48:06.371278: I tensorflow/core/platform/cpu_feature_guard.cc:182] This TensorFlow binary is optimized to use available CPU instructions in performance-critical operations.\n",
      "To enable the following instructions: AVX2 FMA, in other operations, rebuild TensorFlow with the appropriate compiler flags.\n"
     ]
    }
   ],
   "source": [
    "import pandas as pd\n",
    "import numpy as np\n",
    "import tensorflow as tf\n",
    "from transformers import AutoTokenizer, TFAutoModel\n",
    "from tensorflow.keras.layers import Input, Dense, GlobalMaxPool1D\n",
    "from tensorflow.keras.models import Model\n",
    "from tensorflow.keras.optimizers import Adam\n",
    "from sklearn.model_selection import train_test_split\n",
    "import nltk"
   ]
  },
  {
   "cell_type": "code",
   "execution_count": 2,
   "metadata": {},
   "outputs": [
    {
     "name": "stderr",
     "output_type": "stream",
     "text": [
      "[nltk_data] Downloading package punkt to /home/sgzmd/nltk_data...\n",
      "[nltk_data]   Package punkt is already up-to-date!\n"
     ]
    }
   ],
   "source": [
    "nltk.download('punkt')\n",
    "from nltk.tokenize import sent_tokenize"
   ]
  },
  {
   "cell_type": "markdown",
   "metadata": {},
   "source": [
    "Defining some constants"
   ]
  },
  {
   "cell_type": "code",
   "execution_count": 3,
   "metadata": {},
   "outputs": [],
   "source": [
    "# Constants\n",
    "MODEL_NAME = 'DeepPavlov/rubert-base-cased'\n",
    "MAX_TOKENS = 128"
   ]
  },
  {
   "cell_type": "markdown",
   "metadata": {},
   "source": [
    "Let's read and pre-process the data"
   ]
  },
  {
   "cell_type": "code",
   "execution_count": 4,
   "metadata": {},
   "outputs": [
    {
     "data": {
      "text/html": [
       "<div>\n",
       "<style scoped>\n",
       "    .dataframe tbody tr th:only-of-type {\n",
       "        vertical-align: middle;\n",
       "    }\n",
       "\n",
       "    .dataframe tbody tr th {\n",
       "        vertical-align: top;\n",
       "    }\n",
       "\n",
       "    .dataframe thead th {\n",
       "        text-align: right;\n",
       "    }\n",
       "</style>\n",
       "<table border=\"1\" class=\"dataframe\">\n",
       "  <thead>\n",
       "    <tr style=\"text-align: right;\">\n",
       "      <th></th>\n",
       "      <th>body</th>\n",
       "      <th>genre</th>\n",
       "      <th>selected</th>\n",
       "      <th>file_name</th>\n",
       "      <th>is_sf</th>\n",
       "    </tr>\n",
       "  </thead>\n",
       "  <tbody>\n",
       "    <tr>\n",
       "      <th>0</th>\n",
       "      <td>была неизбежно наступить ночь – черная, безна...</td>\n",
       "      <td>sf</td>\n",
       "      <td>0</td>\n",
       "      <td>110526.fb2</td>\n",
       "      <td>True</td>\n",
       "    </tr>\n",
       "    <tr>\n",
       "      <th>1</th>\n",
       "      <td>беседой Штирлица и Мюллера и на мой вопрос ко...</td>\n",
       "      <td>sf</td>\n",
       "      <td>0</td>\n",
       "      <td>110523.fb2</td>\n",
       "      <td>True</td>\n",
       "    </tr>\n",
       "    <tr>\n",
       "      <th>2</th>\n",
       "      <td>повалившийся на песок, мгновенно вскочил, при...</td>\n",
       "      <td>sf</td>\n",
       "      <td>0</td>\n",
       "      <td>110524.fb2</td>\n",
       "      <td>True</td>\n",
       "    </tr>\n",
       "    <tr>\n",
       "      <th>3</th>\n",
       "      <td>На полу валялись скорченные окурки папирос, в...</td>\n",
       "      <td>sf_fantasy</td>\n",
       "      <td>0</td>\n",
       "      <td>110525.fb2</td>\n",
       "      <td>True</td>\n",
       "    </tr>\n",
       "    <tr>\n",
       "      <th>4</th>\n",
       "      <td>орда подростков, от грохота дребезжали стекла...</td>\n",
       "      <td>sf</td>\n",
       "      <td>0</td>\n",
       "      <td>110519.fb2</td>\n",
       "      <td>True</td>\n",
       "    </tr>\n",
       "  </tbody>\n",
       "</table>\n",
       "</div>"
      ],
      "text/plain": [
       "                                                body       genre  selected  \\\n",
       "0   была неизбежно наступить ночь – черная, безна...          sf         0   \n",
       "1   беседой Штирлица и Мюллера и на мой вопрос ко...          sf         0   \n",
       "2   повалившийся на песок, мгновенно вскочил, при...          sf         0   \n",
       "3   На полу валялись скорченные окурки папирос, в...  sf_fantasy         0   \n",
       "4   орда подростков, от грохота дребезжали стекла...          sf         0   \n",
       "\n",
       "    file_name  is_sf  \n",
       "0  110526.fb2   True  \n",
       "1  110523.fb2   True  \n",
       "2  110524.fb2   True  \n",
       "3  110525.fb2   True  \n",
       "4  110519.fb2   True  "
      ]
     },
     "execution_count": 4,
     "metadata": {},
     "output_type": "execute_result"
    }
   ],
   "source": [
    "df = pd.read_csv(\"../full-flibusta-filenames.csv\")  # Load the CSV file into a pandas DataFrame\n",
    "\n",
    "# drop all non-string records, unclear where they are coming from\n",
    "df = df[df.apply(lambda row: isinstance(row['body'], str) and isinstance(row['genre'], str), axis=1)]\n",
    "\n",
    "def is_sf_genre(genre: str) -> bool:\n",
    "    return genre.startswith('sf') or genre == 'popadanec' or genre == 'litrpg'\n",
    "\n",
    "# define is_sf label\n",
    "df['is_sf'] = df['genre'].apply(lambda genres: any(is_sf_genre(genre) for genre in genres.split(',')))\n",
    "df.head()"
   ]
  },
  {
   "cell_type": "code",
   "execution_count": 5,
   "metadata": {},
   "outputs": [
    {
     "data": {
      "text/html": [
       "<div>\n",
       "<style scoped>\n",
       "    .dataframe tbody tr th:only-of-type {\n",
       "        vertical-align: middle;\n",
       "    }\n",
       "\n",
       "    .dataframe tbody tr th {\n",
       "        vertical-align: top;\n",
       "    }\n",
       "\n",
       "    .dataframe thead th {\n",
       "        text-align: right;\n",
       "    }\n",
       "</style>\n",
       "<table border=\"1\" class=\"dataframe\">\n",
       "  <thead>\n",
       "    <tr style=\"text-align: right;\">\n",
       "      <th></th>\n",
       "      <th>body</th>\n",
       "      <th>genre</th>\n",
       "      <th>selected</th>\n",
       "      <th>file_name</th>\n",
       "      <th>is_sf</th>\n",
       "    </tr>\n",
       "  </thead>\n",
       "  <tbody>\n",
       "    <tr>\n",
       "      <th>977</th>\n",
       "      <td>них можно было складывать слава, а из слов - ...</td>\n",
       "      <td>other</td>\n",
       "      <td>0</td>\n",
       "      <td>47130.fb2</td>\n",
       "      <td>False</td>\n",
       "    </tr>\n",
       "    <tr>\n",
       "      <th>740</th>\n",
       "      <td>\\n    Селма вышла замуж молоденькой девушкой и...</td>\n",
       "      <td>love_short</td>\n",
       "      <td>0</td>\n",
       "      <td>266563.fb2</td>\n",
       "      <td>False</td>\n",
       "    </tr>\n",
       "    <tr>\n",
       "      <th>1363</th>\n",
       "      <td>\\n    Очередная зона и очередной сталкер. Нект...</td>\n",
       "      <td>sf</td>\n",
       "      <td>0</td>\n",
       "      <td>470689.fb2</td>\n",
       "      <td>True</td>\n",
       "    </tr>\n",
       "    <tr>\n",
       "      <th>1005</th>\n",
       "      <td>спецэффектов. Просто шагнул через порог и уже...</td>\n",
       "      <td>antique</td>\n",
       "      <td>0</td>\n",
       "      <td>399046.fb2</td>\n",
       "      <td>False</td>\n",
       "    </tr>\n",
       "    <tr>\n",
       "      <th>1011</th>\n",
       "      <td>\\n    Студенты Магической Академии Веории мечт...</td>\n",
       "      <td>other</td>\n",
       "      <td>0</td>\n",
       "      <td>734332.fb2</td>\n",
       "      <td>False</td>\n",
       "    </tr>\n",
       "    <tr>\n",
       "      <th>710</th>\n",
       "      <td>\\n    Их фамилия Рождественские. Их семья обра...</td>\n",
       "      <td>love_contemporary</td>\n",
       "      <td>0</td>\n",
       "      <td>709638.fb2</td>\n",
       "      <td>False</td>\n",
       "    </tr>\n",
       "    <tr>\n",
       "      <th>949</th>\n",
       "      <td>Латю. Было около десяти часов утра, пригревал...</td>\n",
       "      <td>det_classic</td>\n",
       "      <td>0</td>\n",
       "      <td>51907.fb2</td>\n",
       "      <td>False</td>\n",
       "    </tr>\n",
       "    <tr>\n",
       "      <th>1371</th>\n",
       "      <td>Упорядоченное гибнет. Хаос рвёт его на части, ...</td>\n",
       "      <td>fantasy_fight,sf_heroic</td>\n",
       "      <td>0</td>\n",
       "      <td>579429.fb2</td>\n",
       "      <td>True</td>\n",
       "    </tr>\n",
       "    <tr>\n",
       "      <th>72</th>\n",
       "      <td>\\n    Вся наша жизнь крутится вокруг женщин. т...</td>\n",
       "      <td>sf_fantasy</td>\n",
       "      <td>1</td>\n",
       "      <td>415531.fb2</td>\n",
       "      <td>True</td>\n",
       "    </tr>\n",
       "    <tr>\n",
       "      <th>578</th>\n",
       "      <td>\\n    Свершилось! Первый рандомный перенос про...</td>\n",
       "      <td>sf_litrpg,sf_postapocalyptic,sf_action,network...</td>\n",
       "      <td>1</td>\n",
       "      <td>731526.fb2</td>\n",
       "      <td>True</td>\n",
       "    </tr>\n",
       "  </tbody>\n",
       "</table>\n",
       "</div>"
      ],
      "text/plain": [
       "                                                   body  \\\n",
       "977    них можно было складывать слава, а из слов - ...   \n",
       "740   \\n    Селма вышла замуж молоденькой девушкой и...   \n",
       "1363  \\n    Очередная зона и очередной сталкер. Нект...   \n",
       "1005   спецэффектов. Просто шагнул через порог и уже...   \n",
       "1011  \\n    Студенты Магической Академии Веории мечт...   \n",
       "710   \\n    Их фамилия Рождественские. Их семья обра...   \n",
       "949    Латю. Было около десяти часов утра, пригревал...   \n",
       "1371  Упорядоченное гибнет. Хаос рвёт его на части, ...   \n",
       "72    \\n    Вся наша жизнь крутится вокруг женщин. т...   \n",
       "578   \\n    Свершилось! Первый рандомный перенос про...   \n",
       "\n",
       "                                                  genre  selected   file_name  \\\n",
       "977                                               other         0   47130.fb2   \n",
       "740                                          love_short         0  266563.fb2   \n",
       "1363                                                 sf         0  470689.fb2   \n",
       "1005                                            antique         0  399046.fb2   \n",
       "1011                                              other         0  734332.fb2   \n",
       "710                                   love_contemporary         0  709638.fb2   \n",
       "949                                         det_classic         0   51907.fb2   \n",
       "1371                            fantasy_fight,sf_heroic         0  579429.fb2   \n",
       "72                                           sf_fantasy         1  415531.fb2   \n",
       "578   sf_litrpg,sf_postapocalyptic,sf_action,network...         1  731526.fb2   \n",
       "\n",
       "      is_sf  \n",
       "977   False  \n",
       "740   False  \n",
       "1363   True  \n",
       "1005  False  \n",
       "1011  False  \n",
       "710   False  \n",
       "949   False  \n",
       "1371   True  \n",
       "72     True  \n",
       "578    True  "
      ]
     },
     "execution_count": 5,
     "metadata": {},
     "output_type": "execute_result"
    }
   ],
   "source": [
    "# Filter the dataframe based on the conditions\n",
    "df_selected_1 = df[(df['selected'] == 1)]\n",
    "df_selected_0 = df[(df['selected'] == 0) & (~df['is_sf'])]\n",
    "\n",
    "# -1 are manually selected negative samples\n",
    "df_selected_neg = df[(df['selected'] == -1)]\n",
    "\n",
    "# Sample the same number of records where selected = 0\n",
    "df_selected_0_sampled = df_selected_0.sample(n=len(df_selected_1), random_state=42)\n",
    "\n",
    "negative_samples = pd.concat([df_selected_0_sampled, df_selected_neg])\n",
    "\n",
    "# Set 'selected' to 0 for all negative_samples\n",
    "negative_samples['selected'] = 0\n",
    "\n",
    "# Concatenate the two dataframes\n",
    "new_df = pd.concat([df_selected_1, negative_samples])\n",
    "\n",
    "# Reset the index of the new dataframe\n",
    "new_df.reset_index(drop=True, inplace=True)\n",
    "\n",
    "# Print the new dataframe\n",
    "new_df.sample(10)\n"
   ]
  },
  {
   "cell_type": "markdown",
   "metadata": {},
   "source": [
    "Defining tokenizer and some helper methods"
   ]
  },
  {
   "cell_type": "code",
   "execution_count": 6,
   "metadata": {},
   "outputs": [],
   "source": [
    "# Tokenizer\n",
    "tokenizer = AutoTokenizer.from_pretrained(MODEL_NAME)\n",
    "\n",
    "# Function to segment and tokenize text\n",
    "def segment_and_tokenize(text):\n",
    "    # Split text into sentences\n",
    "    sentences = sent_tokenize(text, language='russian')\n",
    "    tokenized_output = []\n",
    "    attention_mask_output = []\n",
    "\n",
    "    for sentence in sentences:\n",
    "        # Tokenize each sentence\n",
    "        tokens = tokenizer.encode_plus(sentence, add_special_tokens=True, max_length=MAX_TOKENS, \n",
    "                                       truncation=True, padding='max_length', return_tensors='tf')\n",
    "        tokenized_output.append(tokens['input_ids'])\n",
    "        attention_mask_output.append(tokens['attention_mask'])\n",
    "\n",
    "        # Check if we've reached the maximum number of tokens\n",
    "        if sum([len(t[0]) for t in tokenized_output]) >= MAX_TOKENS:\n",
    "            break\n",
    "\n",
    "    # Combine tokenized sentences up to the maximum length\n",
    "    input_ids = tf.concat(tokenized_output, axis=1)[0,:MAX_TOKENS]\n",
    "    attention_mask = tf.concat(attention_mask_output, axis=1)[0,:MAX_TOKENS]\n",
    "\n",
    "    return input_ids, attention_mask"
   ]
  },
  {
   "cell_type": "markdown",
   "metadata": {},
   "source": [
    "Let's run the tokenization and segmentation of the data"
   ]
  },
  {
   "cell_type": "code",
   "execution_count": 7,
   "metadata": {},
   "outputs": [
    {
     "name": "stderr",
     "output_type": "stream",
     "text": [
      "2023-11-27 15:49:46.638932: I tensorflow/compiler/xla/stream_executor/cuda/cuda_gpu_executor.cc:880] could not open file to read NUMA node: /sys/bus/pci/devices/0000:26:00.0/numa_node\n",
      "Your kernel may have been built without NUMA support.\n",
      "2023-11-27 15:49:46.644392: I tensorflow/compiler/xla/stream_executor/cuda/cuda_gpu_executor.cc:880] could not open file to read NUMA node: /sys/bus/pci/devices/0000:26:00.0/numa_node\n",
      "Your kernel may have been built without NUMA support.\n",
      "2023-11-27 15:49:46.644420: I tensorflow/compiler/xla/stream_executor/cuda/cuda_gpu_executor.cc:880] could not open file to read NUMA node: /sys/bus/pci/devices/0000:26:00.0/numa_node\n",
      "Your kernel may have been built without NUMA support.\n",
      "2023-11-27 15:49:46.645683: I tensorflow/compiler/xla/stream_executor/cuda/cuda_gpu_executor.cc:880] could not open file to read NUMA node: /sys/bus/pci/devices/0000:26:00.0/numa_node\n",
      "Your kernel may have been built without NUMA support.\n",
      "2023-11-27 15:49:46.645713: I tensorflow/compiler/xla/stream_executor/cuda/cuda_gpu_executor.cc:880] could not open file to read NUMA node: /sys/bus/pci/devices/0000:26:00.0/numa_node\n",
      "Your kernel may have been built without NUMA support.\n",
      "2023-11-27 15:49:46.645732: I tensorflow/compiler/xla/stream_executor/cuda/cuda_gpu_executor.cc:880] could not open file to read NUMA node: /sys/bus/pci/devices/0000:26:00.0/numa_node\n",
      "Your kernel may have been built without NUMA support.\n",
      "2023-11-27 15:49:47.178378: I tensorflow/compiler/xla/stream_executor/cuda/cuda_gpu_executor.cc:880] could not open file to read NUMA node: /sys/bus/pci/devices/0000:26:00.0/numa_node\n",
      "Your kernel may have been built without NUMA support.\n",
      "2023-11-27 15:49:47.178418: I tensorflow/compiler/xla/stream_executor/cuda/cuda_gpu_executor.cc:880] could not open file to read NUMA node: /sys/bus/pci/devices/0000:26:00.0/numa_node\n",
      "Your kernel may have been built without NUMA support.\n",
      "2023-11-27 15:49:47.178424: I tensorflow/core/common_runtime/gpu/gpu_device.cc:1977] Could not identify NUMA node of platform GPU id 0, defaulting to 0.  Your kernel may not have been built with NUMA support.\n",
      "2023-11-27 15:49:47.178452: I tensorflow/compiler/xla/stream_executor/cuda/cuda_gpu_executor.cc:880] could not open file to read NUMA node: /sys/bus/pci/devices/0000:26:00.0/numa_node\n",
      "Your kernel may have been built without NUMA support.\n",
      "2023-11-27 15:49:47.178469: I tensorflow/core/common_runtime/gpu/gpu_device.cc:1886] Created device /job:localhost/replica:0/task:0/device:GPU:0 with 5925 MB memory:  -> device: 0, name: NVIDIA GeForce RTX 2070, pci bus id: 0000:26:00.0, compute capability: 7.5\n"
     ]
    }
   ],
   "source": [
    "# Apply the function to the dataset\n",
    "new_df['segmented_data'] = new_df['body'].apply(segment_and_tokenize)\n",
    "new_df[['tokens', 'attention_mask']] = pd.DataFrame(new_df['segmented_data'].tolist(), index=new_df.index)"
   ]
  },
  {
   "cell_type": "markdown",
   "metadata": {},
   "source": [
    "Now let's prepare and split the dataset"
   ]
  },
  {
   "cell_type": "code",
   "execution_count": 8,
   "metadata": {},
   "outputs": [],
   "source": [
    "# Prepare dataset\n",
    "X_ids = np.array(new_df['tokens'].tolist())\n",
    "X_mask = np.array(new_df['attention_mask'].tolist())\n",
    "\n",
    "y = new_df['is_sf'].values\n",
    "X_train_ids, X_test_ids, X_train_mask, X_test_mask, y_train, y_test = train_test_split(X_ids, X_mask, y, test_size=0.2)\n"
   ]
  },
  {
   "cell_type": "markdown",
   "metadata": {},
   "source": [
    "Let's load the model now and define how we are fine-tuning it"
   ]
  },
  {
   "cell_type": "code",
   "execution_count": 9,
   "metadata": {},
   "outputs": [
    {
     "name": "stderr",
     "output_type": "stream",
     "text": [
      "2023-11-27 15:49:55.448267: I tensorflow/tsl/platform/default/subprocess.cc:304] Start cannot spawn child process: No such file or directory\n",
      "Some weights of the PyTorch model were not used when initializing the TF 2.0 model TFBertModel: ['cls.predictions.bias', 'cls.predictions.transform.LayerNorm.bias', 'bert.embeddings.position_ids', 'cls.predictions.transform.LayerNorm.weight', 'cls.predictions.transform.dense.weight', 'cls.predictions.transform.dense.bias', 'cls.predictions.decoder.bias', 'cls.seq_relationship.weight', 'cls.predictions.decoder.weight', 'cls.seq_relationship.bias']\n",
      "- This IS expected if you are initializing TFBertModel from a PyTorch model trained on another task or with another architecture (e.g. initializing a TFBertForSequenceClassification model from a BertForPreTraining model).\n",
      "- This IS NOT expected if you are initializing TFBertModel from a PyTorch model that you expect to be exactly identical (e.g. initializing a TFBertForSequenceClassification model from a BertForSequenceClassification model).\n",
      "All the weights of TFBertModel were initialized from the PyTorch model.\n",
      "If your task is similar to the task the model of the checkpoint was trained on, you can already use TFBertModel for predictions without further training.\n"
     ]
    }
   ],
   "source": [
    "bert = TFAutoModel.from_pretrained(MODEL_NAME, from_pt=True)\n",
    "input_ids = Input(shape=(MAX_TOKENS,), dtype=tf.int32, name='input_ids')\n",
    "input_mask = Input(shape=(MAX_TOKENS,), dtype=tf.int32, name='attention_mask')\n",
    "\n",
    "embeddings = bert(input_ids, attention_mask=input_mask)[0]\n",
    "pooled = GlobalMaxPool1D()(embeddings)\n",
    "output = Dense(1, activation='sigmoid')(pooled)\n",
    "\n",
    "model = Model(inputs=[input_ids, input_mask], outputs=output)"
   ]
  },
  {
   "cell_type": "code",
   "execution_count": 10,
   "metadata": {},
   "outputs": [],
   "source": [
    "model.compile(optimizer=Adam(learning_rate=5e-5), loss='binary_crossentropy', metrics=['accuracy'])"
   ]
  },
  {
   "cell_type": "code",
   "execution_count": 11,
   "metadata": {},
   "outputs": [
    {
     "name": "stdout",
     "output_type": "stream",
     "text": [
      "Epoch 1/8\n",
      "WARNING:tensorflow:Gradients do not exist for variables ['tf_bert_model/bert/pooler/dense/kernel:0', 'tf_bert_model/bert/pooler/dense/bias:0'] when minimizing the loss. If you're using `model.compile()`, did you forget to provide a `loss` argument?\n",
      "WARNING:tensorflow:Gradients do not exist for variables ['tf_bert_model/bert/pooler/dense/kernel:0', 'tf_bert_model/bert/pooler/dense/bias:0'] when minimizing the loss. If you're using `model.compile()`, did you forget to provide a `loss` argument?\n",
      "WARNING:tensorflow:Gradients do not exist for variables ['tf_bert_model/bert/pooler/dense/kernel:0', 'tf_bert_model/bert/pooler/dense/bias:0'] when minimizing the loss. If you're using `model.compile()`, did you forget to provide a `loss` argument?\n",
      "WARNING:tensorflow:Gradients do not exist for variables ['tf_bert_model/bert/pooler/dense/kernel:0', 'tf_bert_model/bert/pooler/dense/bias:0'] when minimizing the loss. If you're using `model.compile()`, did you forget to provide a `loss` argument?\n"
     ]
    },
    {
     "name": "stderr",
     "output_type": "stream",
     "text": [
      "2023-11-27 15:50:09.849241: I tensorflow/compiler/xla/service/service.cc:168] XLA service 0x7f40f4319ba0 initialized for platform CUDA (this does not guarantee that XLA will be used). Devices:\n",
      "2023-11-27 15:50:09.849268: I tensorflow/compiler/xla/service/service.cc:176]   StreamExecutor device (0): NVIDIA GeForce RTX 2070, Compute Capability 7.5\n",
      "2023-11-27 15:50:09.852335: I tensorflow/compiler/mlir/tensorflow/utils/dump_mlir_util.cc:269] disabling MLIR crash reproducer, set env var `MLIR_CRASH_REPRODUCER_DIRECTORY` to enable.\n",
      "2023-11-27 15:50:09.957225: I tensorflow/compiler/xla/stream_executor/cuda/cuda_dnn.cc:442] Loaded cuDNN version 8700\n",
      "2023-11-27 15:50:09.995438: I ./tensorflow/compiler/jit/device_compiler.h:186] Compiled cluster using XLA!  This line is logged at most once for the lifetime of the process.\n"
     ]
    },
    {
     "name": "stdout",
     "output_type": "stream",
     "text": [
      "56/56 [==============================] - 36s 331ms/step - loss: 0.5319 - accuracy: 0.7266 - val_loss: 0.3926 - val_accuracy: 0.7902\n",
      "Epoch 2/8\n",
      "56/56 [==============================] - 18s 316ms/step - loss: 0.2440 - accuracy: 0.8984 - val_loss: 0.3299 - val_accuracy: 0.8527\n",
      "Epoch 3/8\n",
      "56/56 [==============================] - 18s 314ms/step - loss: 0.0644 - accuracy: 0.9821 - val_loss: 0.3972 - val_accuracy: 0.8348\n",
      "Epoch 4/8\n",
      "56/56 [==============================] - 18s 314ms/step - loss: 0.0332 - accuracy: 0.9911 - val_loss: 0.5907 - val_accuracy: 0.8036\n",
      "Epoch 5/8\n",
      "56/56 [==============================] - 18s 315ms/step - loss: 0.0382 - accuracy: 0.9844 - val_loss: 0.4162 - val_accuracy: 0.8482\n",
      "Epoch 6/8\n",
      "56/56 [==============================] - 18s 316ms/step - loss: 0.0120 - accuracy: 0.9967 - val_loss: 0.4509 - val_accuracy: 0.8527\n",
      "Epoch 7/8\n",
      "56/56 [==============================] - 18s 314ms/step - loss: 0.0217 - accuracy: 0.9944 - val_loss: 0.4854 - val_accuracy: 0.8438\n",
      "Epoch 8/8\n",
      "56/56 [==============================] - 18s 316ms/step - loss: 0.0105 - accuracy: 0.9967 - val_loss: 0.4283 - val_accuracy: 0.8661\n"
     ]
    }
   ],
   "source": [
    "\n",
    "history = model.fit([X_train_ids, X_train_mask], y_train, batch_size=16, epochs=8, validation_split=0.2)"
   ]
  },
  {
   "cell_type": "code",
   "execution_count": 12,
   "metadata": {},
   "outputs": [
    {
     "data": {
      "image/png": "[encoded data removed]",
      "text/plain": [
       "<Figure size 640x480 with 1 Axes>"
      ]
     },
     "metadata": {},
     "output_type": "display_data"
    },
    {
     "data": {
      "image/png": "[encoded data removed]",
      "text/plain": [
       "<Figure size 640x480 with 1 Axes>"
      ]
     },
     "metadata": {},
     "output_type": "display_data"
    }
   ],
   "source": [
    "import matplotlib.pyplot as plt\n",
    "\n",
    "# 'history' is the object returned by the model.fit() method in TensorFlow\n",
    "\n",
    "# Summarize history for accuracy\n",
    "plt.plot(history.history['accuracy'])\n",
    "plt.plot(history.history['val_accuracy'])\n",
    "plt.title('Model Accuracy')\n",
    "plt.ylabel('Accuracy')\n",
    "plt.xlabel('Epoch')\n",
    "plt.legend(['Train', 'Validation'], loc='upper left')\n",
    "plt.show()\n",
    "\n",
    "# Summarize history for loss\n",
    "plt.plot(history.history['loss'])\n",
    "plt.plot(history.history['val_loss'])\n",
    "plt.title('Model Loss')\n",
    "plt.ylabel('Loss')\n",
    "plt.xlabel('Epoch')\n",
    "plt.legend(['Train', 'Validation'], loc='upper left')\n",
    "plt.show()"
   ]
  },
  {
   "cell_type": "code",
   "execution_count": 13,
   "metadata": {},
   "outputs": [
    {
     "name": "stdout",
     "output_type": "stream",
     "text": [
      "9/9 [==============================] - 3s 198ms/step - loss: 0.6283 - accuracy: 0.8541\n"
     ]
    },
    {
     "data": {
      "text/plain": [
       "[0.6283496022224426, 0.854092538356781]"
      ]
     },
     "execution_count": 13,
     "metadata": {},
     "output_type": "execute_result"
    }
   ],
   "source": [
    "model.evaluate([X_test_ids, X_test_mask], y_test)"
   ]
  },
  {
   "cell_type": "code",
   "execution_count": 14,
   "metadata": {},
   "outputs": [
    {
     "name": "stderr",
     "output_type": "stream",
     "text": [
      "/home/sgzmd/code/FliNet/toy/venv/lib/python3.10/site-packages/transformers/generation/tf_utils.py:465: UserWarning: `seed_generator` is deprecated and will be removed in a future version.\n",
      "  warnings.warn(\"`seed_generator` is deprecated and will be removed in a future version.\", UserWarning)\n"
     ]
    }
   ],
   "source": [
    "model.save('segmented_model_selected.keras')"
   ]
  },
  {
   "cell_type": "code",
   "execution_count": 15,
   "metadata": {},
   "outputs": [
    {
     "name": "stderr",
     "output_type": "stream",
     "text": [
      "/tmp/ipykernel_606958/2249171146.py:3: SettingWithCopyWarning: \n",
      "A value is trying to be set on a copy of a slice from a DataFrame.\n",
      "Try using .loc[row_indexer,col_indexer] = value instead\n",
      "\n",
      "See the caveats in the documentation: https://pandas.pydata.org/pandas-docs/stable/user_guide/indexing.html#returning-a-view-versus-a-copy\n",
      "  df_sf['segmented_data'] = df_sf['body'].apply(segment_and_tokenize)\n",
      "/tmp/ipykernel_606958/2249171146.py:4: SettingWithCopyWarning: \n",
      "A value is trying to be set on a copy of a slice from a DataFrame.\n",
      "Try using .loc[row_indexer,col_indexer] = value instead\n",
      "\n",
      "See the caveats in the documentation: https://pandas.pydata.org/pandas-docs/stable/user_guide/indexing.html#returning-a-view-versus-a-copy\n",
      "  df_sf[['tokens', 'attention_mask']] = pd.DataFrame(df_sf['segmented_data'].tolist(), index=df_sf.index)\n",
      "/tmp/ipykernel_606958/2249171146.py:4: SettingWithCopyWarning: \n",
      "A value is trying to be set on a copy of a slice from a DataFrame.\n",
      "Try using .loc[row_indexer,col_indexer] = value instead\n",
      "\n",
      "See the caveats in the documentation: https://pandas.pydata.org/pandas-docs/stable/user_guide/indexing.html#returning-a-view-versus-a-copy\n",
      "  df_sf[['tokens', 'attention_mask']] = pd.DataFrame(df_sf['segmented_data'].tolist(), index=df_sf.index)\n"
     ]
    },
    {
     "name": "stdout",
     "output_type": "stream",
     "text": [
      "4589/4589 [==============================] - 893s 194ms/step\n"
     ]
    }
   ],
   "source": [
    "df_sf = df[(df['selected'] == 0) & df['is_sf']]\n",
    "\n",
    "df_sf['segmented_data'] = df_sf['body'].apply(segment_and_tokenize)\n",
    "df_sf[['tokens', 'attention_mask']] = pd.DataFrame(df_sf['segmented_data'].tolist(), index=df_sf.index)\n",
    "\n",
    "inference_X_ids = np.array(df_sf['tokens'].tolist())\n",
    "inference_X_mask = np.array(df_sf['attention_mask'].tolist())\n",
    "\n",
    "\n",
    "# Make predictions\n",
    "predictions = model.predict([inference_X_ids, inference_X_mask])\n",
    "\n",
    "# Get the top 100 results\n",
    "top_1000_results = df_sf.iloc[predictions.argsort(axis=0)[-1000:].flatten()]\n"
   ]
  },
  {
   "cell_type": "code",
   "execution_count": 16,
   "metadata": {},
   "outputs": [],
   "source": [
    "# top_1000_results.to_csv('top_100_results.csv', index=False)"
   ]
  },
  {
   "cell_type": "code",
   "execution_count": 17,
   "metadata": {},
   "outputs": [],
   "source": [
    "top_1000_results['file_name'].to_csv('top_100_filenames.txt', index=False, header=False)\n"
   ]
  },
  {
   "cell_type": "code",
   "execution_count": 18,
   "metadata": {},
   "outputs": [
    {
     "name": "stdout",
     "output_type": "stream",
     "text": [
      "(182774), (565707), (746389), (182640), (649486), (749870), (335542), (553569), (507264), (363953), (533921), (454791), (533559), (199307), (401372), (667190), (548697), (379387), (635988), (244124), (357388), (361337), (719252), (442052), (667601), (465886), (112365), (496728), (656258), (534311), (235807), (663190), (471503), (501952), (663640), (108643), (715888), (663891), (118102), (595295), (664136), (664138), (435606), (534576), (235351), (244108), (639610), (611102), (565233), (389376), (540861), (501538), (555695), (93417), (652839), (352980), (121036), (606017), (388947), (547200), (142066), (177826), (461249), (752652), (156221), (180221), (78507), (669333), (534971), (748652), (55571), (189709), (462550), (391040), (506784), (721868), (260528), (191895), (723043), (642541), (219242), (96885), (508900), (679478), (584970), (121102), (508783), (690458), (603448), (330114), (667742), (477292), (477387), (748292), (593746), (260461), (256088), (679800), (591101), (249251), (165519), (490986), (513628), (533825), (499186), (136938), (363355), (698323), (539950), (363400), (637763), (539046), (265184), (645235), (567050), (734252), (734252), (89480), (418008), (294577), (564845), (568237), (747530), (319091), (283891), (147876), (226259), (589422), (374090), (382770), (681058), (659284), (557349), (484089), (615695), (721436), (91804), (340929), (94189), (593520), (717798), (716358), (408788), (560304), (404920), (478466), (346148), (584155), (246328), (552146), (345279), (410386), (551066), (69324), (563012), (726594), (427525), (34201), (356154), (613508), (561213), (237929), (16497), (192725), (747181), (316089), (227082), (620289), (715559), (754123), (634045), (724245), (577168), (751550), (688775), (553851), (156900), (53817), (631386), (68787), (338501), (467790), (583935), (585653), (743757), (424367), (378738), (668951), (714417), (531923), (233649), (704175), (625923), (507739), (683909), (660788), (541416), (181032), (181031), (684642), (524298), (289914), (566458), (721522), (539862), (166905), (558357), (567603), (625047), (526245), (534546), (650150), (653322), (229489), (229451), (678105), (669878), (330607), (692800), (691850), (747591), (348790), (620099), (608742), (421360), (421354), (421357), (421351), (421349), (421242), (62188), (329408), (284891), (684113), (292578), (687010), (421366), (421367), (421347), (301466), (403028), (350610), (96566), (709926), (95540), (673185), (615251), (363101), (266641), (664246), (421398), (421389), (421391), (421390), (421381), (421374), (421380), (421355), (308338), (641993), (353229), (664499), (596848), (222864), (716566), (514692), (727111), (388891), (625330), (753719), (304533), (565227), (464356), (682548), (155408), (463927), (654749), (719342), (463963), (331506), (578487), (463942), (586893), (173917), (586891), (673081), (364074), (432559), (417341), (89586), (555178), (672101), (505172), (704122), (330048), (564151), (672095), (518413), (572362), (505230), (750596), (704121), (527110), (321069), (471610), (678547), (678765), (343463), (158332), (367013), (501085), (109845), (592991), (158398), (202048), (173199), (596787), (596789), (342620), (673947), (308350), (410179), (644698), (373073), (503630), (732787), (732787), (486263), (174127), (166487), (665866), (676214), (171023), (687352), (533058), (539890), (515887), (598272), (155090), (480520), (674553), (592417), (726598), (586028), (475267), (660066), (749500), (398355), (464904), (398339), (572205), (686438), (333361), (577311), (549280), (300193), (687068), (452652), (698845), (14299), (700850), (737459), (735984), (639216), (639614), (716473), (146954), (599321), (732488), (140964), (732488), (753209), (741002), (201907), (173025), (172540), (528970), (631487), (674389), (421245), (750011), (667240), (577152), (530778), (744567), (497009), (672100), (516399), (177920), (177919), (593057), (613438), (496612), (461878), (496858), (502990), (401926), (639612), (74417), (312348), (715893), (595228), (570630), (427233), (594762), (265459), (631568), (478144), (498993), (462263), (346139), (75574), (523731), (734674), (734674), (572589), (638108), (505510), (685561), (680830), (634657), (291139), (523493), (723984), (519167), (607724), (444280), (565792), (479112), (161127), (593111), (665814), (451242), (585991), (729729), (533403), (109516), (161128), (747278), (672099), (478221), (729729), (594291), (544217), (556730), (560653), (567566), (478436), (501093), (297905), (396015), (685244), (173923), (607184), (312351), (396016), (691986), (433093), (686391), (572137), (594980), (653985), (670945), (95461), (74486), (599647), (599630), (375172), (202030), (353753), (733372), (614652), (721437), (733372), (404388), (254363), (556563), (201757), (333100), (608392), (720324), (697977), (525407), (712257), (628029), (499878), (572766), (733371), (671840), (107776), (715441), (578287), (717546), (614102), (742830), (645541), (471554), (636092), (153256), (615711), (576363), (733371), (350795), (582670), (600113), (249758), (354976), (745454), (700168), (162243), (289422), (689618), (308652), (704447), (89788), (512776), (585023), (621526), (320967), (468282), (65803), (664490), (154707), (527875), (460839), (572746), (572774), (660065), (617526), (115359), (676219), (634456), (714768), (173200), (365871), (748463), (514140), (602119), (750678), (109841), (113565), (667569), (393417), (242015), (650489), (380611), (632494), (190600), (414095), (678753), (95781), (581857), (272399), (484243), (426218), (624144), (690703), (89739), (607704), (596989), (618777), (367113), (121534), (659313), (647054), (652900), (652507), (567028), (143002), (710283), (418725), (592623), (619198), (668949), (535794), (326407), (679124), (216623), (68511), (217894), (217976), (678551), (517197), (589008), (723983), (442939), (666546), (326146), (720443), (419824), (318142), (390938), (67340), (415809), (415816), (593446), (593322), (641277), (620629), (733639), (387396), (455934), (718118), (643472), (719896), (375976), (601675), (572212), (648782), (384307), (733639), (717949), (291359), (679853), (456845), (592380), (536034), (563834), (641766), (583776), (204796), (674861), (718195), (569841), (564221), (454462), (529831), (589022), (383862), (588865), (334941), (581766), (375496), (454463), (710117), (668888), (507146), (572539), (652246), (110629), (696950), (58726), (707714), (399406), (338160), (679912), (688255), (561686), (598884), (109776), (349894), (93332), (601261), (604808), (608472), (601441), (668015), (600661), (354640), (327597), (413365), (542777), (227256), (273121), (496520), (463610), (398303), (496408), (276191), (748774), (460432), (273073), (200335), (642358), (733491), (666678), (733491), (401082), (605354), (645538), (744709), (526007), (329464), (202151), (751122), (198670), (581088), (200899), (722473), (219321), (598707), (528229), (530225), (530224), (199441), (202865), (143937), (144008), (679528), (717141), (154685), (154686), (199110), (198685), (505064), (685167), (626499), (745855), (313367), (92251), (523157), (523159), (716419), (714300), (750430), (645539), (741286), (740307), (520573), (745900), (573470), (620918), (609606), (548159), (646305), (80030), (646304), (68023), (646352), (640371), (548762), (631664), (631665), (747547), (532142), (642471), (590462), (522908), (157559), (630106), (613593), (613784), (646179), (635473), (640573), (730766), (732445), (633311), (730765), (633312), (730765), (625311), (732445), (640126), (463688), (640843), (501544), (730766), (572772), (619118), (93439), (189652), (110086), (380357), (326347), (154018), (488855), (444793), (495931), (538289), (489321), (134232), (628657), (668556), (698037), (632153), (326150), (533622), (82351), (677540), (584932), (266820), (603285), (448444), (670470), (737824), (714916), (715178), (534903), (567415), (594025), (449207), (547474), (555218), (712819), (221546), (705176), (513099), (67909), (702240), (626571), (129243), (259735), (700237), (700774), (202844), (224435), (632816), (216289), (323119), (248122), (747218), (191853), (591201), (461621), (591213), (709112), (621083), (593625), (220781), (620614), (672372), (740349), (409899), (581343), (749351), (367229), (749742), (625359), (750679), (736990), (636906), (348975), (603343), (567852), (387125), (369821), (220490), (457147), (575928), (738651), (453184), (385552), (742443), (100591), (608121), (66345), (662498), (535671), (558280), (200657), (598880), (364365), (8470), (498848), (15214), (359761), (551758), (92216), (386337), (610725), (602053), (717414), (569347), (594790), (733931), (729619), (155132), (586666), (729619), (733931), (222649), (588080), (525108), (571856), (514067), (715067), (529466), (452496), (558676), (89580), (359919), (426985), (734733), (672088), (474246), (753416), (597441), (584403), (582205), (754234), (652946), (297296), (582125), (355252), (585189), (475069), (599699), (628027), (746963), (342618), (603055), (746967), (746966), (472787), (350086), (603682), (746968), (643879), (522907), (94882), (531386), (746964), (605166), (597925), (269837), (687607), (253963), (276587), (462132), (619895), (312698), (198894), (113949), (600021), (277178), (256465), (564885), (424632), (683250), (749218), (528736), (595311), (686780), (650878), (551026), (593092), (496032), (691877), (746798), (595167), (721120), (740836), (392593), (409130), (494872), (594833), (540147), (227019), (329135), (680776), (660015), (525096), (470854), (183544), (325473), (673091), (651061), (285628), (409921), (180411), (337000), (499792), (668720), (692041), (680442), (489057), (385351), (742816), (154358), (422448), (413297), (98979), (641812), (659035), (671467), (248244), (685214), (709793), (110963), (644699), (683483), (286198), (737497), (234514), (75763), (234186), (234512), (625929), (588129), (235353), (177812), (605303), (683840), (623139), (599389), (496355), (539272), (621462), (179922)\n"
     ]
    }
   ],
   "source": [
    "file_names = top_1000_results['file_name'].tolist()\n",
    "file_names = [file_name[:-4] for file_name in file_names]\n",
    "insert_values = ', '.join([\"(\" + fn + \")\" for fn in file_names])\n",
    "print(insert_values)"
   ]
  }
 ],
 "metadata": {
  "kernelspec": {
   "display_name": "Python 3 (ipykernel)",
   "language": "python",
   "name": "python3"
  },
  "language_info": {
   "codemirror_mode": {
    "name": "ipython",
    "version": 3
   },
   "file_extension": ".py",
   "mimetype": "text/x-python",
   "name": "python",
   "nbconvert_exporter": "python",
   "pygments_lexer": "ipython3",
   "version": "3.10.12"
  }
 },
 "nbformat": 4,
 "nbformat_minor": 4
}
